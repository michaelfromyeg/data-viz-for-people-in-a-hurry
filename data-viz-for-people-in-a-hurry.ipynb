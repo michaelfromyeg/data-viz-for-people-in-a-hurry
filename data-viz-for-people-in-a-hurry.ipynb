{
 "cells": [
  {
   "cell_type": "markdown",
   "metadata": {
    "tags": []
   },
   "source": [
    "<h1 style=\"text-align: center;\">Data Visualization for People in a Hurry</h1>\n",
    "<p style=\"text-align: center;\"><i>an nwPlus workshop ✨</i></p>\n",
    "\n",
    "Workshop slides available [here](https://docs.google.com/presentation/d/e/2PACX-1vSPf9e7YfHleOqbkfxuiwXBQNh59jhZoULyXrwL1X1TO8I9IGdlG5lFN4zAlvFEtH0CNnOM_WhpyasR/pub?start=true&loop=true&delayms=30000).\n",
    "\n",
    "### Goals 🎯\n",
    "- Produce your first visualization of data using the R programming language\n",
    "- Learn about how data science can enhance your workflow in non-programming courses\n",
    "- Explore data science at UBC, in the context of hackathons, and in the working world\n",
    "\n",
    "\n",
    "### Links 🔗\n",
    "\n",
    "- **GitHub repository:** Source code [here](https://github.com/michaelfromyeg/data-viz-for-people-in-a-hurry) (currently private).\n",
    "- **Data set:** Available [here](https://www.kaggle.com/uciml/breast-cancer-wisconsin-data), from Kaggle, or [here](https://archive.ics.uci.edu/ml/datasets/Breast+Cancer+Wisconsin+(Diagnostic)), directly from UCI. It's also included in the repo!\n",
    "\n",
    "**Credits**\n",
    "\n",
    "I was inspired by a few other sources for this workshop that I recommend you check out!\n",
    "\n",
    "- [R Workshop Notes](http://tutorials.iq.harvard.edu/R/Rintro/Rintro.html), *Harvard University* — good background to R\n",
    "- [Learn X in Y Minutes: R](https://learnxinyminutes.com/docs/r/), *Learn X in Y Mintues* — good refresher for syntax\n",
    "- [Introduction to Data Science](https://ubc-dsci.github.io/introduction-to-datascience/index.html), *Tiffany-Anne Timbers, Trevor Campbell, Melissa Lee* — UBC's DSCI 100 course textbook"
   ]
  },
  {
   "cell_type": "markdown",
   "metadata": {},
   "source": [
    "##### PART I — 1 hour"
   ]
  },
  {
   "cell_type": "markdown",
   "metadata": {},
   "source": [
    "### 1—What is data science? 🤔\n",
    "⏱ **10 mins**\n",
    "\n",
    "See the [workshop slides](https://docs.google.com/presentation/d/e/2PACX-1vSPf9e7YfHleOqbkfxuiwXBQNh59jhZoULyXrwL1X1TO8I9IGdlG5lFN4zAlvFEtH0CNnOM_WhpyasR/pub?start=true&loop=true&delayms=30000) for more information.\n",
    "\n",
    "#### 1.1—An introduction to data science\n",
    "\n",
    "#### 1.2—A four part process\n",
    "\n",
    "#### 1.3—The big picture\n"
   ]
  },
  {
   "cell_type": "markdown",
   "metadata": {},
   "source": [
    "### 2—Wranglin' data 🤠\n",
    "⏱ **20 mins**\n",
    "\n",
    "#### 2.0—R\n",
    "\n",
    "R can be sometimes a bit tricky to read. Here's the basic syntax you need to know for today.\n",
    "\n",
    "- Assigning a variable\n",
    "- Method calls\n",
    "- Parameters\n",
    "- Printing to your notebook cell's output\n",
    "\n",
    "We'll learn each of these as we go, but up front, let's get comfortable with variables.\n",
    "\n",
    "#### Variables"
   ]
  },
  {
   "cell_type": "code",
   "execution_count": 1,
   "metadata": {},
   "outputs": [
    {
     "data": {
      "text/html": [
       "9"
      ],
      "text/latex": [
       "9"
      ],
      "text/markdown": [
       "9"
      ],
      "text/plain": [
       "[1] 9"
      ]
     },
     "metadata": {},
     "output_type": "display_data"
    }
   ],
   "source": [
    "# Variables\n",
    "## Hold on to data (allow you to save a result or calculation)\n",
    "## Can \"change\" (i.e., vary, hence variable)\n",
    "## One created, available anywhere in your program \n",
    "##   (including later blocks of code)\n",
    "\n",
    "## To assign a variable in R, we use a fancy arrow, \"<-\"\n",
    "## The arrow means, take the thing on the right hand side and save it\n",
    "## to the variable on the left\n",
    "\n",
    "5 + 4 # not saving the result\n",
    "x <- 5 + 4"
   ]
  },
  {
   "cell_type": "code",
   "execution_count": 2,
   "metadata": {},
   "outputs": [
    {
     "data": {
      "text/html": [
       "9"
      ],
      "text/latex": [
       "9"
      ],
      "text/markdown": [
       "9"
      ],
      "text/plain": [
       "[1] 9"
      ]
     },
     "metadata": {},
     "output_type": "display_data"
    },
    {
     "name": "stdout",
     "output_type": "stream",
     "text": [
      "[1] 9\n",
      "[1] 11\n"
     ]
    }
   ],
   "source": [
    "# Printing data\n",
    "## To print any data in R, we can simply \"put\" the variable on its own line\n",
    "## If you want to be more explicit about it you can also write `print(my_variable)`\n",
    "## Note the syntax here and lack of spaces. We write print(...), where ... is the variable we want to print. \n",
    "## It's often said that the ... is \"wrapped\".\n",
    "\n",
    "x # Can access x down here!\n",
    "print(x)\n",
    "print(x + 2)"
   ]
  },
  {
   "cell_type": "code",
   "execution_count": 3,
   "metadata": {},
   "outputs": [
    {
     "data": {
      "text/html": [
       "16"
      ],
      "text/latex": [
       "16"
      ],
      "text/markdown": [
       "16"
      ],
      "text/plain": [
       "[1] 16"
      ]
     },
     "metadata": {},
     "output_type": "display_data"
    }
   ],
   "source": [
    "# Your turn: in this cell, create a variable y that is equal to 7. \n",
    "# Then, created a variable z that is equal to the sum of x and y.\n",
    "# Finally, print z\n",
    "\n",
    "### BEGIN SOLUTION ###\n",
    "\n",
    "y <- 7\n",
    "z <- x + y\n",
    "z\n",
    "\n",
    "### END SOLUTION ###"
   ]
  },
  {
   "cell_type": "code",
   "execution_count": 4,
   "metadata": {},
   "outputs": [
    {
     "data": {
      "text/html": [
       "16"
      ],
      "text/latex": [
       "16"
      ],
      "text/markdown": [
       "16"
      ],
      "text/plain": [
       "[1] 16"
      ]
     },
     "metadata": {},
     "output_type": "display_data"
    }
   ],
   "source": [
    "# Your turn: change the value of x. Does the value of z change? Why or why not?\n",
    "\n",
    "### BEGIN SOLUTION ###\n",
    "\n",
    "x <- 0\n",
    "z\n",
    "\n",
    "# The value of z doesn't change, since it's been assigned to old x plus y; changing x doesn't change this sum \n",
    "# (this is subtle!)\n",
    "\n",
    "### END SOLUTION ###"
   ]
  },
  {
   "cell_type": "code",
   "execution_count": 5,
   "metadata": {},
   "outputs": [],
   "source": [
    "# Your turn: try getting R to compute the square root of 4.\n",
    "# Hint: square root shortens to sqrt"
   ]
  },
  {
   "cell_type": "code",
   "execution_count": 6,
   "metadata": {},
   "outputs": [],
   "source": [
    "# We can work with much more than just numbers. We also have \"strings\", which are basically text. \n",
    "# Note: We wrap strings in quotes \"\" to signify its a value, not a variable name.\n",
    "\n",
    "# Your turn: create a variable x, and assign it the value \"hello\". Create a value y and assign it world. \n",
    "\n",
    "### BEGIN SOLUTION ###\n",
    "\n",
    "x <- \"hello\"\n",
    "y <- \"world\"\n",
    "\n",
    "### END SOLUTION ###"
   ]
  },
  {
   "cell_type": "code",
   "execution_count": 7,
   "metadata": {},
   "outputs": [
    {
     "data": {
      "text/html": [
       "'hello world'"
      ],
      "text/latex": [
       "'hello world'"
      ],
      "text/markdown": [
       "'hello world'"
      ],
      "text/plain": [
       "[1] \"hello world\""
      ]
     },
     "metadata": {},
     "output_type": "display_data"
    }
   ],
   "source": [
    "paste(x, y) # Should be 'hello world'"
   ]
  },
  {
   "cell_type": "markdown",
   "metadata": {},
   "source": [
    "#### 2.1—Importing data\n",
    "\n",
    "The first step is to import our data set, but we have to learn a bit more about R to do that."
   ]
  },
  {
   "cell_type": "code",
   "execution_count": 15,
   "metadata": {},
   "outputs": [],
   "source": [
    "# Functions\n",
    "## This concept is very similar to math. Your classic y = f(x) is verymuchso the same concept in programming, \n",
    "## under the same name. We use functions to map 0-to-many inputs (called parameters, or arguments) to an \n",
    "## output, often called the result or return value. \n",
    "\n",
    "## The general form of a function *call* (this means we're using the function, that is, producing our y value) is,\n",
    "## result <- my_function(argument1, argument2, ..., argumentN) [see how this mirrors y = f(x)?]\n",
    "\n",
    "## When working with R, we very rarely create our own function (such as, saying h(x) = (x + 3) / 2), but we do use other\n",
    "## people's functions. Let's practice that!\n",
    "\n",
    "## Your turn: call the help function with a single argument, also just the text help (not the string \"help\"!)\n",
    "\n",
    "help(help)\n",
    "\n",
    "## Psst... this is how you can access help in R. Try typing in help(print) or help(paste)"
   ]
  },
  {
   "cell_type": "code",
   "execution_count": 17,
   "metadata": {},
   "outputs": [
    {
     "name": "stdout",
     "output_type": "stream",
     "text": [
      "[1] 5\n",
      "[1] \"nwPlus\"\n"
     ]
    }
   ],
   "source": [
    "## Your turn: call the print function twice. First, with the number 5, and second, with the string nwPlus.\n",
    "\n",
    "### BEGIN SOLUTION ###\n",
    "\n",
    "print(5)\n",
    "print(\"nwPlus\")\n",
    "\n",
    "### END SOLUTION ###"
   ]
  },
  {
   "cell_type": "code",
   "execution_count": 18,
   "metadata": {},
   "outputs": [
    {
     "name": "stderr",
     "output_type": "stream",
     "text": [
      "Installing package into 'C:/Users/mdema/R/win-library/4.0'\n",
      "(as 'lib' is unspecified)\n",
      "\n",
      "also installing the dependencies 'numDeriv', 'SQUAREM', 'lava', 'prodlim', 'iterators', 'data.table', 'gower', 'ipred', 'timeDate', 'foreach', 'plyr', 'ModelMetrics', 'reshape2', 'recipes', 'pROC'\n",
      "\n",
      "\n"
     ]
    },
    {
     "name": "stdout",
     "output_type": "stream",
     "text": [
      "package 'numDeriv' successfully unpacked and MD5 sums checked\n",
      "package 'SQUAREM' successfully unpacked and MD5 sums checked\n",
      "package 'lava' successfully unpacked and MD5 sums checked\n",
      "package 'prodlim' successfully unpacked and MD5 sums checked\n",
      "package 'iterators' successfully unpacked and MD5 sums checked\n",
      "package 'data.table' successfully unpacked and MD5 sums checked\n",
      "package 'gower' successfully unpacked and MD5 sums checked\n",
      "package 'ipred' successfully unpacked and MD5 sums checked\n",
      "package 'timeDate' successfully unpacked and MD5 sums checked\n",
      "package 'foreach' successfully unpacked and MD5 sums checked\n",
      "package 'plyr' successfully unpacked and MD5 sums checked\n",
      "package 'ModelMetrics' successfully unpacked and MD5 sums checked\n",
      "package 'reshape2' successfully unpacked and MD5 sums checked\n",
      "package 'recipes' successfully unpacked and MD5 sums checked\n",
      "package 'pROC' successfully unpacked and MD5 sums checked\n",
      "package 'caret' successfully unpacked and MD5 sums checked\n",
      "\n",
      "The downloaded binary packages are in\n",
      "\tC:\\Users\\mdema\\AppData\\Local\\Temp\\RtmpiOWNxj\\downloaded_packages\n"
     ]
    },
    {
     "name": "stderr",
     "output_type": "stream",
     "text": [
      "Loading required package: lattice\n",
      "\n",
      "\n",
      "Attaching package: 'caret'\n",
      "\n",
      "\n",
      "The following object is masked from 'package:purrr':\n",
      "\n",
      "    lift\n",
      "\n",
      "\n"
     ]
    }
   ],
   "source": [
    "# Libraries\n",
    "## To get access to more functions that are already \"built in\" to R, we need to access things called libraries.\n",
    "## You can think of libraries as collections of functions that make R much more powerful. \n",
    "## For today's workshop, we just need one library, called tidyverse. To import a library, we use the library(...) function;\n",
    "## it accepts a library's name as the parameter (not as a string, just the actual text name).\n",
    "\n",
    "## P.S. Sometimes, we need to install a library first before we use it. To do this, just run install.packages(\"...\") where\n",
    "## ... is the name of the desired library.\n",
    "\n",
    "## Your turn: install the caret package and import it \n",
    "\n",
    "### BEGIN SOLUTION ###\n",
    "\n",
    "install.packages(\"caret\")\n",
    "library(caret)\n",
    "\n",
    "### END SOLUTION ###"
   ]
  },
  {
   "cell_type": "code",
   "execution_count": 8,
   "metadata": {},
   "outputs": [
    {
     "name": "stderr",
     "output_type": "stream",
     "text": [
      "-- \u001b[1mAttaching packages\u001b[22m --------------------------------------- tidyverse 1.3.0 --\n",
      "\n",
      "\u001b[32mv\u001b[39m \u001b[34mggplot2\u001b[39m 3.3.2     \u001b[32mv\u001b[39m \u001b[34mpurrr  \u001b[39m 0.3.4\n",
      "\u001b[32mv\u001b[39m \u001b[34mtibble \u001b[39m 3.0.3     \u001b[32mv\u001b[39m \u001b[34mdplyr  \u001b[39m 1.0.2\n",
      "\u001b[32mv\u001b[39m \u001b[34mtidyr  \u001b[39m 1.1.2     \u001b[32mv\u001b[39m \u001b[34mstringr\u001b[39m 1.4.0\n",
      "\u001b[32mv\u001b[39m \u001b[34mreadr  \u001b[39m 1.3.1     \u001b[32mv\u001b[39m \u001b[34mforcats\u001b[39m 0.5.0\n",
      "\n",
      "-- \u001b[1mConflicts\u001b[22m ------------------------------------------ tidyverse_conflicts() --\n",
      "\u001b[31mx\u001b[39m \u001b[34mdplyr\u001b[39m::\u001b[32mfilter()\u001b[39m masks \u001b[34mstats\u001b[39m::filter()\n",
      "\u001b[31mx\u001b[39m \u001b[34mdplyr\u001b[39m::\u001b[32mlag()\u001b[39m    masks \u001b[34mstats\u001b[39m::lag()\n",
      "\n"
     ]
    }
   ],
   "source": [
    "## Now, finally, let's import the needed libraries for this workshop.\n",
    "\n",
    "install.packages(\"tidyverse\")\n",
    "library(tidyverse)"
   ]
  },
  {
   "cell_type": "code",
   "execution_count": 9,
   "metadata": {},
   "outputs": [
    {
     "name": "stderr",
     "output_type": "stream",
     "text": [
      "Warning message:\n",
      "\"Missing column names filled in: 'X33' [33]\"\n",
      "Parsed with column specification:\n",
      "cols(\n",
      "  .default = col_double(),\n",
      "  diagnosis = \u001b[31mcol_character()\u001b[39m,\n",
      "  X33 = \u001b[31mcol_character()\u001b[39m\n",
      ")\n",
      "\n",
      "See spec(...) for full column specifications.\n",
      "\n",
      "Warning message:\n",
      "\"569 parsing failures.\n",
      "row col   expected     actual       file\n",
      "  1  -- 33 columns 32 columns 'data.csv'\n",
      "  2  -- 33 columns 32 columns 'data.csv'\n",
      "  3  -- 33 columns 32 columns 'data.csv'\n",
      "  4  -- 33 columns 32 columns 'data.csv'\n",
      "  5  -- 33 columns 32 columns 'data.csv'\n",
      "... ... .......... .......... ..........\n",
      "See problems(...) for more details.\n",
      "\"\n"
     ]
    }
   ],
   "source": [
    "## With the tidyverse package, we get access to a function called `read_csv` that allows us to import data from a URL\n",
    "## (https://www...) or a local file.\n",
    "\n",
    "## Your turn: call the read_csv function with the argument data.csv (this is a local file). Save it to the variable\n",
    "## `cancer_data`\n",
    "\n",
    "### BEGIN SOLUTION ###\n",
    "\n",
    "cancer_data <- read_csv(\"data.csv\")\n",
    "\n",
    "### END SOLUTION ###"
   ]
  },
  {
   "cell_type": "code",
   "execution_count": 19,
   "metadata": {},
   "outputs": [
    {
     "data": {
      "text/html": [
       "<table>\n",
       "<caption>A spec_tbl_df: 569 × 33</caption>\n",
       "<thead>\n",
       "\t<tr><th scope=col>id</th><th scope=col>diagnosis</th><th scope=col>radius_mean</th><th scope=col>texture_mean</th><th scope=col>perimeter_mean</th><th scope=col>area_mean</th><th scope=col>smoothness_mean</th><th scope=col>compactness_mean</th><th scope=col>concavity_mean</th><th scope=col>concave points_mean</th><th scope=col>...</th><th scope=col>texture_worst</th><th scope=col>perimeter_worst</th><th scope=col>area_worst</th><th scope=col>smoothness_worst</th><th scope=col>compactness_worst</th><th scope=col>concavity_worst</th><th scope=col>concave points_worst</th><th scope=col>symmetry_worst</th><th scope=col>fractal_dimension_worst</th><th scope=col>X33</th></tr>\n",
       "\t<tr><th scope=col>&lt;dbl&gt;</th><th scope=col>&lt;chr&gt;</th><th scope=col>&lt;dbl&gt;</th><th scope=col>&lt;dbl&gt;</th><th scope=col>&lt;dbl&gt;</th><th scope=col>&lt;dbl&gt;</th><th scope=col>&lt;dbl&gt;</th><th scope=col>&lt;dbl&gt;</th><th scope=col>&lt;dbl&gt;</th><th scope=col>&lt;dbl&gt;</th><th scope=col>...</th><th scope=col>&lt;dbl&gt;</th><th scope=col>&lt;dbl&gt;</th><th scope=col>&lt;dbl&gt;</th><th scope=col>&lt;dbl&gt;</th><th scope=col>&lt;dbl&gt;</th><th scope=col>&lt;dbl&gt;</th><th scope=col>&lt;dbl&gt;</th><th scope=col>&lt;dbl&gt;</th><th scope=col>&lt;dbl&gt;</th><th scope=col>&lt;chr&gt;</th></tr>\n",
       "</thead>\n",
       "<tbody>\n",
       "\t<tr><td>  842302</td><td>M</td><td>17.990</td><td>10.38</td><td>122.80</td><td>1001.0</td><td>0.11840</td><td>0.27760</td><td>0.30010</td><td>0.14710</td><td>...</td><td>17.33</td><td>184.60</td><td>2019.0</td><td>0.1622</td><td>0.6656</td><td>0.71190</td><td>0.26540</td><td>0.4601</td><td>0.11890</td><td>NA</td></tr>\n",
       "\t<tr><td>  842517</td><td>M</td><td>20.570</td><td>17.77</td><td>132.90</td><td>1326.0</td><td>0.08474</td><td>0.07864</td><td>0.08690</td><td>0.07017</td><td>...</td><td>23.41</td><td>158.80</td><td>1956.0</td><td>0.1238</td><td>0.1866</td><td>0.24160</td><td>0.18600</td><td>0.2750</td><td>0.08902</td><td>NA</td></tr>\n",
       "\t<tr><td>84300903</td><td>M</td><td>19.690</td><td>21.25</td><td>130.00</td><td>1203.0</td><td>0.10960</td><td>0.15990</td><td>0.19740</td><td>0.12790</td><td>...</td><td>25.53</td><td>152.50</td><td>1709.0</td><td>0.1444</td><td>0.4245</td><td>0.45040</td><td>0.24300</td><td>0.3613</td><td>0.08758</td><td>NA</td></tr>\n",
       "\t<tr><td>84348301</td><td>M</td><td>11.420</td><td>20.38</td><td> 77.58</td><td> 386.1</td><td>0.14250</td><td>0.28390</td><td>0.24140</td><td>0.10520</td><td>...</td><td>26.50</td><td> 98.87</td><td> 567.7</td><td>0.2098</td><td>0.8663</td><td>0.68690</td><td>0.25750</td><td>0.6638</td><td>0.17300</td><td>NA</td></tr>\n",
       "\t<tr><td>84358402</td><td>M</td><td>20.290</td><td>14.34</td><td>135.10</td><td>1297.0</td><td>0.10030</td><td>0.13280</td><td>0.19800</td><td>0.10430</td><td>...</td><td>16.67</td><td>152.20</td><td>1575.0</td><td>0.1374</td><td>0.2050</td><td>0.40000</td><td>0.16250</td><td>0.2364</td><td>0.07678</td><td>NA</td></tr>\n",
       "\t<tr><td>  843786</td><td>M</td><td>12.450</td><td>15.70</td><td> 82.57</td><td> 477.1</td><td>0.12780</td><td>0.17000</td><td>0.15780</td><td>0.08089</td><td>...</td><td>23.75</td><td>103.40</td><td> 741.6</td><td>0.1791</td><td>0.5249</td><td>0.53550</td><td>0.17410</td><td>0.3985</td><td>0.12440</td><td>NA</td></tr>\n",
       "\t<tr><td>  844359</td><td>M</td><td>18.250</td><td>19.98</td><td>119.60</td><td>1040.0</td><td>0.09463</td><td>0.10900</td><td>0.11270</td><td>0.07400</td><td>...</td><td>27.66</td><td>153.20</td><td>1606.0</td><td>0.1442</td><td>0.2576</td><td>0.37840</td><td>0.19320</td><td>0.3063</td><td>0.08368</td><td>NA</td></tr>\n",
       "\t<tr><td>84458202</td><td>M</td><td>13.710</td><td>20.83</td><td> 90.20</td><td> 577.9</td><td>0.11890</td><td>0.16450</td><td>0.09366</td><td>0.05985</td><td>...</td><td>28.14</td><td>110.60</td><td> 897.0</td><td>0.1654</td><td>0.3682</td><td>0.26780</td><td>0.15560</td><td>0.3196</td><td>0.11510</td><td>NA</td></tr>\n",
       "\t<tr><td>  844981</td><td>M</td><td>13.000</td><td>21.82</td><td> 87.50</td><td> 519.8</td><td>0.12730</td><td>0.19320</td><td>0.18590</td><td>0.09353</td><td>...</td><td>30.73</td><td>106.20</td><td> 739.3</td><td>0.1703</td><td>0.5401</td><td>0.53900</td><td>0.20600</td><td>0.4378</td><td>0.10720</td><td>NA</td></tr>\n",
       "\t<tr><td>84501001</td><td>M</td><td>12.460</td><td>24.04</td><td> 83.97</td><td> 475.9</td><td>0.11860</td><td>0.23960</td><td>0.22730</td><td>0.08543</td><td>...</td><td>40.68</td><td> 97.65</td><td> 711.4</td><td>0.1853</td><td>1.0580</td><td>1.10500</td><td>0.22100</td><td>0.4366</td><td>0.20750</td><td>NA</td></tr>\n",
       "\t<tr><td>  845636</td><td>M</td><td>16.020</td><td>23.24</td><td>102.70</td><td> 797.8</td><td>0.08206</td><td>0.06669</td><td>0.03299</td><td>0.03323</td><td>...</td><td>33.88</td><td>123.80</td><td>1150.0</td><td>0.1181</td><td>0.1551</td><td>0.14590</td><td>0.09975</td><td>0.2948</td><td>0.08452</td><td>NA</td></tr>\n",
       "\t<tr><td>84610002</td><td>M</td><td>15.780</td><td>17.89</td><td>103.60</td><td> 781.0</td><td>0.09710</td><td>0.12920</td><td>0.09954</td><td>0.06606</td><td>...</td><td>27.28</td><td>136.50</td><td>1299.0</td><td>0.1396</td><td>0.5609</td><td>0.39650</td><td>0.18100</td><td>0.3792</td><td>0.10480</td><td>NA</td></tr>\n",
       "\t<tr><td>  846226</td><td>M</td><td>19.170</td><td>24.80</td><td>132.40</td><td>1123.0</td><td>0.09740</td><td>0.24580</td><td>0.20650</td><td>0.11180</td><td>...</td><td>29.94</td><td>151.70</td><td>1332.0</td><td>0.1037</td><td>0.3903</td><td>0.36390</td><td>0.17670</td><td>0.3176</td><td>0.10230</td><td>NA</td></tr>\n",
       "\t<tr><td>  846381</td><td>M</td><td>15.850</td><td>23.95</td><td>103.70</td><td> 782.7</td><td>0.08401</td><td>0.10020</td><td>0.09938</td><td>0.05364</td><td>...</td><td>27.66</td><td>112.00</td><td> 876.5</td><td>0.1131</td><td>0.1924</td><td>0.23220</td><td>0.11190</td><td>0.2809</td><td>0.06287</td><td>NA</td></tr>\n",
       "\t<tr><td>84667401</td><td>M</td><td>13.730</td><td>22.61</td><td> 93.60</td><td> 578.3</td><td>0.11310</td><td>0.22930</td><td>0.21280</td><td>0.08025</td><td>...</td><td>32.01</td><td>108.80</td><td> 697.7</td><td>0.1651</td><td>0.7725</td><td>0.69430</td><td>0.22080</td><td>0.3596</td><td>0.14310</td><td>NA</td></tr>\n",
       "\t<tr><td>84799002</td><td>M</td><td>14.540</td><td>27.54</td><td> 96.73</td><td> 658.8</td><td>0.11390</td><td>0.15950</td><td>0.16390</td><td>0.07364</td><td>...</td><td>37.13</td><td>124.10</td><td> 943.2</td><td>0.1678</td><td>0.6577</td><td>0.70260</td><td>0.17120</td><td>0.4218</td><td>0.13410</td><td>NA</td></tr>\n",
       "\t<tr><td>  848406</td><td>M</td><td>14.680</td><td>20.13</td><td> 94.74</td><td> 684.5</td><td>0.09867</td><td>0.07200</td><td>0.07395</td><td>0.05259</td><td>...</td><td>30.88</td><td>123.40</td><td>1138.0</td><td>0.1464</td><td>0.1871</td><td>0.29140</td><td>0.16090</td><td>0.3029</td><td>0.08216</td><td>NA</td></tr>\n",
       "\t<tr><td>84862001</td><td>M</td><td>16.130</td><td>20.68</td><td>108.10</td><td> 798.8</td><td>0.11700</td><td>0.20220</td><td>0.17220</td><td>0.10280</td><td>...</td><td>31.48</td><td>136.80</td><td>1315.0</td><td>0.1789</td><td>0.4233</td><td>0.47840</td><td>0.20730</td><td>0.3706</td><td>0.11420</td><td>NA</td></tr>\n",
       "\t<tr><td>  849014</td><td>M</td><td>19.810</td><td>22.15</td><td>130.00</td><td>1260.0</td><td>0.09831</td><td>0.10270</td><td>0.14790</td><td>0.09498</td><td>...</td><td>30.88</td><td>186.80</td><td>2398.0</td><td>0.1512</td><td>0.3150</td><td>0.53720</td><td>0.23880</td><td>0.2768</td><td>0.07615</td><td>NA</td></tr>\n",
       "\t<tr><td> 8510426</td><td>B</td><td>13.540</td><td>14.36</td><td> 87.46</td><td> 566.3</td><td>0.09779</td><td>0.08129</td><td>0.06664</td><td>0.04781</td><td>...</td><td>19.26</td><td> 99.70</td><td> 711.2</td><td>0.1440</td><td>0.1773</td><td>0.23900</td><td>0.12880</td><td>0.2977</td><td>0.07259</td><td>NA</td></tr>\n",
       "\t<tr><td> 8510653</td><td>B</td><td>13.080</td><td>15.71</td><td> 85.63</td><td> 520.0</td><td>0.10750</td><td>0.12700</td><td>0.04568</td><td>0.03110</td><td>...</td><td>20.49</td><td> 96.09</td><td> 630.5</td><td>0.1312</td><td>0.2776</td><td>0.18900</td><td>0.07283</td><td>0.3184</td><td>0.08183</td><td>NA</td></tr>\n",
       "\t<tr><td> 8510824</td><td>B</td><td> 9.504</td><td>12.44</td><td> 60.34</td><td> 273.9</td><td>0.10240</td><td>0.06492</td><td>0.02956</td><td>0.02076</td><td>...</td><td>15.66</td><td> 65.13</td><td> 314.9</td><td>0.1324</td><td>0.1148</td><td>0.08867</td><td>0.06227</td><td>0.2450</td><td>0.07773</td><td>NA</td></tr>\n",
       "\t<tr><td> 8511133</td><td>M</td><td>15.340</td><td>14.26</td><td>102.50</td><td> 704.4</td><td>0.10730</td><td>0.21350</td><td>0.20770</td><td>0.09756</td><td>...</td><td>19.08</td><td>125.10</td><td> 980.9</td><td>0.1390</td><td>0.5954</td><td>0.63050</td><td>0.23930</td><td>0.4667</td><td>0.09946</td><td>NA</td></tr>\n",
       "\t<tr><td>  851509</td><td>M</td><td>21.160</td><td>23.04</td><td>137.20</td><td>1404.0</td><td>0.09428</td><td>0.10220</td><td>0.10970</td><td>0.08632</td><td>...</td><td>35.59</td><td>188.00</td><td>2615.0</td><td>0.1401</td><td>0.2600</td><td>0.31550</td><td>0.20090</td><td>0.2822</td><td>0.07526</td><td>NA</td></tr>\n",
       "\t<tr><td>  852552</td><td>M</td><td>16.650</td><td>21.38</td><td>110.00</td><td> 904.6</td><td>0.11210</td><td>0.14570</td><td>0.15250</td><td>0.09170</td><td>...</td><td>31.56</td><td>177.00</td><td>2215.0</td><td>0.1805</td><td>0.3578</td><td>0.46950</td><td>0.20950</td><td>0.3613</td><td>0.09564</td><td>NA</td></tr>\n",
       "\t<tr><td>  852631</td><td>M</td><td>17.140</td><td>16.40</td><td>116.00</td><td> 912.7</td><td>0.11860</td><td>0.22760</td><td>0.22290</td><td>0.14010</td><td>...</td><td>21.40</td><td>152.40</td><td>1461.0</td><td>0.1545</td><td>0.3949</td><td>0.38530</td><td>0.25500</td><td>0.4066</td><td>0.10590</td><td>NA</td></tr>\n",
       "\t<tr><td>  852763</td><td>M</td><td>14.580</td><td>21.53</td><td> 97.41</td><td> 644.8</td><td>0.10540</td><td>0.18680</td><td>0.14250</td><td>0.08783</td><td>...</td><td>33.21</td><td>122.40</td><td> 896.9</td><td>0.1525</td><td>0.6643</td><td>0.55390</td><td>0.27010</td><td>0.4264</td><td>0.12750</td><td>NA</td></tr>\n",
       "\t<tr><td>  852781</td><td>M</td><td>18.610</td><td>20.25</td><td>122.10</td><td>1094.0</td><td>0.09440</td><td>0.10660</td><td>0.14900</td><td>0.07731</td><td>...</td><td>27.26</td><td>139.90</td><td>1403.0</td><td>0.1338</td><td>0.2117</td><td>0.34460</td><td>0.14900</td><td>0.2341</td><td>0.07421</td><td>NA</td></tr>\n",
       "\t<tr><td>  852973</td><td>M</td><td>15.300</td><td>25.27</td><td>102.40</td><td> 732.4</td><td>0.10820</td><td>0.16970</td><td>0.16830</td><td>0.08751</td><td>...</td><td>36.71</td><td>149.30</td><td>1269.0</td><td>0.1641</td><td>0.6110</td><td>0.63350</td><td>0.20240</td><td>0.4027</td><td>0.09876</td><td>NA</td></tr>\n",
       "\t<tr><td>  853201</td><td>M</td><td>17.570</td><td>15.05</td><td>115.00</td><td> 955.1</td><td>0.09847</td><td>0.11570</td><td>0.09875</td><td>0.07953</td><td>...</td><td>19.52</td><td>134.90</td><td>1227.0</td><td>0.1255</td><td>0.2812</td><td>0.24890</td><td>0.14560</td><td>0.2756</td><td>0.07919</td><td>NA</td></tr>\n",
       "\t<tr><td>...</td><td>...</td><td>...</td><td>...</td><td>...</td><td>...</td><td>...</td><td>...</td><td>...</td><td>...</td><td></td><td>...</td><td>...</td><td>...</td><td>...</td><td>...</td><td>...</td><td>...</td><td>...</td><td>...</td><td>...</td></tr>\n",
       "\t<tr><td>921362</td><td>B</td><td> 7.691</td><td>25.44</td><td> 48.34</td><td> 170.4</td><td>0.08668</td><td>0.11990</td><td>0.092520</td><td>0.013640</td><td>...</td><td>31.89</td><td> 54.49</td><td> 223.6</td><td>0.15960</td><td>0.30640</td><td>0.33930</td><td>0.05000</td><td>0.2790</td><td>0.10660</td><td>NA</td></tr>\n",
       "\t<tr><td>921385</td><td>B</td><td>11.540</td><td>14.44</td><td> 74.65</td><td> 402.9</td><td>0.09984</td><td>0.11200</td><td>0.067370</td><td>0.025940</td><td>...</td><td>19.68</td><td> 78.78</td><td> 457.8</td><td>0.13450</td><td>0.21180</td><td>0.17970</td><td>0.06918</td><td>0.2329</td><td>0.08134</td><td>NA</td></tr>\n",
       "\t<tr><td>921386</td><td>B</td><td>14.470</td><td>24.99</td><td> 95.81</td><td> 656.4</td><td>0.08837</td><td>0.12300</td><td>0.100900</td><td>0.038900</td><td>...</td><td>31.73</td><td>113.50</td><td> 808.9</td><td>0.13400</td><td>0.42020</td><td>0.40400</td><td>0.12050</td><td>0.3187</td><td>0.10230</td><td>NA</td></tr>\n",
       "\t<tr><td>921644</td><td>B</td><td>14.740</td><td>25.42</td><td> 94.70</td><td> 668.6</td><td>0.08275</td><td>0.07214</td><td>0.041050</td><td>0.030270</td><td>...</td><td>32.29</td><td>107.40</td><td> 826.4</td><td>0.10600</td><td>0.13760</td><td>0.16110</td><td>0.10950</td><td>0.2722</td><td>0.06956</td><td>NA</td></tr>\n",
       "\t<tr><td>922296</td><td>B</td><td>13.210</td><td>28.06</td><td> 84.88</td><td> 538.4</td><td>0.08671</td><td>0.06877</td><td>0.029870</td><td>0.032750</td><td>...</td><td>37.17</td><td> 92.48</td><td> 629.6</td><td>0.10720</td><td>0.13810</td><td>0.10620</td><td>0.07958</td><td>0.2473</td><td>0.06443</td><td>NA</td></tr>\n",
       "\t<tr><td>922297</td><td>B</td><td>13.870</td><td>20.70</td><td> 89.77</td><td> 584.8</td><td>0.09578</td><td>0.10180</td><td>0.036880</td><td>0.023690</td><td>...</td><td>24.75</td><td> 99.17</td><td> 688.6</td><td>0.12640</td><td>0.20370</td><td>0.13770</td><td>0.06845</td><td>0.2249</td><td>0.08492</td><td>NA</td></tr>\n",
       "\t<tr><td>922576</td><td>B</td><td>13.620</td><td>23.23</td><td> 87.19</td><td> 573.2</td><td>0.09246</td><td>0.06747</td><td>0.029740</td><td>0.024430</td><td>...</td><td>29.09</td><td> 97.58</td><td> 729.8</td><td>0.12160</td><td>0.15170</td><td>0.10490</td><td>0.07174</td><td>0.2642</td><td>0.06953</td><td>NA</td></tr>\n",
       "\t<tr><td>922577</td><td>B</td><td>10.320</td><td>16.35</td><td> 65.31</td><td> 324.9</td><td>0.09434</td><td>0.04994</td><td>0.010120</td><td>0.005495</td><td>...</td><td>21.77</td><td> 71.12</td><td> 384.9</td><td>0.12850</td><td>0.08842</td><td>0.04384</td><td>0.02381</td><td>0.2681</td><td>0.07399</td><td>NA</td></tr>\n",
       "\t<tr><td>922840</td><td>B</td><td>10.260</td><td>16.58</td><td> 65.85</td><td> 320.8</td><td>0.08877</td><td>0.08066</td><td>0.043580</td><td>0.024380</td><td>...</td><td>22.04</td><td> 71.08</td><td> 357.4</td><td>0.14610</td><td>0.22460</td><td>0.17830</td><td>0.08333</td><td>0.2691</td><td>0.09479</td><td>NA</td></tr>\n",
       "\t<tr><td>923169</td><td>B</td><td> 9.683</td><td>19.34</td><td> 61.05</td><td> 285.7</td><td>0.08491</td><td>0.05030</td><td>0.023370</td><td>0.009615</td><td>...</td><td>25.59</td><td> 69.10</td><td> 364.2</td><td>0.11990</td><td>0.09546</td><td>0.09350</td><td>0.03846</td><td>0.2552</td><td>0.07920</td><td>NA</td></tr>\n",
       "\t<tr><td>923465</td><td>B</td><td>10.820</td><td>24.21</td><td> 68.89</td><td> 361.6</td><td>0.08192</td><td>0.06602</td><td>0.015480</td><td>0.008160</td><td>...</td><td>31.45</td><td> 83.90</td><td> 505.6</td><td>0.12040</td><td>0.16330</td><td>0.06194</td><td>0.03264</td><td>0.3059</td><td>0.07626</td><td>NA</td></tr>\n",
       "\t<tr><td>923748</td><td>B</td><td>10.860</td><td>21.48</td><td> 68.51</td><td> 360.5</td><td>0.07431</td><td>0.04227</td><td>0.000000</td><td>0.000000</td><td>...</td><td>24.77</td><td> 74.08</td><td> 412.3</td><td>0.10010</td><td>0.07348</td><td>0.00000</td><td>0.00000</td><td>0.2458</td><td>0.06592</td><td>NA</td></tr>\n",
       "\t<tr><td>923780</td><td>B</td><td>11.130</td><td>22.44</td><td> 71.49</td><td> 378.4</td><td>0.09566</td><td>0.08194</td><td>0.048240</td><td>0.022570</td><td>...</td><td>28.26</td><td> 77.80</td><td> 436.6</td><td>0.10870</td><td>0.17820</td><td>0.15640</td><td>0.06413</td><td>0.3169</td><td>0.08032</td><td>NA</td></tr>\n",
       "\t<tr><td>924084</td><td>B</td><td>12.770</td><td>29.43</td><td> 81.35</td><td> 507.9</td><td>0.08276</td><td>0.04234</td><td>0.019970</td><td>0.014990</td><td>...</td><td>36.00</td><td> 88.10</td><td> 594.7</td><td>0.12340</td><td>0.10640</td><td>0.08653</td><td>0.06498</td><td>0.2407</td><td>0.06484</td><td>NA</td></tr>\n",
       "\t<tr><td>924342</td><td>B</td><td> 9.333</td><td>21.94</td><td> 59.01</td><td> 264.0</td><td>0.09240</td><td>0.05605</td><td>0.039960</td><td>0.012820</td><td>...</td><td>25.05</td><td> 62.86</td><td> 295.8</td><td>0.11030</td><td>0.08298</td><td>0.07993</td><td>0.02564</td><td>0.2435</td><td>0.07393</td><td>NA</td></tr>\n",
       "\t<tr><td>924632</td><td>B</td><td>12.880</td><td>28.92</td><td> 82.50</td><td> 514.3</td><td>0.08123</td><td>0.05824</td><td>0.061950</td><td>0.023430</td><td>...</td><td>35.74</td><td> 88.84</td><td> 595.7</td><td>0.12270</td><td>0.16200</td><td>0.24390</td><td>0.06493</td><td>0.2372</td><td>0.07242</td><td>NA</td></tr>\n",
       "\t<tr><td>924934</td><td>B</td><td>10.290</td><td>27.61</td><td> 65.67</td><td> 321.4</td><td>0.09030</td><td>0.07658</td><td>0.059990</td><td>0.027380</td><td>...</td><td>34.91</td><td> 69.57</td><td> 357.6</td><td>0.13840</td><td>0.17100</td><td>0.20000</td><td>0.09127</td><td>0.2226</td><td>0.08283</td><td>NA</td></tr>\n",
       "\t<tr><td>924964</td><td>B</td><td>10.160</td><td>19.59</td><td> 64.73</td><td> 311.7</td><td>0.10030</td><td>0.07504</td><td>0.005025</td><td>0.011160</td><td>...</td><td>22.88</td><td> 67.88</td><td> 347.3</td><td>0.12650</td><td>0.12000</td><td>0.01005</td><td>0.02232</td><td>0.2262</td><td>0.06742</td><td>NA</td></tr>\n",
       "\t<tr><td>925236</td><td>B</td><td> 9.423</td><td>27.88</td><td> 59.26</td><td> 271.3</td><td>0.08123</td><td>0.04971</td><td>0.000000</td><td>0.000000</td><td>...</td><td>34.24</td><td> 66.50</td><td> 330.6</td><td>0.10730</td><td>0.07158</td><td>0.00000</td><td>0.00000</td><td>0.2475</td><td>0.06969</td><td>NA</td></tr>\n",
       "\t<tr><td>925277</td><td>B</td><td>14.590</td><td>22.68</td><td> 96.39</td><td> 657.1</td><td>0.08473</td><td>0.13300</td><td>0.102900</td><td>0.037360</td><td>...</td><td>27.27</td><td>105.90</td><td> 733.5</td><td>0.10260</td><td>0.31710</td><td>0.36620</td><td>0.11050</td><td>0.2258</td><td>0.08004</td><td>NA</td></tr>\n",
       "\t<tr><td>925291</td><td>B</td><td>11.510</td><td>23.93</td><td> 74.52</td><td> 403.5</td><td>0.09261</td><td>0.10210</td><td>0.111200</td><td>0.041050</td><td>...</td><td>37.16</td><td> 82.28</td><td> 474.2</td><td>0.12980</td><td>0.25170</td><td>0.36300</td><td>0.09653</td><td>0.2112</td><td>0.08732</td><td>NA</td></tr>\n",
       "\t<tr><td>925292</td><td>B</td><td>14.050</td><td>27.15</td><td> 91.38</td><td> 600.4</td><td>0.09929</td><td>0.11260</td><td>0.044620</td><td>0.043040</td><td>...</td><td>33.17</td><td>100.20</td><td> 706.7</td><td>0.12410</td><td>0.22640</td><td>0.13260</td><td>0.10480</td><td>0.2250</td><td>0.08321</td><td>NA</td></tr>\n",
       "\t<tr><td>925311</td><td>B</td><td>11.200</td><td>29.37</td><td> 70.67</td><td> 386.0</td><td>0.07449</td><td>0.03558</td><td>0.000000</td><td>0.000000</td><td>...</td><td>38.30</td><td> 75.19</td><td> 439.6</td><td>0.09267</td><td>0.05494</td><td>0.00000</td><td>0.00000</td><td>0.1566</td><td>0.05905</td><td>NA</td></tr>\n",
       "\t<tr><td>925622</td><td>M</td><td>15.220</td><td>30.62</td><td>103.40</td><td> 716.9</td><td>0.10480</td><td>0.20870</td><td>0.255000</td><td>0.094290</td><td>...</td><td>42.79</td><td>128.70</td><td> 915.0</td><td>0.14170</td><td>0.79170</td><td>1.17000</td><td>0.23560</td><td>0.4089</td><td>0.14090</td><td>NA</td></tr>\n",
       "\t<tr><td>926125</td><td>M</td><td>20.920</td><td>25.09</td><td>143.00</td><td>1347.0</td><td>0.10990</td><td>0.22360</td><td>0.317400</td><td>0.147400</td><td>...</td><td>29.41</td><td>179.10</td><td>1819.0</td><td>0.14070</td><td>0.41860</td><td>0.65990</td><td>0.25420</td><td>0.2929</td><td>0.09873</td><td>NA</td></tr>\n",
       "\t<tr><td>926424</td><td>M</td><td>21.560</td><td>22.39</td><td>142.00</td><td>1479.0</td><td>0.11100</td><td>0.11590</td><td>0.243900</td><td>0.138900</td><td>...</td><td>26.40</td><td>166.10</td><td>2027.0</td><td>0.14100</td><td>0.21130</td><td>0.41070</td><td>0.22160</td><td>0.2060</td><td>0.07115</td><td>NA</td></tr>\n",
       "\t<tr><td>926682</td><td>M</td><td>20.130</td><td>28.25</td><td>131.20</td><td>1261.0</td><td>0.09780</td><td>0.10340</td><td>0.144000</td><td>0.097910</td><td>...</td><td>38.25</td><td>155.00</td><td>1731.0</td><td>0.11660</td><td>0.19220</td><td>0.32150</td><td>0.16280</td><td>0.2572</td><td>0.06637</td><td>NA</td></tr>\n",
       "\t<tr><td>926954</td><td>M</td><td>16.600</td><td>28.08</td><td>108.30</td><td> 858.1</td><td>0.08455</td><td>0.10230</td><td>0.092510</td><td>0.053020</td><td>...</td><td>34.12</td><td>126.70</td><td>1124.0</td><td>0.11390</td><td>0.30940</td><td>0.34030</td><td>0.14180</td><td>0.2218</td><td>0.07820</td><td>NA</td></tr>\n",
       "\t<tr><td>927241</td><td>M</td><td>20.600</td><td>29.33</td><td>140.10</td><td>1265.0</td><td>0.11780</td><td>0.27700</td><td>0.351400</td><td>0.152000</td><td>...</td><td>39.42</td><td>184.60</td><td>1821.0</td><td>0.16500</td><td>0.86810</td><td>0.93870</td><td>0.26500</td><td>0.4087</td><td>0.12400</td><td>NA</td></tr>\n",
       "\t<tr><td> 92751</td><td>B</td><td> 7.760</td><td>24.54</td><td> 47.92</td><td> 181.0</td><td>0.05263</td><td>0.04362</td><td>0.000000</td><td>0.000000</td><td>...</td><td>30.37</td><td> 59.16</td><td> 268.6</td><td>0.08996</td><td>0.06444</td><td>0.00000</td><td>0.00000</td><td>0.2871</td><td>0.07039</td><td>NA</td></tr>\n",
       "</tbody>\n",
       "</table>\n"
      ],
      "text/latex": [
       "A spec\\_tbl\\_df: 569 × 33\n",
       "\\begin{tabular}{lllllllllllllllllllll}\n",
       " id & diagnosis & radius\\_mean & texture\\_mean & perimeter\\_mean & area\\_mean & smoothness\\_mean & compactness\\_mean & concavity\\_mean & concave points\\_mean & ... & texture\\_worst & perimeter\\_worst & area\\_worst & smoothness\\_worst & compactness\\_worst & concavity\\_worst & concave points\\_worst & symmetry\\_worst & fractal\\_dimension\\_worst & X33\\\\\n",
       " <dbl> & <chr> & <dbl> & <dbl> & <dbl> & <dbl> & <dbl> & <dbl> & <dbl> & <dbl> & ... & <dbl> & <dbl> & <dbl> & <dbl> & <dbl> & <dbl> & <dbl> & <dbl> & <dbl> & <chr>\\\\\n",
       "\\hline\n",
       "\t   842302 & M & 17.990 & 10.38 & 122.80 & 1001.0 & 0.11840 & 0.27760 & 0.30010 & 0.14710 & ... & 17.33 & 184.60 & 2019.0 & 0.1622 & 0.6656 & 0.71190 & 0.26540 & 0.4601 & 0.11890 & NA\\\\\n",
       "\t   842517 & M & 20.570 & 17.77 & 132.90 & 1326.0 & 0.08474 & 0.07864 & 0.08690 & 0.07017 & ... & 23.41 & 158.80 & 1956.0 & 0.1238 & 0.1866 & 0.24160 & 0.18600 & 0.2750 & 0.08902 & NA\\\\\n",
       "\t 84300903 & M & 19.690 & 21.25 & 130.00 & 1203.0 & 0.10960 & 0.15990 & 0.19740 & 0.12790 & ... & 25.53 & 152.50 & 1709.0 & 0.1444 & 0.4245 & 0.45040 & 0.24300 & 0.3613 & 0.08758 & NA\\\\\n",
       "\t 84348301 & M & 11.420 & 20.38 &  77.58 &  386.1 & 0.14250 & 0.28390 & 0.24140 & 0.10520 & ... & 26.50 &  98.87 &  567.7 & 0.2098 & 0.8663 & 0.68690 & 0.25750 & 0.6638 & 0.17300 & NA\\\\\n",
       "\t 84358402 & M & 20.290 & 14.34 & 135.10 & 1297.0 & 0.10030 & 0.13280 & 0.19800 & 0.10430 & ... & 16.67 & 152.20 & 1575.0 & 0.1374 & 0.2050 & 0.40000 & 0.16250 & 0.2364 & 0.07678 & NA\\\\\n",
       "\t   843786 & M & 12.450 & 15.70 &  82.57 &  477.1 & 0.12780 & 0.17000 & 0.15780 & 0.08089 & ... & 23.75 & 103.40 &  741.6 & 0.1791 & 0.5249 & 0.53550 & 0.17410 & 0.3985 & 0.12440 & NA\\\\\n",
       "\t   844359 & M & 18.250 & 19.98 & 119.60 & 1040.0 & 0.09463 & 0.10900 & 0.11270 & 0.07400 & ... & 27.66 & 153.20 & 1606.0 & 0.1442 & 0.2576 & 0.37840 & 0.19320 & 0.3063 & 0.08368 & NA\\\\\n",
       "\t 84458202 & M & 13.710 & 20.83 &  90.20 &  577.9 & 0.11890 & 0.16450 & 0.09366 & 0.05985 & ... & 28.14 & 110.60 &  897.0 & 0.1654 & 0.3682 & 0.26780 & 0.15560 & 0.3196 & 0.11510 & NA\\\\\n",
       "\t   844981 & M & 13.000 & 21.82 &  87.50 &  519.8 & 0.12730 & 0.19320 & 0.18590 & 0.09353 & ... & 30.73 & 106.20 &  739.3 & 0.1703 & 0.5401 & 0.53900 & 0.20600 & 0.4378 & 0.10720 & NA\\\\\n",
       "\t 84501001 & M & 12.460 & 24.04 &  83.97 &  475.9 & 0.11860 & 0.23960 & 0.22730 & 0.08543 & ... & 40.68 &  97.65 &  711.4 & 0.1853 & 1.0580 & 1.10500 & 0.22100 & 0.4366 & 0.20750 & NA\\\\\n",
       "\t   845636 & M & 16.020 & 23.24 & 102.70 &  797.8 & 0.08206 & 0.06669 & 0.03299 & 0.03323 & ... & 33.88 & 123.80 & 1150.0 & 0.1181 & 0.1551 & 0.14590 & 0.09975 & 0.2948 & 0.08452 & NA\\\\\n",
       "\t 84610002 & M & 15.780 & 17.89 & 103.60 &  781.0 & 0.09710 & 0.12920 & 0.09954 & 0.06606 & ... & 27.28 & 136.50 & 1299.0 & 0.1396 & 0.5609 & 0.39650 & 0.18100 & 0.3792 & 0.10480 & NA\\\\\n",
       "\t   846226 & M & 19.170 & 24.80 & 132.40 & 1123.0 & 0.09740 & 0.24580 & 0.20650 & 0.11180 & ... & 29.94 & 151.70 & 1332.0 & 0.1037 & 0.3903 & 0.36390 & 0.17670 & 0.3176 & 0.10230 & NA\\\\\n",
       "\t   846381 & M & 15.850 & 23.95 & 103.70 &  782.7 & 0.08401 & 0.10020 & 0.09938 & 0.05364 & ... & 27.66 & 112.00 &  876.5 & 0.1131 & 0.1924 & 0.23220 & 0.11190 & 0.2809 & 0.06287 & NA\\\\\n",
       "\t 84667401 & M & 13.730 & 22.61 &  93.60 &  578.3 & 0.11310 & 0.22930 & 0.21280 & 0.08025 & ... & 32.01 & 108.80 &  697.7 & 0.1651 & 0.7725 & 0.69430 & 0.22080 & 0.3596 & 0.14310 & NA\\\\\n",
       "\t 84799002 & M & 14.540 & 27.54 &  96.73 &  658.8 & 0.11390 & 0.15950 & 0.16390 & 0.07364 & ... & 37.13 & 124.10 &  943.2 & 0.1678 & 0.6577 & 0.70260 & 0.17120 & 0.4218 & 0.13410 & NA\\\\\n",
       "\t   848406 & M & 14.680 & 20.13 &  94.74 &  684.5 & 0.09867 & 0.07200 & 0.07395 & 0.05259 & ... & 30.88 & 123.40 & 1138.0 & 0.1464 & 0.1871 & 0.29140 & 0.16090 & 0.3029 & 0.08216 & NA\\\\\n",
       "\t 84862001 & M & 16.130 & 20.68 & 108.10 &  798.8 & 0.11700 & 0.20220 & 0.17220 & 0.10280 & ... & 31.48 & 136.80 & 1315.0 & 0.1789 & 0.4233 & 0.47840 & 0.20730 & 0.3706 & 0.11420 & NA\\\\\n",
       "\t   849014 & M & 19.810 & 22.15 & 130.00 & 1260.0 & 0.09831 & 0.10270 & 0.14790 & 0.09498 & ... & 30.88 & 186.80 & 2398.0 & 0.1512 & 0.3150 & 0.53720 & 0.23880 & 0.2768 & 0.07615 & NA\\\\\n",
       "\t  8510426 & B & 13.540 & 14.36 &  87.46 &  566.3 & 0.09779 & 0.08129 & 0.06664 & 0.04781 & ... & 19.26 &  99.70 &  711.2 & 0.1440 & 0.1773 & 0.23900 & 0.12880 & 0.2977 & 0.07259 & NA\\\\\n",
       "\t  8510653 & B & 13.080 & 15.71 &  85.63 &  520.0 & 0.10750 & 0.12700 & 0.04568 & 0.03110 & ... & 20.49 &  96.09 &  630.5 & 0.1312 & 0.2776 & 0.18900 & 0.07283 & 0.3184 & 0.08183 & NA\\\\\n",
       "\t  8510824 & B &  9.504 & 12.44 &  60.34 &  273.9 & 0.10240 & 0.06492 & 0.02956 & 0.02076 & ... & 15.66 &  65.13 &  314.9 & 0.1324 & 0.1148 & 0.08867 & 0.06227 & 0.2450 & 0.07773 & NA\\\\\n",
       "\t  8511133 & M & 15.340 & 14.26 & 102.50 &  704.4 & 0.10730 & 0.21350 & 0.20770 & 0.09756 & ... & 19.08 & 125.10 &  980.9 & 0.1390 & 0.5954 & 0.63050 & 0.23930 & 0.4667 & 0.09946 & NA\\\\\n",
       "\t   851509 & M & 21.160 & 23.04 & 137.20 & 1404.0 & 0.09428 & 0.10220 & 0.10970 & 0.08632 & ... & 35.59 & 188.00 & 2615.0 & 0.1401 & 0.2600 & 0.31550 & 0.20090 & 0.2822 & 0.07526 & NA\\\\\n",
       "\t   852552 & M & 16.650 & 21.38 & 110.00 &  904.6 & 0.11210 & 0.14570 & 0.15250 & 0.09170 & ... & 31.56 & 177.00 & 2215.0 & 0.1805 & 0.3578 & 0.46950 & 0.20950 & 0.3613 & 0.09564 & NA\\\\\n",
       "\t   852631 & M & 17.140 & 16.40 & 116.00 &  912.7 & 0.11860 & 0.22760 & 0.22290 & 0.14010 & ... & 21.40 & 152.40 & 1461.0 & 0.1545 & 0.3949 & 0.38530 & 0.25500 & 0.4066 & 0.10590 & NA\\\\\n",
       "\t   852763 & M & 14.580 & 21.53 &  97.41 &  644.8 & 0.10540 & 0.18680 & 0.14250 & 0.08783 & ... & 33.21 & 122.40 &  896.9 & 0.1525 & 0.6643 & 0.55390 & 0.27010 & 0.4264 & 0.12750 & NA\\\\\n",
       "\t   852781 & M & 18.610 & 20.25 & 122.10 & 1094.0 & 0.09440 & 0.10660 & 0.14900 & 0.07731 & ... & 27.26 & 139.90 & 1403.0 & 0.1338 & 0.2117 & 0.34460 & 0.14900 & 0.2341 & 0.07421 & NA\\\\\n",
       "\t   852973 & M & 15.300 & 25.27 & 102.40 &  732.4 & 0.10820 & 0.16970 & 0.16830 & 0.08751 & ... & 36.71 & 149.30 & 1269.0 & 0.1641 & 0.6110 & 0.63350 & 0.20240 & 0.4027 & 0.09876 & NA\\\\\n",
       "\t   853201 & M & 17.570 & 15.05 & 115.00 &  955.1 & 0.09847 & 0.11570 & 0.09875 & 0.07953 & ... & 19.52 & 134.90 & 1227.0 & 0.1255 & 0.2812 & 0.24890 & 0.14560 & 0.2756 & 0.07919 & NA\\\\\n",
       "\t ... & ... & ... & ... & ... & ... & ... & ... & ... & ... &  & ... & ... & ... & ... & ... & ... & ... & ... & ... & ...\\\\\n",
       "\t 921362 & B &  7.691 & 25.44 &  48.34 &  170.4 & 0.08668 & 0.11990 & 0.092520 & 0.013640 & ... & 31.89 &  54.49 &  223.6 & 0.15960 & 0.30640 & 0.33930 & 0.05000 & 0.2790 & 0.10660 & NA\\\\\n",
       "\t 921385 & B & 11.540 & 14.44 &  74.65 &  402.9 & 0.09984 & 0.11200 & 0.067370 & 0.025940 & ... & 19.68 &  78.78 &  457.8 & 0.13450 & 0.21180 & 0.17970 & 0.06918 & 0.2329 & 0.08134 & NA\\\\\n",
       "\t 921386 & B & 14.470 & 24.99 &  95.81 &  656.4 & 0.08837 & 0.12300 & 0.100900 & 0.038900 & ... & 31.73 & 113.50 &  808.9 & 0.13400 & 0.42020 & 0.40400 & 0.12050 & 0.3187 & 0.10230 & NA\\\\\n",
       "\t 921644 & B & 14.740 & 25.42 &  94.70 &  668.6 & 0.08275 & 0.07214 & 0.041050 & 0.030270 & ... & 32.29 & 107.40 &  826.4 & 0.10600 & 0.13760 & 0.16110 & 0.10950 & 0.2722 & 0.06956 & NA\\\\\n",
       "\t 922296 & B & 13.210 & 28.06 &  84.88 &  538.4 & 0.08671 & 0.06877 & 0.029870 & 0.032750 & ... & 37.17 &  92.48 &  629.6 & 0.10720 & 0.13810 & 0.10620 & 0.07958 & 0.2473 & 0.06443 & NA\\\\\n",
       "\t 922297 & B & 13.870 & 20.70 &  89.77 &  584.8 & 0.09578 & 0.10180 & 0.036880 & 0.023690 & ... & 24.75 &  99.17 &  688.6 & 0.12640 & 0.20370 & 0.13770 & 0.06845 & 0.2249 & 0.08492 & NA\\\\\n",
       "\t 922576 & B & 13.620 & 23.23 &  87.19 &  573.2 & 0.09246 & 0.06747 & 0.029740 & 0.024430 & ... & 29.09 &  97.58 &  729.8 & 0.12160 & 0.15170 & 0.10490 & 0.07174 & 0.2642 & 0.06953 & NA\\\\\n",
       "\t 922577 & B & 10.320 & 16.35 &  65.31 &  324.9 & 0.09434 & 0.04994 & 0.010120 & 0.005495 & ... & 21.77 &  71.12 &  384.9 & 0.12850 & 0.08842 & 0.04384 & 0.02381 & 0.2681 & 0.07399 & NA\\\\\n",
       "\t 922840 & B & 10.260 & 16.58 &  65.85 &  320.8 & 0.08877 & 0.08066 & 0.043580 & 0.024380 & ... & 22.04 &  71.08 &  357.4 & 0.14610 & 0.22460 & 0.17830 & 0.08333 & 0.2691 & 0.09479 & NA\\\\\n",
       "\t 923169 & B &  9.683 & 19.34 &  61.05 &  285.7 & 0.08491 & 0.05030 & 0.023370 & 0.009615 & ... & 25.59 &  69.10 &  364.2 & 0.11990 & 0.09546 & 0.09350 & 0.03846 & 0.2552 & 0.07920 & NA\\\\\n",
       "\t 923465 & B & 10.820 & 24.21 &  68.89 &  361.6 & 0.08192 & 0.06602 & 0.015480 & 0.008160 & ... & 31.45 &  83.90 &  505.6 & 0.12040 & 0.16330 & 0.06194 & 0.03264 & 0.3059 & 0.07626 & NA\\\\\n",
       "\t 923748 & B & 10.860 & 21.48 &  68.51 &  360.5 & 0.07431 & 0.04227 & 0.000000 & 0.000000 & ... & 24.77 &  74.08 &  412.3 & 0.10010 & 0.07348 & 0.00000 & 0.00000 & 0.2458 & 0.06592 & NA\\\\\n",
       "\t 923780 & B & 11.130 & 22.44 &  71.49 &  378.4 & 0.09566 & 0.08194 & 0.048240 & 0.022570 & ... & 28.26 &  77.80 &  436.6 & 0.10870 & 0.17820 & 0.15640 & 0.06413 & 0.3169 & 0.08032 & NA\\\\\n",
       "\t 924084 & B & 12.770 & 29.43 &  81.35 &  507.9 & 0.08276 & 0.04234 & 0.019970 & 0.014990 & ... & 36.00 &  88.10 &  594.7 & 0.12340 & 0.10640 & 0.08653 & 0.06498 & 0.2407 & 0.06484 & NA\\\\\n",
       "\t 924342 & B &  9.333 & 21.94 &  59.01 &  264.0 & 0.09240 & 0.05605 & 0.039960 & 0.012820 & ... & 25.05 &  62.86 &  295.8 & 0.11030 & 0.08298 & 0.07993 & 0.02564 & 0.2435 & 0.07393 & NA\\\\\n",
       "\t 924632 & B & 12.880 & 28.92 &  82.50 &  514.3 & 0.08123 & 0.05824 & 0.061950 & 0.023430 & ... & 35.74 &  88.84 &  595.7 & 0.12270 & 0.16200 & 0.24390 & 0.06493 & 0.2372 & 0.07242 & NA\\\\\n",
       "\t 924934 & B & 10.290 & 27.61 &  65.67 &  321.4 & 0.09030 & 0.07658 & 0.059990 & 0.027380 & ... & 34.91 &  69.57 &  357.6 & 0.13840 & 0.17100 & 0.20000 & 0.09127 & 0.2226 & 0.08283 & NA\\\\\n",
       "\t 924964 & B & 10.160 & 19.59 &  64.73 &  311.7 & 0.10030 & 0.07504 & 0.005025 & 0.011160 & ... & 22.88 &  67.88 &  347.3 & 0.12650 & 0.12000 & 0.01005 & 0.02232 & 0.2262 & 0.06742 & NA\\\\\n",
       "\t 925236 & B &  9.423 & 27.88 &  59.26 &  271.3 & 0.08123 & 0.04971 & 0.000000 & 0.000000 & ... & 34.24 &  66.50 &  330.6 & 0.10730 & 0.07158 & 0.00000 & 0.00000 & 0.2475 & 0.06969 & NA\\\\\n",
       "\t 925277 & B & 14.590 & 22.68 &  96.39 &  657.1 & 0.08473 & 0.13300 & 0.102900 & 0.037360 & ... & 27.27 & 105.90 &  733.5 & 0.10260 & 0.31710 & 0.36620 & 0.11050 & 0.2258 & 0.08004 & NA\\\\\n",
       "\t 925291 & B & 11.510 & 23.93 &  74.52 &  403.5 & 0.09261 & 0.10210 & 0.111200 & 0.041050 & ... & 37.16 &  82.28 &  474.2 & 0.12980 & 0.25170 & 0.36300 & 0.09653 & 0.2112 & 0.08732 & NA\\\\\n",
       "\t 925292 & B & 14.050 & 27.15 &  91.38 &  600.4 & 0.09929 & 0.11260 & 0.044620 & 0.043040 & ... & 33.17 & 100.20 &  706.7 & 0.12410 & 0.22640 & 0.13260 & 0.10480 & 0.2250 & 0.08321 & NA\\\\\n",
       "\t 925311 & B & 11.200 & 29.37 &  70.67 &  386.0 & 0.07449 & 0.03558 & 0.000000 & 0.000000 & ... & 38.30 &  75.19 &  439.6 & 0.09267 & 0.05494 & 0.00000 & 0.00000 & 0.1566 & 0.05905 & NA\\\\\n",
       "\t 925622 & M & 15.220 & 30.62 & 103.40 &  716.9 & 0.10480 & 0.20870 & 0.255000 & 0.094290 & ... & 42.79 & 128.70 &  915.0 & 0.14170 & 0.79170 & 1.17000 & 0.23560 & 0.4089 & 0.14090 & NA\\\\\n",
       "\t 926125 & M & 20.920 & 25.09 & 143.00 & 1347.0 & 0.10990 & 0.22360 & 0.317400 & 0.147400 & ... & 29.41 & 179.10 & 1819.0 & 0.14070 & 0.41860 & 0.65990 & 0.25420 & 0.2929 & 0.09873 & NA\\\\\n",
       "\t 926424 & M & 21.560 & 22.39 & 142.00 & 1479.0 & 0.11100 & 0.11590 & 0.243900 & 0.138900 & ... & 26.40 & 166.10 & 2027.0 & 0.14100 & 0.21130 & 0.41070 & 0.22160 & 0.2060 & 0.07115 & NA\\\\\n",
       "\t 926682 & M & 20.130 & 28.25 & 131.20 & 1261.0 & 0.09780 & 0.10340 & 0.144000 & 0.097910 & ... & 38.25 & 155.00 & 1731.0 & 0.11660 & 0.19220 & 0.32150 & 0.16280 & 0.2572 & 0.06637 & NA\\\\\n",
       "\t 926954 & M & 16.600 & 28.08 & 108.30 &  858.1 & 0.08455 & 0.10230 & 0.092510 & 0.053020 & ... & 34.12 & 126.70 & 1124.0 & 0.11390 & 0.30940 & 0.34030 & 0.14180 & 0.2218 & 0.07820 & NA\\\\\n",
       "\t 927241 & M & 20.600 & 29.33 & 140.10 & 1265.0 & 0.11780 & 0.27700 & 0.351400 & 0.152000 & ... & 39.42 & 184.60 & 1821.0 & 0.16500 & 0.86810 & 0.93870 & 0.26500 & 0.4087 & 0.12400 & NA\\\\\n",
       "\t  92751 & B &  7.760 & 24.54 &  47.92 &  181.0 & 0.05263 & 0.04362 & 0.000000 & 0.000000 & ... & 30.37 &  59.16 &  268.6 & 0.08996 & 0.06444 & 0.00000 & 0.00000 & 0.2871 & 0.07039 & NA\\\\\n",
       "\\end{tabular}\n"
      ],
      "text/markdown": [
       "\n",
       "A spec_tbl_df: 569 × 33\n",
       "\n",
       "| id &lt;dbl&gt; | diagnosis &lt;chr&gt; | radius_mean &lt;dbl&gt; | texture_mean &lt;dbl&gt; | perimeter_mean &lt;dbl&gt; | area_mean &lt;dbl&gt; | smoothness_mean &lt;dbl&gt; | compactness_mean &lt;dbl&gt; | concavity_mean &lt;dbl&gt; | concave points_mean &lt;dbl&gt; | ... ... | texture_worst &lt;dbl&gt; | perimeter_worst &lt;dbl&gt; | area_worst &lt;dbl&gt; | smoothness_worst &lt;dbl&gt; | compactness_worst &lt;dbl&gt; | concavity_worst &lt;dbl&gt; | concave points_worst &lt;dbl&gt; | symmetry_worst &lt;dbl&gt; | fractal_dimension_worst &lt;dbl&gt; | X33 &lt;chr&gt; |\n",
       "|---|---|---|---|---|---|---|---|---|---|---|---|---|---|---|---|---|---|---|---|---|\n",
       "|   842302 | M | 17.990 | 10.38 | 122.80 | 1001.0 | 0.11840 | 0.27760 | 0.30010 | 0.14710 | ... | 17.33 | 184.60 | 2019.0 | 0.1622 | 0.6656 | 0.71190 | 0.26540 | 0.4601 | 0.11890 | NA |\n",
       "|   842517 | M | 20.570 | 17.77 | 132.90 | 1326.0 | 0.08474 | 0.07864 | 0.08690 | 0.07017 | ... | 23.41 | 158.80 | 1956.0 | 0.1238 | 0.1866 | 0.24160 | 0.18600 | 0.2750 | 0.08902 | NA |\n",
       "| 84300903 | M | 19.690 | 21.25 | 130.00 | 1203.0 | 0.10960 | 0.15990 | 0.19740 | 0.12790 | ... | 25.53 | 152.50 | 1709.0 | 0.1444 | 0.4245 | 0.45040 | 0.24300 | 0.3613 | 0.08758 | NA |\n",
       "| 84348301 | M | 11.420 | 20.38 |  77.58 |  386.1 | 0.14250 | 0.28390 | 0.24140 | 0.10520 | ... | 26.50 |  98.87 |  567.7 | 0.2098 | 0.8663 | 0.68690 | 0.25750 | 0.6638 | 0.17300 | NA |\n",
       "| 84358402 | M | 20.290 | 14.34 | 135.10 | 1297.0 | 0.10030 | 0.13280 | 0.19800 | 0.10430 | ... | 16.67 | 152.20 | 1575.0 | 0.1374 | 0.2050 | 0.40000 | 0.16250 | 0.2364 | 0.07678 | NA |\n",
       "|   843786 | M | 12.450 | 15.70 |  82.57 |  477.1 | 0.12780 | 0.17000 | 0.15780 | 0.08089 | ... | 23.75 | 103.40 |  741.6 | 0.1791 | 0.5249 | 0.53550 | 0.17410 | 0.3985 | 0.12440 | NA |\n",
       "|   844359 | M | 18.250 | 19.98 | 119.60 | 1040.0 | 0.09463 | 0.10900 | 0.11270 | 0.07400 | ... | 27.66 | 153.20 | 1606.0 | 0.1442 | 0.2576 | 0.37840 | 0.19320 | 0.3063 | 0.08368 | NA |\n",
       "| 84458202 | M | 13.710 | 20.83 |  90.20 |  577.9 | 0.11890 | 0.16450 | 0.09366 | 0.05985 | ... | 28.14 | 110.60 |  897.0 | 0.1654 | 0.3682 | 0.26780 | 0.15560 | 0.3196 | 0.11510 | NA |\n",
       "|   844981 | M | 13.000 | 21.82 |  87.50 |  519.8 | 0.12730 | 0.19320 | 0.18590 | 0.09353 | ... | 30.73 | 106.20 |  739.3 | 0.1703 | 0.5401 | 0.53900 | 0.20600 | 0.4378 | 0.10720 | NA |\n",
       "| 84501001 | M | 12.460 | 24.04 |  83.97 |  475.9 | 0.11860 | 0.23960 | 0.22730 | 0.08543 | ... | 40.68 |  97.65 |  711.4 | 0.1853 | 1.0580 | 1.10500 | 0.22100 | 0.4366 | 0.20750 | NA |\n",
       "|   845636 | M | 16.020 | 23.24 | 102.70 |  797.8 | 0.08206 | 0.06669 | 0.03299 | 0.03323 | ... | 33.88 | 123.80 | 1150.0 | 0.1181 | 0.1551 | 0.14590 | 0.09975 | 0.2948 | 0.08452 | NA |\n",
       "| 84610002 | M | 15.780 | 17.89 | 103.60 |  781.0 | 0.09710 | 0.12920 | 0.09954 | 0.06606 | ... | 27.28 | 136.50 | 1299.0 | 0.1396 | 0.5609 | 0.39650 | 0.18100 | 0.3792 | 0.10480 | NA |\n",
       "|   846226 | M | 19.170 | 24.80 | 132.40 | 1123.0 | 0.09740 | 0.24580 | 0.20650 | 0.11180 | ... | 29.94 | 151.70 | 1332.0 | 0.1037 | 0.3903 | 0.36390 | 0.17670 | 0.3176 | 0.10230 | NA |\n",
       "|   846381 | M | 15.850 | 23.95 | 103.70 |  782.7 | 0.08401 | 0.10020 | 0.09938 | 0.05364 | ... | 27.66 | 112.00 |  876.5 | 0.1131 | 0.1924 | 0.23220 | 0.11190 | 0.2809 | 0.06287 | NA |\n",
       "| 84667401 | M | 13.730 | 22.61 |  93.60 |  578.3 | 0.11310 | 0.22930 | 0.21280 | 0.08025 | ... | 32.01 | 108.80 |  697.7 | 0.1651 | 0.7725 | 0.69430 | 0.22080 | 0.3596 | 0.14310 | NA |\n",
       "| 84799002 | M | 14.540 | 27.54 |  96.73 |  658.8 | 0.11390 | 0.15950 | 0.16390 | 0.07364 | ... | 37.13 | 124.10 |  943.2 | 0.1678 | 0.6577 | 0.70260 | 0.17120 | 0.4218 | 0.13410 | NA |\n",
       "|   848406 | M | 14.680 | 20.13 |  94.74 |  684.5 | 0.09867 | 0.07200 | 0.07395 | 0.05259 | ... | 30.88 | 123.40 | 1138.0 | 0.1464 | 0.1871 | 0.29140 | 0.16090 | 0.3029 | 0.08216 | NA |\n",
       "| 84862001 | M | 16.130 | 20.68 | 108.10 |  798.8 | 0.11700 | 0.20220 | 0.17220 | 0.10280 | ... | 31.48 | 136.80 | 1315.0 | 0.1789 | 0.4233 | 0.47840 | 0.20730 | 0.3706 | 0.11420 | NA |\n",
       "|   849014 | M | 19.810 | 22.15 | 130.00 | 1260.0 | 0.09831 | 0.10270 | 0.14790 | 0.09498 | ... | 30.88 | 186.80 | 2398.0 | 0.1512 | 0.3150 | 0.53720 | 0.23880 | 0.2768 | 0.07615 | NA |\n",
       "|  8510426 | B | 13.540 | 14.36 |  87.46 |  566.3 | 0.09779 | 0.08129 | 0.06664 | 0.04781 | ... | 19.26 |  99.70 |  711.2 | 0.1440 | 0.1773 | 0.23900 | 0.12880 | 0.2977 | 0.07259 | NA |\n",
       "|  8510653 | B | 13.080 | 15.71 |  85.63 |  520.0 | 0.10750 | 0.12700 | 0.04568 | 0.03110 | ... | 20.49 |  96.09 |  630.5 | 0.1312 | 0.2776 | 0.18900 | 0.07283 | 0.3184 | 0.08183 | NA |\n",
       "|  8510824 | B |  9.504 | 12.44 |  60.34 |  273.9 | 0.10240 | 0.06492 | 0.02956 | 0.02076 | ... | 15.66 |  65.13 |  314.9 | 0.1324 | 0.1148 | 0.08867 | 0.06227 | 0.2450 | 0.07773 | NA |\n",
       "|  8511133 | M | 15.340 | 14.26 | 102.50 |  704.4 | 0.10730 | 0.21350 | 0.20770 | 0.09756 | ... | 19.08 | 125.10 |  980.9 | 0.1390 | 0.5954 | 0.63050 | 0.23930 | 0.4667 | 0.09946 | NA |\n",
       "|   851509 | M | 21.160 | 23.04 | 137.20 | 1404.0 | 0.09428 | 0.10220 | 0.10970 | 0.08632 | ... | 35.59 | 188.00 | 2615.0 | 0.1401 | 0.2600 | 0.31550 | 0.20090 | 0.2822 | 0.07526 | NA |\n",
       "|   852552 | M | 16.650 | 21.38 | 110.00 |  904.6 | 0.11210 | 0.14570 | 0.15250 | 0.09170 | ... | 31.56 | 177.00 | 2215.0 | 0.1805 | 0.3578 | 0.46950 | 0.20950 | 0.3613 | 0.09564 | NA |\n",
       "|   852631 | M | 17.140 | 16.40 | 116.00 |  912.7 | 0.11860 | 0.22760 | 0.22290 | 0.14010 | ... | 21.40 | 152.40 | 1461.0 | 0.1545 | 0.3949 | 0.38530 | 0.25500 | 0.4066 | 0.10590 | NA |\n",
       "|   852763 | M | 14.580 | 21.53 |  97.41 |  644.8 | 0.10540 | 0.18680 | 0.14250 | 0.08783 | ... | 33.21 | 122.40 |  896.9 | 0.1525 | 0.6643 | 0.55390 | 0.27010 | 0.4264 | 0.12750 | NA |\n",
       "|   852781 | M | 18.610 | 20.25 | 122.10 | 1094.0 | 0.09440 | 0.10660 | 0.14900 | 0.07731 | ... | 27.26 | 139.90 | 1403.0 | 0.1338 | 0.2117 | 0.34460 | 0.14900 | 0.2341 | 0.07421 | NA |\n",
       "|   852973 | M | 15.300 | 25.27 | 102.40 |  732.4 | 0.10820 | 0.16970 | 0.16830 | 0.08751 | ... | 36.71 | 149.30 | 1269.0 | 0.1641 | 0.6110 | 0.63350 | 0.20240 | 0.4027 | 0.09876 | NA |\n",
       "|   853201 | M | 17.570 | 15.05 | 115.00 |  955.1 | 0.09847 | 0.11570 | 0.09875 | 0.07953 | ... | 19.52 | 134.90 | 1227.0 | 0.1255 | 0.2812 | 0.24890 | 0.14560 | 0.2756 | 0.07919 | NA |\n",
       "| ... | ... | ... | ... | ... | ... | ... | ... | ... | ... | <!----> | ... | ... | ... | ... | ... | ... | ... | ... | ... | ... |\n",
       "| 921362 | B |  7.691 | 25.44 |  48.34 |  170.4 | 0.08668 | 0.11990 | 0.092520 | 0.013640 | ... | 31.89 |  54.49 |  223.6 | 0.15960 | 0.30640 | 0.33930 | 0.05000 | 0.2790 | 0.10660 | NA |\n",
       "| 921385 | B | 11.540 | 14.44 |  74.65 |  402.9 | 0.09984 | 0.11200 | 0.067370 | 0.025940 | ... | 19.68 |  78.78 |  457.8 | 0.13450 | 0.21180 | 0.17970 | 0.06918 | 0.2329 | 0.08134 | NA |\n",
       "| 921386 | B | 14.470 | 24.99 |  95.81 |  656.4 | 0.08837 | 0.12300 | 0.100900 | 0.038900 | ... | 31.73 | 113.50 |  808.9 | 0.13400 | 0.42020 | 0.40400 | 0.12050 | 0.3187 | 0.10230 | NA |\n",
       "| 921644 | B | 14.740 | 25.42 |  94.70 |  668.6 | 0.08275 | 0.07214 | 0.041050 | 0.030270 | ... | 32.29 | 107.40 |  826.4 | 0.10600 | 0.13760 | 0.16110 | 0.10950 | 0.2722 | 0.06956 | NA |\n",
       "| 922296 | B | 13.210 | 28.06 |  84.88 |  538.4 | 0.08671 | 0.06877 | 0.029870 | 0.032750 | ... | 37.17 |  92.48 |  629.6 | 0.10720 | 0.13810 | 0.10620 | 0.07958 | 0.2473 | 0.06443 | NA |\n",
       "| 922297 | B | 13.870 | 20.70 |  89.77 |  584.8 | 0.09578 | 0.10180 | 0.036880 | 0.023690 | ... | 24.75 |  99.17 |  688.6 | 0.12640 | 0.20370 | 0.13770 | 0.06845 | 0.2249 | 0.08492 | NA |\n",
       "| 922576 | B | 13.620 | 23.23 |  87.19 |  573.2 | 0.09246 | 0.06747 | 0.029740 | 0.024430 | ... | 29.09 |  97.58 |  729.8 | 0.12160 | 0.15170 | 0.10490 | 0.07174 | 0.2642 | 0.06953 | NA |\n",
       "| 922577 | B | 10.320 | 16.35 |  65.31 |  324.9 | 0.09434 | 0.04994 | 0.010120 | 0.005495 | ... | 21.77 |  71.12 |  384.9 | 0.12850 | 0.08842 | 0.04384 | 0.02381 | 0.2681 | 0.07399 | NA |\n",
       "| 922840 | B | 10.260 | 16.58 |  65.85 |  320.8 | 0.08877 | 0.08066 | 0.043580 | 0.024380 | ... | 22.04 |  71.08 |  357.4 | 0.14610 | 0.22460 | 0.17830 | 0.08333 | 0.2691 | 0.09479 | NA |\n",
       "| 923169 | B |  9.683 | 19.34 |  61.05 |  285.7 | 0.08491 | 0.05030 | 0.023370 | 0.009615 | ... | 25.59 |  69.10 |  364.2 | 0.11990 | 0.09546 | 0.09350 | 0.03846 | 0.2552 | 0.07920 | NA |\n",
       "| 923465 | B | 10.820 | 24.21 |  68.89 |  361.6 | 0.08192 | 0.06602 | 0.015480 | 0.008160 | ... | 31.45 |  83.90 |  505.6 | 0.12040 | 0.16330 | 0.06194 | 0.03264 | 0.3059 | 0.07626 | NA |\n",
       "| 923748 | B | 10.860 | 21.48 |  68.51 |  360.5 | 0.07431 | 0.04227 | 0.000000 | 0.000000 | ... | 24.77 |  74.08 |  412.3 | 0.10010 | 0.07348 | 0.00000 | 0.00000 | 0.2458 | 0.06592 | NA |\n",
       "| 923780 | B | 11.130 | 22.44 |  71.49 |  378.4 | 0.09566 | 0.08194 | 0.048240 | 0.022570 | ... | 28.26 |  77.80 |  436.6 | 0.10870 | 0.17820 | 0.15640 | 0.06413 | 0.3169 | 0.08032 | NA |\n",
       "| 924084 | B | 12.770 | 29.43 |  81.35 |  507.9 | 0.08276 | 0.04234 | 0.019970 | 0.014990 | ... | 36.00 |  88.10 |  594.7 | 0.12340 | 0.10640 | 0.08653 | 0.06498 | 0.2407 | 0.06484 | NA |\n",
       "| 924342 | B |  9.333 | 21.94 |  59.01 |  264.0 | 0.09240 | 0.05605 | 0.039960 | 0.012820 | ... | 25.05 |  62.86 |  295.8 | 0.11030 | 0.08298 | 0.07993 | 0.02564 | 0.2435 | 0.07393 | NA |\n",
       "| 924632 | B | 12.880 | 28.92 |  82.50 |  514.3 | 0.08123 | 0.05824 | 0.061950 | 0.023430 | ... | 35.74 |  88.84 |  595.7 | 0.12270 | 0.16200 | 0.24390 | 0.06493 | 0.2372 | 0.07242 | NA |\n",
       "| 924934 | B | 10.290 | 27.61 |  65.67 |  321.4 | 0.09030 | 0.07658 | 0.059990 | 0.027380 | ... | 34.91 |  69.57 |  357.6 | 0.13840 | 0.17100 | 0.20000 | 0.09127 | 0.2226 | 0.08283 | NA |\n",
       "| 924964 | B | 10.160 | 19.59 |  64.73 |  311.7 | 0.10030 | 0.07504 | 0.005025 | 0.011160 | ... | 22.88 |  67.88 |  347.3 | 0.12650 | 0.12000 | 0.01005 | 0.02232 | 0.2262 | 0.06742 | NA |\n",
       "| 925236 | B |  9.423 | 27.88 |  59.26 |  271.3 | 0.08123 | 0.04971 | 0.000000 | 0.000000 | ... | 34.24 |  66.50 |  330.6 | 0.10730 | 0.07158 | 0.00000 | 0.00000 | 0.2475 | 0.06969 | NA |\n",
       "| 925277 | B | 14.590 | 22.68 |  96.39 |  657.1 | 0.08473 | 0.13300 | 0.102900 | 0.037360 | ... | 27.27 | 105.90 |  733.5 | 0.10260 | 0.31710 | 0.36620 | 0.11050 | 0.2258 | 0.08004 | NA |\n",
       "| 925291 | B | 11.510 | 23.93 |  74.52 |  403.5 | 0.09261 | 0.10210 | 0.111200 | 0.041050 | ... | 37.16 |  82.28 |  474.2 | 0.12980 | 0.25170 | 0.36300 | 0.09653 | 0.2112 | 0.08732 | NA |\n",
       "| 925292 | B | 14.050 | 27.15 |  91.38 |  600.4 | 0.09929 | 0.11260 | 0.044620 | 0.043040 | ... | 33.17 | 100.20 |  706.7 | 0.12410 | 0.22640 | 0.13260 | 0.10480 | 0.2250 | 0.08321 | NA |\n",
       "| 925311 | B | 11.200 | 29.37 |  70.67 |  386.0 | 0.07449 | 0.03558 | 0.000000 | 0.000000 | ... | 38.30 |  75.19 |  439.6 | 0.09267 | 0.05494 | 0.00000 | 0.00000 | 0.1566 | 0.05905 | NA |\n",
       "| 925622 | M | 15.220 | 30.62 | 103.40 |  716.9 | 0.10480 | 0.20870 | 0.255000 | 0.094290 | ... | 42.79 | 128.70 |  915.0 | 0.14170 | 0.79170 | 1.17000 | 0.23560 | 0.4089 | 0.14090 | NA |\n",
       "| 926125 | M | 20.920 | 25.09 | 143.00 | 1347.0 | 0.10990 | 0.22360 | 0.317400 | 0.147400 | ... | 29.41 | 179.10 | 1819.0 | 0.14070 | 0.41860 | 0.65990 | 0.25420 | 0.2929 | 0.09873 | NA |\n",
       "| 926424 | M | 21.560 | 22.39 | 142.00 | 1479.0 | 0.11100 | 0.11590 | 0.243900 | 0.138900 | ... | 26.40 | 166.10 | 2027.0 | 0.14100 | 0.21130 | 0.41070 | 0.22160 | 0.2060 | 0.07115 | NA |\n",
       "| 926682 | M | 20.130 | 28.25 | 131.20 | 1261.0 | 0.09780 | 0.10340 | 0.144000 | 0.097910 | ... | 38.25 | 155.00 | 1731.0 | 0.11660 | 0.19220 | 0.32150 | 0.16280 | 0.2572 | 0.06637 | NA |\n",
       "| 926954 | M | 16.600 | 28.08 | 108.30 |  858.1 | 0.08455 | 0.10230 | 0.092510 | 0.053020 | ... | 34.12 | 126.70 | 1124.0 | 0.11390 | 0.30940 | 0.34030 | 0.14180 | 0.2218 | 0.07820 | NA |\n",
       "| 927241 | M | 20.600 | 29.33 | 140.10 | 1265.0 | 0.11780 | 0.27700 | 0.351400 | 0.152000 | ... | 39.42 | 184.60 | 1821.0 | 0.16500 | 0.86810 | 0.93870 | 0.26500 | 0.4087 | 0.12400 | NA |\n",
       "|  92751 | B |  7.760 | 24.54 |  47.92 |  181.0 | 0.05263 | 0.04362 | 0.000000 | 0.000000 | ... | 30.37 |  59.16 |  268.6 | 0.08996 | 0.06444 | 0.00000 | 0.00000 | 0.2871 | 0.07039 | NA |\n",
       "\n"
      ],
      "text/plain": [
       "    id       diagnosis radius_mean texture_mean perimeter_mean area_mean\n",
       "1     842302 M         17.990      10.38        122.80         1001.0   \n",
       "2     842517 M         20.570      17.77        132.90         1326.0   \n",
       "3   84300903 M         19.690      21.25        130.00         1203.0   \n",
       "4   84348301 M         11.420      20.38         77.58          386.1   \n",
       "5   84358402 M         20.290      14.34        135.10         1297.0   \n",
       "6     843786 M         12.450      15.70         82.57          477.1   \n",
       "7     844359 M         18.250      19.98        119.60         1040.0   \n",
       "8   84458202 M         13.710      20.83         90.20          577.9   \n",
       "9     844981 M         13.000      21.82         87.50          519.8   \n",
       "10  84501001 M         12.460      24.04         83.97          475.9   \n",
       "11    845636 M         16.020      23.24        102.70          797.8   \n",
       "12  84610002 M         15.780      17.89        103.60          781.0   \n",
       "13    846226 M         19.170      24.80        132.40         1123.0   \n",
       "14    846381 M         15.850      23.95        103.70          782.7   \n",
       "15  84667401 M         13.730      22.61         93.60          578.3   \n",
       "16  84799002 M         14.540      27.54         96.73          658.8   \n",
       "17    848406 M         14.680      20.13         94.74          684.5   \n",
       "18  84862001 M         16.130      20.68        108.10          798.8   \n",
       "19    849014 M         19.810      22.15        130.00         1260.0   \n",
       "20   8510426 B         13.540      14.36         87.46          566.3   \n",
       "21   8510653 B         13.080      15.71         85.63          520.0   \n",
       "22   8510824 B          9.504      12.44         60.34          273.9   \n",
       "23   8511133 M         15.340      14.26        102.50          704.4   \n",
       "24    851509 M         21.160      23.04        137.20         1404.0   \n",
       "25    852552 M         16.650      21.38        110.00          904.6   \n",
       "26    852631 M         17.140      16.40        116.00          912.7   \n",
       "27    852763 M         14.580      21.53         97.41          644.8   \n",
       "28    852781 M         18.610      20.25        122.10         1094.0   \n",
       "29    852973 M         15.300      25.27        102.40          732.4   \n",
       "30    853201 M         17.570      15.05        115.00          955.1   \n",
       "... ...      ...       ...         ...          ...            ...      \n",
       "540 921362   B          7.691      25.44         48.34          170.4   \n",
       "541 921385   B         11.540      14.44         74.65          402.9   \n",
       "542 921386   B         14.470      24.99         95.81          656.4   \n",
       "543 921644   B         14.740      25.42         94.70          668.6   \n",
       "544 922296   B         13.210      28.06         84.88          538.4   \n",
       "545 922297   B         13.870      20.70         89.77          584.8   \n",
       "546 922576   B         13.620      23.23         87.19          573.2   \n",
       "547 922577   B         10.320      16.35         65.31          324.9   \n",
       "548 922840   B         10.260      16.58         65.85          320.8   \n",
       "549 923169   B          9.683      19.34         61.05          285.7   \n",
       "550 923465   B         10.820      24.21         68.89          361.6   \n",
       "551 923748   B         10.860      21.48         68.51          360.5   \n",
       "552 923780   B         11.130      22.44         71.49          378.4   \n",
       "553 924084   B         12.770      29.43         81.35          507.9   \n",
       "554 924342   B          9.333      21.94         59.01          264.0   \n",
       "555 924632   B         12.880      28.92         82.50          514.3   \n",
       "556 924934   B         10.290      27.61         65.67          321.4   \n",
       "557 924964   B         10.160      19.59         64.73          311.7   \n",
       "558 925236   B          9.423      27.88         59.26          271.3   \n",
       "559 925277   B         14.590      22.68         96.39          657.1   \n",
       "560 925291   B         11.510      23.93         74.52          403.5   \n",
       "561 925292   B         14.050      27.15         91.38          600.4   \n",
       "562 925311   B         11.200      29.37         70.67          386.0   \n",
       "563 925622   M         15.220      30.62        103.40          716.9   \n",
       "564 926125   M         20.920      25.09        143.00         1347.0   \n",
       "565 926424   M         21.560      22.39        142.00         1479.0   \n",
       "566 926682   M         20.130      28.25        131.20         1261.0   \n",
       "567 926954   M         16.600      28.08        108.30          858.1   \n",
       "568 927241   M         20.600      29.33        140.10         1265.0   \n",
       "569  92751   B          7.760      24.54         47.92          181.0   \n",
       "    smoothness_mean compactness_mean concavity_mean concave points_mean ...\n",
       "1   0.11840         0.27760          0.30010        0.14710             ...\n",
       "2   0.08474         0.07864          0.08690        0.07017             ...\n",
       "3   0.10960         0.15990          0.19740        0.12790             ...\n",
       "4   0.14250         0.28390          0.24140        0.10520             ...\n",
       "5   0.10030         0.13280          0.19800        0.10430             ...\n",
       "6   0.12780         0.17000          0.15780        0.08089             ...\n",
       "7   0.09463         0.10900          0.11270        0.07400             ...\n",
       "8   0.11890         0.16450          0.09366        0.05985             ...\n",
       "9   0.12730         0.19320          0.18590        0.09353             ...\n",
       "10  0.11860         0.23960          0.22730        0.08543             ...\n",
       "11  0.08206         0.06669          0.03299        0.03323             ...\n",
       "12  0.09710         0.12920          0.09954        0.06606             ...\n",
       "13  0.09740         0.24580          0.20650        0.11180             ...\n",
       "14  0.08401         0.10020          0.09938        0.05364             ...\n",
       "15  0.11310         0.22930          0.21280        0.08025             ...\n",
       "16  0.11390         0.15950          0.16390        0.07364             ...\n",
       "17  0.09867         0.07200          0.07395        0.05259             ...\n",
       "18  0.11700         0.20220          0.17220        0.10280             ...\n",
       "19  0.09831         0.10270          0.14790        0.09498             ...\n",
       "20  0.09779         0.08129          0.06664        0.04781             ...\n",
       "21  0.10750         0.12700          0.04568        0.03110             ...\n",
       "22  0.10240         0.06492          0.02956        0.02076             ...\n",
       "23  0.10730         0.21350          0.20770        0.09756             ...\n",
       "24  0.09428         0.10220          0.10970        0.08632             ...\n",
       "25  0.11210         0.14570          0.15250        0.09170             ...\n",
       "26  0.11860         0.22760          0.22290        0.14010             ...\n",
       "27  0.10540         0.18680          0.14250        0.08783             ...\n",
       "28  0.09440         0.10660          0.14900        0.07731             ...\n",
       "29  0.10820         0.16970          0.16830        0.08751             ...\n",
       "30  0.09847         0.11570          0.09875        0.07953             ...\n",
       "... ...             ...              ...            ...                    \n",
       "540 0.08668         0.11990          0.092520       0.013640            ...\n",
       "541 0.09984         0.11200          0.067370       0.025940            ...\n",
       "542 0.08837         0.12300          0.100900       0.038900            ...\n",
       "543 0.08275         0.07214          0.041050       0.030270            ...\n",
       "544 0.08671         0.06877          0.029870       0.032750            ...\n",
       "545 0.09578         0.10180          0.036880       0.023690            ...\n",
       "546 0.09246         0.06747          0.029740       0.024430            ...\n",
       "547 0.09434         0.04994          0.010120       0.005495            ...\n",
       "548 0.08877         0.08066          0.043580       0.024380            ...\n",
       "549 0.08491         0.05030          0.023370       0.009615            ...\n",
       "550 0.08192         0.06602          0.015480       0.008160            ...\n",
       "551 0.07431         0.04227          0.000000       0.000000            ...\n",
       "552 0.09566         0.08194          0.048240       0.022570            ...\n",
       "553 0.08276         0.04234          0.019970       0.014990            ...\n",
       "554 0.09240         0.05605          0.039960       0.012820            ...\n",
       "555 0.08123         0.05824          0.061950       0.023430            ...\n",
       "556 0.09030         0.07658          0.059990       0.027380            ...\n",
       "557 0.10030         0.07504          0.005025       0.011160            ...\n",
       "558 0.08123         0.04971          0.000000       0.000000            ...\n",
       "559 0.08473         0.13300          0.102900       0.037360            ...\n",
       "560 0.09261         0.10210          0.111200       0.041050            ...\n",
       "561 0.09929         0.11260          0.044620       0.043040            ...\n",
       "562 0.07449         0.03558          0.000000       0.000000            ...\n",
       "563 0.10480         0.20870          0.255000       0.094290            ...\n",
       "564 0.10990         0.22360          0.317400       0.147400            ...\n",
       "565 0.11100         0.11590          0.243900       0.138900            ...\n",
       "566 0.09780         0.10340          0.144000       0.097910            ...\n",
       "567 0.08455         0.10230          0.092510       0.053020            ...\n",
       "568 0.11780         0.27700          0.351400       0.152000            ...\n",
       "569 0.05263         0.04362          0.000000       0.000000            ...\n",
       "    texture_worst perimeter_worst area_worst smoothness_worst compactness_worst\n",
       "1   17.33         184.60          2019.0     0.1622           0.6656           \n",
       "2   23.41         158.80          1956.0     0.1238           0.1866           \n",
       "3   25.53         152.50          1709.0     0.1444           0.4245           \n",
       "4   26.50          98.87           567.7     0.2098           0.8663           \n",
       "5   16.67         152.20          1575.0     0.1374           0.2050           \n",
       "6   23.75         103.40           741.6     0.1791           0.5249           \n",
       "7   27.66         153.20          1606.0     0.1442           0.2576           \n",
       "8   28.14         110.60           897.0     0.1654           0.3682           \n",
       "9   30.73         106.20           739.3     0.1703           0.5401           \n",
       "10  40.68          97.65           711.4     0.1853           1.0580           \n",
       "11  33.88         123.80          1150.0     0.1181           0.1551           \n",
       "12  27.28         136.50          1299.0     0.1396           0.5609           \n",
       "13  29.94         151.70          1332.0     0.1037           0.3903           \n",
       "14  27.66         112.00           876.5     0.1131           0.1924           \n",
       "15  32.01         108.80           697.7     0.1651           0.7725           \n",
       "16  37.13         124.10           943.2     0.1678           0.6577           \n",
       "17  30.88         123.40          1138.0     0.1464           0.1871           \n",
       "18  31.48         136.80          1315.0     0.1789           0.4233           \n",
       "19  30.88         186.80          2398.0     0.1512           0.3150           \n",
       "20  19.26          99.70           711.2     0.1440           0.1773           \n",
       "21  20.49          96.09           630.5     0.1312           0.2776           \n",
       "22  15.66          65.13           314.9     0.1324           0.1148           \n",
       "23  19.08         125.10           980.9     0.1390           0.5954           \n",
       "24  35.59         188.00          2615.0     0.1401           0.2600           \n",
       "25  31.56         177.00          2215.0     0.1805           0.3578           \n",
       "26  21.40         152.40          1461.0     0.1545           0.3949           \n",
       "27  33.21         122.40           896.9     0.1525           0.6643           \n",
       "28  27.26         139.90          1403.0     0.1338           0.2117           \n",
       "29  36.71         149.30          1269.0     0.1641           0.6110           \n",
       "30  19.52         134.90          1227.0     0.1255           0.2812           \n",
       "... ...           ...             ...        ...              ...              \n",
       "540 31.89          54.49           223.6     0.15960          0.30640          \n",
       "541 19.68          78.78           457.8     0.13450          0.21180          \n",
       "542 31.73         113.50           808.9     0.13400          0.42020          \n",
       "543 32.29         107.40           826.4     0.10600          0.13760          \n",
       "544 37.17          92.48           629.6     0.10720          0.13810          \n",
       "545 24.75          99.17           688.6     0.12640          0.20370          \n",
       "546 29.09          97.58           729.8     0.12160          0.15170          \n",
       "547 21.77          71.12           384.9     0.12850          0.08842          \n",
       "548 22.04          71.08           357.4     0.14610          0.22460          \n",
       "549 25.59          69.10           364.2     0.11990          0.09546          \n",
       "550 31.45          83.90           505.6     0.12040          0.16330          \n",
       "551 24.77          74.08           412.3     0.10010          0.07348          \n",
       "552 28.26          77.80           436.6     0.10870          0.17820          \n",
       "553 36.00          88.10           594.7     0.12340          0.10640          \n",
       "554 25.05          62.86           295.8     0.11030          0.08298          \n",
       "555 35.74          88.84           595.7     0.12270          0.16200          \n",
       "556 34.91          69.57           357.6     0.13840          0.17100          \n",
       "557 22.88          67.88           347.3     0.12650          0.12000          \n",
       "558 34.24          66.50           330.6     0.10730          0.07158          \n",
       "559 27.27         105.90           733.5     0.10260          0.31710          \n",
       "560 37.16          82.28           474.2     0.12980          0.25170          \n",
       "561 33.17         100.20           706.7     0.12410          0.22640          \n",
       "562 38.30          75.19           439.6     0.09267          0.05494          \n",
       "563 42.79         128.70           915.0     0.14170          0.79170          \n",
       "564 29.41         179.10          1819.0     0.14070          0.41860          \n",
       "565 26.40         166.10          2027.0     0.14100          0.21130          \n",
       "566 38.25         155.00          1731.0     0.11660          0.19220          \n",
       "567 34.12         126.70          1124.0     0.11390          0.30940          \n",
       "568 39.42         184.60          1821.0     0.16500          0.86810          \n",
       "569 30.37          59.16           268.6     0.08996          0.06444          \n",
       "    concavity_worst concave points_worst symmetry_worst fractal_dimension_worst\n",
       "1   0.71190         0.26540              0.4601         0.11890                \n",
       "2   0.24160         0.18600              0.2750         0.08902                \n",
       "3   0.45040         0.24300              0.3613         0.08758                \n",
       "4   0.68690         0.25750              0.6638         0.17300                \n",
       "5   0.40000         0.16250              0.2364         0.07678                \n",
       "6   0.53550         0.17410              0.3985         0.12440                \n",
       "7   0.37840         0.19320              0.3063         0.08368                \n",
       "8   0.26780         0.15560              0.3196         0.11510                \n",
       "9   0.53900         0.20600              0.4378         0.10720                \n",
       "10  1.10500         0.22100              0.4366         0.20750                \n",
       "11  0.14590         0.09975              0.2948         0.08452                \n",
       "12  0.39650         0.18100              0.3792         0.10480                \n",
       "13  0.36390         0.17670              0.3176         0.10230                \n",
       "14  0.23220         0.11190              0.2809         0.06287                \n",
       "15  0.69430         0.22080              0.3596         0.14310                \n",
       "16  0.70260         0.17120              0.4218         0.13410                \n",
       "17  0.29140         0.16090              0.3029         0.08216                \n",
       "18  0.47840         0.20730              0.3706         0.11420                \n",
       "19  0.53720         0.23880              0.2768         0.07615                \n",
       "20  0.23900         0.12880              0.2977         0.07259                \n",
       "21  0.18900         0.07283              0.3184         0.08183                \n",
       "22  0.08867         0.06227              0.2450         0.07773                \n",
       "23  0.63050         0.23930              0.4667         0.09946                \n",
       "24  0.31550         0.20090              0.2822         0.07526                \n",
       "25  0.46950         0.20950              0.3613         0.09564                \n",
       "26  0.38530         0.25500              0.4066         0.10590                \n",
       "27  0.55390         0.27010              0.4264         0.12750                \n",
       "28  0.34460         0.14900              0.2341         0.07421                \n",
       "29  0.63350         0.20240              0.4027         0.09876                \n",
       "30  0.24890         0.14560              0.2756         0.07919                \n",
       "... ...             ...                  ...            ...                    \n",
       "540 0.33930         0.05000              0.2790         0.10660                \n",
       "541 0.17970         0.06918              0.2329         0.08134                \n",
       "542 0.40400         0.12050              0.3187         0.10230                \n",
       "543 0.16110         0.10950              0.2722         0.06956                \n",
       "544 0.10620         0.07958              0.2473         0.06443                \n",
       "545 0.13770         0.06845              0.2249         0.08492                \n",
       "546 0.10490         0.07174              0.2642         0.06953                \n",
       "547 0.04384         0.02381              0.2681         0.07399                \n",
       "548 0.17830         0.08333              0.2691         0.09479                \n",
       "549 0.09350         0.03846              0.2552         0.07920                \n",
       "550 0.06194         0.03264              0.3059         0.07626                \n",
       "551 0.00000         0.00000              0.2458         0.06592                \n",
       "552 0.15640         0.06413              0.3169         0.08032                \n",
       "553 0.08653         0.06498              0.2407         0.06484                \n",
       "554 0.07993         0.02564              0.2435         0.07393                \n",
       "555 0.24390         0.06493              0.2372         0.07242                \n",
       "556 0.20000         0.09127              0.2226         0.08283                \n",
       "557 0.01005         0.02232              0.2262         0.06742                \n",
       "558 0.00000         0.00000              0.2475         0.06969                \n",
       "559 0.36620         0.11050              0.2258         0.08004                \n",
       "560 0.36300         0.09653              0.2112         0.08732                \n",
       "561 0.13260         0.10480              0.2250         0.08321                \n",
       "562 0.00000         0.00000              0.1566         0.05905                \n",
       "563 1.17000         0.23560              0.4089         0.14090                \n",
       "564 0.65990         0.25420              0.2929         0.09873                \n",
       "565 0.41070         0.22160              0.2060         0.07115                \n",
       "566 0.32150         0.16280              0.2572         0.06637                \n",
       "567 0.34030         0.14180              0.2218         0.07820                \n",
       "568 0.93870         0.26500              0.4087         0.12400                \n",
       "569 0.00000         0.00000              0.2871         0.07039                \n",
       "    X33\n",
       "1   NA \n",
       "2   NA \n",
       "3   NA \n",
       "4   NA \n",
       "5   NA \n",
       "6   NA \n",
       "7   NA \n",
       "8   NA \n",
       "9   NA \n",
       "10  NA \n",
       "11  NA \n",
       "12  NA \n",
       "13  NA \n",
       "14  NA \n",
       "15  NA \n",
       "16  NA \n",
       "17  NA \n",
       "18  NA \n",
       "19  NA \n",
       "20  NA \n",
       "21  NA \n",
       "22  NA \n",
       "23  NA \n",
       "24  NA \n",
       "25  NA \n",
       "26  NA \n",
       "27  NA \n",
       "28  NA \n",
       "29  NA \n",
       "30  NA \n",
       "... ...\n",
       "540 NA \n",
       "541 NA \n",
       "542 NA \n",
       "543 NA \n",
       "544 NA \n",
       "545 NA \n",
       "546 NA \n",
       "547 NA \n",
       "548 NA \n",
       "549 NA \n",
       "550 NA \n",
       "551 NA \n",
       "552 NA \n",
       "553 NA \n",
       "554 NA \n",
       "555 NA \n",
       "556 NA \n",
       "557 NA \n",
       "558 NA \n",
       "559 NA \n",
       "560 NA \n",
       "561 NA \n",
       "562 NA \n",
       "563 NA \n",
       "564 NA \n",
       "565 NA \n",
       "566 NA \n",
       "567 NA \n",
       "568 NA \n",
       "569 NA "
      ]
     },
     "metadata": {},
     "output_type": "display_data"
    }
   ],
   "source": [
    "# Your turn: print out the data you just imported\n",
    "\n",
    "### BEGIN SOLUTION ###\n",
    "\n",
    "cancer_data\n",
    "\n",
    "### END SOLUTION ###"
   ]
  },
  {
   "cell_type": "markdown",
   "metadata": {},
   "source": [
    "#### 2.2—Exploring the data\n",
    "\n",
    "Woah, that's a lot of data!\n",
    "\n",
    "Before we know how to clean up the data or visualize it, we need to understand what form the data is in. But, it's really hard to do that when it R spews out that much.\n",
    "\n",
    "Thankfully, there's a few functions we can use to help manage this."
   ]
  },
  {
   "cell_type": "code",
   "execution_count": 21,
   "metadata": {},
   "outputs": [
    {
     "data": {
      "text/html": [
       "<table>\n",
       "<caption>A tibble: 6 × 33</caption>\n",
       "<thead>\n",
       "\t<tr><th scope=col>id</th><th scope=col>diagnosis</th><th scope=col>radius_mean</th><th scope=col>texture_mean</th><th scope=col>perimeter_mean</th><th scope=col>area_mean</th><th scope=col>smoothness_mean</th><th scope=col>compactness_mean</th><th scope=col>concavity_mean</th><th scope=col>concave points_mean</th><th scope=col>...</th><th scope=col>texture_worst</th><th scope=col>perimeter_worst</th><th scope=col>area_worst</th><th scope=col>smoothness_worst</th><th scope=col>compactness_worst</th><th scope=col>concavity_worst</th><th scope=col>concave points_worst</th><th scope=col>symmetry_worst</th><th scope=col>fractal_dimension_worst</th><th scope=col>X33</th></tr>\n",
       "\t<tr><th scope=col>&lt;dbl&gt;</th><th scope=col>&lt;chr&gt;</th><th scope=col>&lt;dbl&gt;</th><th scope=col>&lt;dbl&gt;</th><th scope=col>&lt;dbl&gt;</th><th scope=col>&lt;dbl&gt;</th><th scope=col>&lt;dbl&gt;</th><th scope=col>&lt;dbl&gt;</th><th scope=col>&lt;dbl&gt;</th><th scope=col>&lt;dbl&gt;</th><th scope=col>...</th><th scope=col>&lt;dbl&gt;</th><th scope=col>&lt;dbl&gt;</th><th scope=col>&lt;dbl&gt;</th><th scope=col>&lt;dbl&gt;</th><th scope=col>&lt;dbl&gt;</th><th scope=col>&lt;dbl&gt;</th><th scope=col>&lt;dbl&gt;</th><th scope=col>&lt;dbl&gt;</th><th scope=col>&lt;dbl&gt;</th><th scope=col>&lt;chr&gt;</th></tr>\n",
       "</thead>\n",
       "<tbody>\n",
       "\t<tr><td>  842302</td><td>M</td><td>17.99</td><td>10.38</td><td>122.80</td><td>1001.0</td><td>0.11840</td><td>0.27760</td><td>0.3001</td><td>0.14710</td><td>...</td><td>17.33</td><td>184.60</td><td>2019.0</td><td>0.1622</td><td>0.6656</td><td>0.7119</td><td>0.2654</td><td>0.4601</td><td>0.11890</td><td>NA</td></tr>\n",
       "\t<tr><td>  842517</td><td>M</td><td>20.57</td><td>17.77</td><td>132.90</td><td>1326.0</td><td>0.08474</td><td>0.07864</td><td>0.0869</td><td>0.07017</td><td>...</td><td>23.41</td><td>158.80</td><td>1956.0</td><td>0.1238</td><td>0.1866</td><td>0.2416</td><td>0.1860</td><td>0.2750</td><td>0.08902</td><td>NA</td></tr>\n",
       "\t<tr><td>84300903</td><td>M</td><td>19.69</td><td>21.25</td><td>130.00</td><td>1203.0</td><td>0.10960</td><td>0.15990</td><td>0.1974</td><td>0.12790</td><td>...</td><td>25.53</td><td>152.50</td><td>1709.0</td><td>0.1444</td><td>0.4245</td><td>0.4504</td><td>0.2430</td><td>0.3613</td><td>0.08758</td><td>NA</td></tr>\n",
       "\t<tr><td>84348301</td><td>M</td><td>11.42</td><td>20.38</td><td> 77.58</td><td> 386.1</td><td>0.14250</td><td>0.28390</td><td>0.2414</td><td>0.10520</td><td>...</td><td>26.50</td><td> 98.87</td><td> 567.7</td><td>0.2098</td><td>0.8663</td><td>0.6869</td><td>0.2575</td><td>0.6638</td><td>0.17300</td><td>NA</td></tr>\n",
       "\t<tr><td>84358402</td><td>M</td><td>20.29</td><td>14.34</td><td>135.10</td><td>1297.0</td><td>0.10030</td><td>0.13280</td><td>0.1980</td><td>0.10430</td><td>...</td><td>16.67</td><td>152.20</td><td>1575.0</td><td>0.1374</td><td>0.2050</td><td>0.4000</td><td>0.1625</td><td>0.2364</td><td>0.07678</td><td>NA</td></tr>\n",
       "\t<tr><td>  843786</td><td>M</td><td>12.45</td><td>15.70</td><td> 82.57</td><td> 477.1</td><td>0.12780</td><td>0.17000</td><td>0.1578</td><td>0.08089</td><td>...</td><td>23.75</td><td>103.40</td><td> 741.6</td><td>0.1791</td><td>0.5249</td><td>0.5355</td><td>0.1741</td><td>0.3985</td><td>0.12440</td><td>NA</td></tr>\n",
       "</tbody>\n",
       "</table>\n"
      ],
      "text/latex": [
       "A tibble: 6 × 33\n",
       "\\begin{tabular}{lllllllllllllllllllll}\n",
       " id & diagnosis & radius\\_mean & texture\\_mean & perimeter\\_mean & area\\_mean & smoothness\\_mean & compactness\\_mean & concavity\\_mean & concave points\\_mean & ... & texture\\_worst & perimeter\\_worst & area\\_worst & smoothness\\_worst & compactness\\_worst & concavity\\_worst & concave points\\_worst & symmetry\\_worst & fractal\\_dimension\\_worst & X33\\\\\n",
       " <dbl> & <chr> & <dbl> & <dbl> & <dbl> & <dbl> & <dbl> & <dbl> & <dbl> & <dbl> & ... & <dbl> & <dbl> & <dbl> & <dbl> & <dbl> & <dbl> & <dbl> & <dbl> & <dbl> & <chr>\\\\\n",
       "\\hline\n",
       "\t   842302 & M & 17.99 & 10.38 & 122.80 & 1001.0 & 0.11840 & 0.27760 & 0.3001 & 0.14710 & ... & 17.33 & 184.60 & 2019.0 & 0.1622 & 0.6656 & 0.7119 & 0.2654 & 0.4601 & 0.11890 & NA\\\\\n",
       "\t   842517 & M & 20.57 & 17.77 & 132.90 & 1326.0 & 0.08474 & 0.07864 & 0.0869 & 0.07017 & ... & 23.41 & 158.80 & 1956.0 & 0.1238 & 0.1866 & 0.2416 & 0.1860 & 0.2750 & 0.08902 & NA\\\\\n",
       "\t 84300903 & M & 19.69 & 21.25 & 130.00 & 1203.0 & 0.10960 & 0.15990 & 0.1974 & 0.12790 & ... & 25.53 & 152.50 & 1709.0 & 0.1444 & 0.4245 & 0.4504 & 0.2430 & 0.3613 & 0.08758 & NA\\\\\n",
       "\t 84348301 & M & 11.42 & 20.38 &  77.58 &  386.1 & 0.14250 & 0.28390 & 0.2414 & 0.10520 & ... & 26.50 &  98.87 &  567.7 & 0.2098 & 0.8663 & 0.6869 & 0.2575 & 0.6638 & 0.17300 & NA\\\\\n",
       "\t 84358402 & M & 20.29 & 14.34 & 135.10 & 1297.0 & 0.10030 & 0.13280 & 0.1980 & 0.10430 & ... & 16.67 & 152.20 & 1575.0 & 0.1374 & 0.2050 & 0.4000 & 0.1625 & 0.2364 & 0.07678 & NA\\\\\n",
       "\t   843786 & M & 12.45 & 15.70 &  82.57 &  477.1 & 0.12780 & 0.17000 & 0.1578 & 0.08089 & ... & 23.75 & 103.40 &  741.6 & 0.1791 & 0.5249 & 0.5355 & 0.1741 & 0.3985 & 0.12440 & NA\\\\\n",
       "\\end{tabular}\n"
      ],
      "text/markdown": [
       "\n",
       "A tibble: 6 × 33\n",
       "\n",
       "| id &lt;dbl&gt; | diagnosis &lt;chr&gt; | radius_mean &lt;dbl&gt; | texture_mean &lt;dbl&gt; | perimeter_mean &lt;dbl&gt; | area_mean &lt;dbl&gt; | smoothness_mean &lt;dbl&gt; | compactness_mean &lt;dbl&gt; | concavity_mean &lt;dbl&gt; | concave points_mean &lt;dbl&gt; | ... ... | texture_worst &lt;dbl&gt; | perimeter_worst &lt;dbl&gt; | area_worst &lt;dbl&gt; | smoothness_worst &lt;dbl&gt; | compactness_worst &lt;dbl&gt; | concavity_worst &lt;dbl&gt; | concave points_worst &lt;dbl&gt; | symmetry_worst &lt;dbl&gt; | fractal_dimension_worst &lt;dbl&gt; | X33 &lt;chr&gt; |\n",
       "|---|---|---|---|---|---|---|---|---|---|---|---|---|---|---|---|---|---|---|---|---|\n",
       "|   842302 | M | 17.99 | 10.38 | 122.80 | 1001.0 | 0.11840 | 0.27760 | 0.3001 | 0.14710 | ... | 17.33 | 184.60 | 2019.0 | 0.1622 | 0.6656 | 0.7119 | 0.2654 | 0.4601 | 0.11890 | NA |\n",
       "|   842517 | M | 20.57 | 17.77 | 132.90 | 1326.0 | 0.08474 | 0.07864 | 0.0869 | 0.07017 | ... | 23.41 | 158.80 | 1956.0 | 0.1238 | 0.1866 | 0.2416 | 0.1860 | 0.2750 | 0.08902 | NA |\n",
       "| 84300903 | M | 19.69 | 21.25 | 130.00 | 1203.0 | 0.10960 | 0.15990 | 0.1974 | 0.12790 | ... | 25.53 | 152.50 | 1709.0 | 0.1444 | 0.4245 | 0.4504 | 0.2430 | 0.3613 | 0.08758 | NA |\n",
       "| 84348301 | M | 11.42 | 20.38 |  77.58 |  386.1 | 0.14250 | 0.28390 | 0.2414 | 0.10520 | ... | 26.50 |  98.87 |  567.7 | 0.2098 | 0.8663 | 0.6869 | 0.2575 | 0.6638 | 0.17300 | NA |\n",
       "| 84358402 | M | 20.29 | 14.34 | 135.10 | 1297.0 | 0.10030 | 0.13280 | 0.1980 | 0.10430 | ... | 16.67 | 152.20 | 1575.0 | 0.1374 | 0.2050 | 0.4000 | 0.1625 | 0.2364 | 0.07678 | NA |\n",
       "|   843786 | M | 12.45 | 15.70 |  82.57 |  477.1 | 0.12780 | 0.17000 | 0.1578 | 0.08089 | ... | 23.75 | 103.40 |  741.6 | 0.1791 | 0.5249 | 0.5355 | 0.1741 | 0.3985 | 0.12440 | NA |\n",
       "\n"
      ],
      "text/plain": [
       "  id       diagnosis radius_mean texture_mean perimeter_mean area_mean\n",
       "1   842302 M         17.99       10.38        122.80         1001.0   \n",
       "2   842517 M         20.57       17.77        132.90         1326.0   \n",
       "3 84300903 M         19.69       21.25        130.00         1203.0   \n",
       "4 84348301 M         11.42       20.38         77.58          386.1   \n",
       "5 84358402 M         20.29       14.34        135.10         1297.0   \n",
       "6   843786 M         12.45       15.70         82.57          477.1   \n",
       "  smoothness_mean compactness_mean concavity_mean concave points_mean ...\n",
       "1 0.11840         0.27760          0.3001         0.14710             ...\n",
       "2 0.08474         0.07864          0.0869         0.07017             ...\n",
       "3 0.10960         0.15990          0.1974         0.12790             ...\n",
       "4 0.14250         0.28390          0.2414         0.10520             ...\n",
       "5 0.10030         0.13280          0.1980         0.10430             ...\n",
       "6 0.12780         0.17000          0.1578         0.08089             ...\n",
       "  texture_worst perimeter_worst area_worst smoothness_worst compactness_worst\n",
       "1 17.33         184.60          2019.0     0.1622           0.6656           \n",
       "2 23.41         158.80          1956.0     0.1238           0.1866           \n",
       "3 25.53         152.50          1709.0     0.1444           0.4245           \n",
       "4 26.50          98.87           567.7     0.2098           0.8663           \n",
       "5 16.67         152.20          1575.0     0.1374           0.2050           \n",
       "6 23.75         103.40           741.6     0.1791           0.5249           \n",
       "  concavity_worst concave points_worst symmetry_worst fractal_dimension_worst\n",
       "1 0.7119          0.2654               0.4601         0.11890                \n",
       "2 0.2416          0.1860               0.2750         0.08902                \n",
       "3 0.4504          0.2430               0.3613         0.08758                \n",
       "4 0.6869          0.2575               0.6638         0.17300                \n",
       "5 0.4000          0.1625               0.2364         0.07678                \n",
       "6 0.5355          0.1741               0.3985         0.12440                \n",
       "  X33\n",
       "1 NA \n",
       "2 NA \n",
       "3 NA \n",
       "4 NA \n",
       "5 NA \n",
       "6 NA "
      ]
     },
     "metadata": {},
     "output_type": "display_data"
    }
   ],
   "source": [
    "## R provides two functions to visualize a \"slice\" of your data. They're called head and tail.\n",
    "## Let's experiment with them.\n",
    "\n",
    "## Your turn: call the function head with your data as the only argument.\n",
    "\n",
    "### BEGIN SOLUTION ###\n",
    "\n",
    "head(cancer_data)\n",
    "\n",
    "### END SOLUTION ###"
   ]
  },
  {
   "cell_type": "code",
   "execution_count": 22,
   "metadata": {},
   "outputs": [
    {
     "data": {
      "text/html": [
       "<table>\n",
       "<caption>A tibble: 6 × 33</caption>\n",
       "<thead>\n",
       "\t<tr><th scope=col>id</th><th scope=col>diagnosis</th><th scope=col>radius_mean</th><th scope=col>texture_mean</th><th scope=col>perimeter_mean</th><th scope=col>area_mean</th><th scope=col>smoothness_mean</th><th scope=col>compactness_mean</th><th scope=col>concavity_mean</th><th scope=col>concave points_mean</th><th scope=col>...</th><th scope=col>texture_worst</th><th scope=col>perimeter_worst</th><th scope=col>area_worst</th><th scope=col>smoothness_worst</th><th scope=col>compactness_worst</th><th scope=col>concavity_worst</th><th scope=col>concave points_worst</th><th scope=col>symmetry_worst</th><th scope=col>fractal_dimension_worst</th><th scope=col>X33</th></tr>\n",
       "\t<tr><th scope=col>&lt;dbl&gt;</th><th scope=col>&lt;chr&gt;</th><th scope=col>&lt;dbl&gt;</th><th scope=col>&lt;dbl&gt;</th><th scope=col>&lt;dbl&gt;</th><th scope=col>&lt;dbl&gt;</th><th scope=col>&lt;dbl&gt;</th><th scope=col>&lt;dbl&gt;</th><th scope=col>&lt;dbl&gt;</th><th scope=col>&lt;dbl&gt;</th><th scope=col>...</th><th scope=col>&lt;dbl&gt;</th><th scope=col>&lt;dbl&gt;</th><th scope=col>&lt;dbl&gt;</th><th scope=col>&lt;dbl&gt;</th><th scope=col>&lt;dbl&gt;</th><th scope=col>&lt;dbl&gt;</th><th scope=col>&lt;dbl&gt;</th><th scope=col>&lt;dbl&gt;</th><th scope=col>&lt;dbl&gt;</th><th scope=col>&lt;chr&gt;</th></tr>\n",
       "</thead>\n",
       "<tbody>\n",
       "\t<tr><td>926125</td><td>M</td><td>20.92</td><td>25.09</td><td>143.00</td><td>1347.0</td><td>0.10990</td><td>0.22360</td><td>0.31740</td><td>0.14740</td><td>...</td><td>29.41</td><td>179.10</td><td>1819.0</td><td>0.14070</td><td>0.41860</td><td>0.6599</td><td>0.2542</td><td>0.2929</td><td>0.09873</td><td>NA</td></tr>\n",
       "\t<tr><td>926424</td><td>M</td><td>21.56</td><td>22.39</td><td>142.00</td><td>1479.0</td><td>0.11100</td><td>0.11590</td><td>0.24390</td><td>0.13890</td><td>...</td><td>26.40</td><td>166.10</td><td>2027.0</td><td>0.14100</td><td>0.21130</td><td>0.4107</td><td>0.2216</td><td>0.2060</td><td>0.07115</td><td>NA</td></tr>\n",
       "\t<tr><td>926682</td><td>M</td><td>20.13</td><td>28.25</td><td>131.20</td><td>1261.0</td><td>0.09780</td><td>0.10340</td><td>0.14400</td><td>0.09791</td><td>...</td><td>38.25</td><td>155.00</td><td>1731.0</td><td>0.11660</td><td>0.19220</td><td>0.3215</td><td>0.1628</td><td>0.2572</td><td>0.06637</td><td>NA</td></tr>\n",
       "\t<tr><td>926954</td><td>M</td><td>16.60</td><td>28.08</td><td>108.30</td><td> 858.1</td><td>0.08455</td><td>0.10230</td><td>0.09251</td><td>0.05302</td><td>...</td><td>34.12</td><td>126.70</td><td>1124.0</td><td>0.11390</td><td>0.30940</td><td>0.3403</td><td>0.1418</td><td>0.2218</td><td>0.07820</td><td>NA</td></tr>\n",
       "\t<tr><td>927241</td><td>M</td><td>20.60</td><td>29.33</td><td>140.10</td><td>1265.0</td><td>0.11780</td><td>0.27700</td><td>0.35140</td><td>0.15200</td><td>...</td><td>39.42</td><td>184.60</td><td>1821.0</td><td>0.16500</td><td>0.86810</td><td>0.9387</td><td>0.2650</td><td>0.4087</td><td>0.12400</td><td>NA</td></tr>\n",
       "\t<tr><td> 92751</td><td>B</td><td> 7.76</td><td>24.54</td><td> 47.92</td><td> 181.0</td><td>0.05263</td><td>0.04362</td><td>0.00000</td><td>0.00000</td><td>...</td><td>30.37</td><td> 59.16</td><td> 268.6</td><td>0.08996</td><td>0.06444</td><td>0.0000</td><td>0.0000</td><td>0.2871</td><td>0.07039</td><td>NA</td></tr>\n",
       "</tbody>\n",
       "</table>\n"
      ],
      "text/latex": [
       "A tibble: 6 × 33\n",
       "\\begin{tabular}{lllllllllllllllllllll}\n",
       " id & diagnosis & radius\\_mean & texture\\_mean & perimeter\\_mean & area\\_mean & smoothness\\_mean & compactness\\_mean & concavity\\_mean & concave points\\_mean & ... & texture\\_worst & perimeter\\_worst & area\\_worst & smoothness\\_worst & compactness\\_worst & concavity\\_worst & concave points\\_worst & symmetry\\_worst & fractal\\_dimension\\_worst & X33\\\\\n",
       " <dbl> & <chr> & <dbl> & <dbl> & <dbl> & <dbl> & <dbl> & <dbl> & <dbl> & <dbl> & ... & <dbl> & <dbl> & <dbl> & <dbl> & <dbl> & <dbl> & <dbl> & <dbl> & <dbl> & <chr>\\\\\n",
       "\\hline\n",
       "\t 926125 & M & 20.92 & 25.09 & 143.00 & 1347.0 & 0.10990 & 0.22360 & 0.31740 & 0.14740 & ... & 29.41 & 179.10 & 1819.0 & 0.14070 & 0.41860 & 0.6599 & 0.2542 & 0.2929 & 0.09873 & NA\\\\\n",
       "\t 926424 & M & 21.56 & 22.39 & 142.00 & 1479.0 & 0.11100 & 0.11590 & 0.24390 & 0.13890 & ... & 26.40 & 166.10 & 2027.0 & 0.14100 & 0.21130 & 0.4107 & 0.2216 & 0.2060 & 0.07115 & NA\\\\\n",
       "\t 926682 & M & 20.13 & 28.25 & 131.20 & 1261.0 & 0.09780 & 0.10340 & 0.14400 & 0.09791 & ... & 38.25 & 155.00 & 1731.0 & 0.11660 & 0.19220 & 0.3215 & 0.1628 & 0.2572 & 0.06637 & NA\\\\\n",
       "\t 926954 & M & 16.60 & 28.08 & 108.30 &  858.1 & 0.08455 & 0.10230 & 0.09251 & 0.05302 & ... & 34.12 & 126.70 & 1124.0 & 0.11390 & 0.30940 & 0.3403 & 0.1418 & 0.2218 & 0.07820 & NA\\\\\n",
       "\t 927241 & M & 20.60 & 29.33 & 140.10 & 1265.0 & 0.11780 & 0.27700 & 0.35140 & 0.15200 & ... & 39.42 & 184.60 & 1821.0 & 0.16500 & 0.86810 & 0.9387 & 0.2650 & 0.4087 & 0.12400 & NA\\\\\n",
       "\t  92751 & B &  7.76 & 24.54 &  47.92 &  181.0 & 0.05263 & 0.04362 & 0.00000 & 0.00000 & ... & 30.37 &  59.16 &  268.6 & 0.08996 & 0.06444 & 0.0000 & 0.0000 & 0.2871 & 0.07039 & NA\\\\\n",
       "\\end{tabular}\n"
      ],
      "text/markdown": [
       "\n",
       "A tibble: 6 × 33\n",
       "\n",
       "| id &lt;dbl&gt; | diagnosis &lt;chr&gt; | radius_mean &lt;dbl&gt; | texture_mean &lt;dbl&gt; | perimeter_mean &lt;dbl&gt; | area_mean &lt;dbl&gt; | smoothness_mean &lt;dbl&gt; | compactness_mean &lt;dbl&gt; | concavity_mean &lt;dbl&gt; | concave points_mean &lt;dbl&gt; | ... ... | texture_worst &lt;dbl&gt; | perimeter_worst &lt;dbl&gt; | area_worst &lt;dbl&gt; | smoothness_worst &lt;dbl&gt; | compactness_worst &lt;dbl&gt; | concavity_worst &lt;dbl&gt; | concave points_worst &lt;dbl&gt; | symmetry_worst &lt;dbl&gt; | fractal_dimension_worst &lt;dbl&gt; | X33 &lt;chr&gt; |\n",
       "|---|---|---|---|---|---|---|---|---|---|---|---|---|---|---|---|---|---|---|---|---|\n",
       "| 926125 | M | 20.92 | 25.09 | 143.00 | 1347.0 | 0.10990 | 0.22360 | 0.31740 | 0.14740 | ... | 29.41 | 179.10 | 1819.0 | 0.14070 | 0.41860 | 0.6599 | 0.2542 | 0.2929 | 0.09873 | NA |\n",
       "| 926424 | M | 21.56 | 22.39 | 142.00 | 1479.0 | 0.11100 | 0.11590 | 0.24390 | 0.13890 | ... | 26.40 | 166.10 | 2027.0 | 0.14100 | 0.21130 | 0.4107 | 0.2216 | 0.2060 | 0.07115 | NA |\n",
       "| 926682 | M | 20.13 | 28.25 | 131.20 | 1261.0 | 0.09780 | 0.10340 | 0.14400 | 0.09791 | ... | 38.25 | 155.00 | 1731.0 | 0.11660 | 0.19220 | 0.3215 | 0.1628 | 0.2572 | 0.06637 | NA |\n",
       "| 926954 | M | 16.60 | 28.08 | 108.30 |  858.1 | 0.08455 | 0.10230 | 0.09251 | 0.05302 | ... | 34.12 | 126.70 | 1124.0 | 0.11390 | 0.30940 | 0.3403 | 0.1418 | 0.2218 | 0.07820 | NA |\n",
       "| 927241 | M | 20.60 | 29.33 | 140.10 | 1265.0 | 0.11780 | 0.27700 | 0.35140 | 0.15200 | ... | 39.42 | 184.60 | 1821.0 | 0.16500 | 0.86810 | 0.9387 | 0.2650 | 0.4087 | 0.12400 | NA |\n",
       "|  92751 | B |  7.76 | 24.54 |  47.92 |  181.0 | 0.05263 | 0.04362 | 0.00000 | 0.00000 | ... | 30.37 |  59.16 |  268.6 | 0.08996 | 0.06444 | 0.0000 | 0.0000 | 0.2871 | 0.07039 | NA |\n",
       "\n"
      ],
      "text/plain": [
       "  id     diagnosis radius_mean texture_mean perimeter_mean area_mean\n",
       "1 926125 M         20.92       25.09        143.00         1347.0   \n",
       "2 926424 M         21.56       22.39        142.00         1479.0   \n",
       "3 926682 M         20.13       28.25        131.20         1261.0   \n",
       "4 926954 M         16.60       28.08        108.30          858.1   \n",
       "5 927241 M         20.60       29.33        140.10         1265.0   \n",
       "6  92751 B          7.76       24.54         47.92          181.0   \n",
       "  smoothness_mean compactness_mean concavity_mean concave points_mean ...\n",
       "1 0.10990         0.22360          0.31740        0.14740             ...\n",
       "2 0.11100         0.11590          0.24390        0.13890             ...\n",
       "3 0.09780         0.10340          0.14400        0.09791             ...\n",
       "4 0.08455         0.10230          0.09251        0.05302             ...\n",
       "5 0.11780         0.27700          0.35140        0.15200             ...\n",
       "6 0.05263         0.04362          0.00000        0.00000             ...\n",
       "  texture_worst perimeter_worst area_worst smoothness_worst compactness_worst\n",
       "1 29.41         179.10          1819.0     0.14070          0.41860          \n",
       "2 26.40         166.10          2027.0     0.14100          0.21130          \n",
       "3 38.25         155.00          1731.0     0.11660          0.19220          \n",
       "4 34.12         126.70          1124.0     0.11390          0.30940          \n",
       "5 39.42         184.60          1821.0     0.16500          0.86810          \n",
       "6 30.37          59.16           268.6     0.08996          0.06444          \n",
       "  concavity_worst concave points_worst symmetry_worst fractal_dimension_worst\n",
       "1 0.6599          0.2542               0.2929         0.09873                \n",
       "2 0.4107          0.2216               0.2060         0.07115                \n",
       "3 0.3215          0.1628               0.2572         0.06637                \n",
       "4 0.3403          0.1418               0.2218         0.07820                \n",
       "5 0.9387          0.2650               0.4087         0.12400                \n",
       "6 0.0000          0.0000               0.2871         0.07039                \n",
       "  X33\n",
       "1 NA \n",
       "2 NA \n",
       "3 NA \n",
       "4 NA \n",
       "5 NA \n",
       "6 NA "
      ]
     },
     "metadata": {},
     "output_type": "display_data"
    }
   ],
   "source": [
    "## Your turn: do the same with tail\n",
    "\n",
    "### BEGIN SOLUTION ###\n",
    "\n",
    "tail(cancer_data)\n",
    "\n",
    "### END SOLUTION ###"
   ]
  },
  {
   "cell_type": "code",
   "execution_count": 23,
   "metadata": {},
   "outputs": [
    {
     "data": {
      "text/html": [
       "<table>\n",
       "<caption>A tibble: 10 × 33</caption>\n",
       "<thead>\n",
       "\t<tr><th scope=col>id</th><th scope=col>diagnosis</th><th scope=col>radius_mean</th><th scope=col>texture_mean</th><th scope=col>perimeter_mean</th><th scope=col>area_mean</th><th scope=col>smoothness_mean</th><th scope=col>compactness_mean</th><th scope=col>concavity_mean</th><th scope=col>concave points_mean</th><th scope=col>...</th><th scope=col>texture_worst</th><th scope=col>perimeter_worst</th><th scope=col>area_worst</th><th scope=col>smoothness_worst</th><th scope=col>compactness_worst</th><th scope=col>concavity_worst</th><th scope=col>concave points_worst</th><th scope=col>symmetry_worst</th><th scope=col>fractal_dimension_worst</th><th scope=col>X33</th></tr>\n",
       "\t<tr><th scope=col>&lt;dbl&gt;</th><th scope=col>&lt;chr&gt;</th><th scope=col>&lt;dbl&gt;</th><th scope=col>&lt;dbl&gt;</th><th scope=col>&lt;dbl&gt;</th><th scope=col>&lt;dbl&gt;</th><th scope=col>&lt;dbl&gt;</th><th scope=col>&lt;dbl&gt;</th><th scope=col>&lt;dbl&gt;</th><th scope=col>&lt;dbl&gt;</th><th scope=col>...</th><th scope=col>&lt;dbl&gt;</th><th scope=col>&lt;dbl&gt;</th><th scope=col>&lt;dbl&gt;</th><th scope=col>&lt;dbl&gt;</th><th scope=col>&lt;dbl&gt;</th><th scope=col>&lt;dbl&gt;</th><th scope=col>&lt;dbl&gt;</th><th scope=col>&lt;dbl&gt;</th><th scope=col>&lt;dbl&gt;</th><th scope=col>&lt;chr&gt;</th></tr>\n",
       "</thead>\n",
       "<tbody>\n",
       "\t<tr><td>  842302</td><td>M</td><td>17.99</td><td>10.38</td><td>122.80</td><td>1001.0</td><td>0.11840</td><td>0.27760</td><td>0.30010</td><td>0.14710</td><td>...</td><td>17.33</td><td>184.60</td><td>2019.0</td><td>0.1622</td><td>0.6656</td><td>0.7119</td><td>0.2654</td><td>0.4601</td><td>0.11890</td><td>NA</td></tr>\n",
       "\t<tr><td>  842517</td><td>M</td><td>20.57</td><td>17.77</td><td>132.90</td><td>1326.0</td><td>0.08474</td><td>0.07864</td><td>0.08690</td><td>0.07017</td><td>...</td><td>23.41</td><td>158.80</td><td>1956.0</td><td>0.1238</td><td>0.1866</td><td>0.2416</td><td>0.1860</td><td>0.2750</td><td>0.08902</td><td>NA</td></tr>\n",
       "\t<tr><td>84300903</td><td>M</td><td>19.69</td><td>21.25</td><td>130.00</td><td>1203.0</td><td>0.10960</td><td>0.15990</td><td>0.19740</td><td>0.12790</td><td>...</td><td>25.53</td><td>152.50</td><td>1709.0</td><td>0.1444</td><td>0.4245</td><td>0.4504</td><td>0.2430</td><td>0.3613</td><td>0.08758</td><td>NA</td></tr>\n",
       "\t<tr><td>84348301</td><td>M</td><td>11.42</td><td>20.38</td><td> 77.58</td><td> 386.1</td><td>0.14250</td><td>0.28390</td><td>0.24140</td><td>0.10520</td><td>...</td><td>26.50</td><td> 98.87</td><td> 567.7</td><td>0.2098</td><td>0.8663</td><td>0.6869</td><td>0.2575</td><td>0.6638</td><td>0.17300</td><td>NA</td></tr>\n",
       "\t<tr><td>84358402</td><td>M</td><td>20.29</td><td>14.34</td><td>135.10</td><td>1297.0</td><td>0.10030</td><td>0.13280</td><td>0.19800</td><td>0.10430</td><td>...</td><td>16.67</td><td>152.20</td><td>1575.0</td><td>0.1374</td><td>0.2050</td><td>0.4000</td><td>0.1625</td><td>0.2364</td><td>0.07678</td><td>NA</td></tr>\n",
       "\t<tr><td>  843786</td><td>M</td><td>12.45</td><td>15.70</td><td> 82.57</td><td> 477.1</td><td>0.12780</td><td>0.17000</td><td>0.15780</td><td>0.08089</td><td>...</td><td>23.75</td><td>103.40</td><td> 741.6</td><td>0.1791</td><td>0.5249</td><td>0.5355</td><td>0.1741</td><td>0.3985</td><td>0.12440</td><td>NA</td></tr>\n",
       "\t<tr><td>  844359</td><td>M</td><td>18.25</td><td>19.98</td><td>119.60</td><td>1040.0</td><td>0.09463</td><td>0.10900</td><td>0.11270</td><td>0.07400</td><td>...</td><td>27.66</td><td>153.20</td><td>1606.0</td><td>0.1442</td><td>0.2576</td><td>0.3784</td><td>0.1932</td><td>0.3063</td><td>0.08368</td><td>NA</td></tr>\n",
       "\t<tr><td>84458202</td><td>M</td><td>13.71</td><td>20.83</td><td> 90.20</td><td> 577.9</td><td>0.11890</td><td>0.16450</td><td>0.09366</td><td>0.05985</td><td>...</td><td>28.14</td><td>110.60</td><td> 897.0</td><td>0.1654</td><td>0.3682</td><td>0.2678</td><td>0.1556</td><td>0.3196</td><td>0.11510</td><td>NA</td></tr>\n",
       "\t<tr><td>  844981</td><td>M</td><td>13.00</td><td>21.82</td><td> 87.50</td><td> 519.8</td><td>0.12730</td><td>0.19320</td><td>0.18590</td><td>0.09353</td><td>...</td><td>30.73</td><td>106.20</td><td> 739.3</td><td>0.1703</td><td>0.5401</td><td>0.5390</td><td>0.2060</td><td>0.4378</td><td>0.10720</td><td>NA</td></tr>\n",
       "\t<tr><td>84501001</td><td>M</td><td>12.46</td><td>24.04</td><td> 83.97</td><td> 475.9</td><td>0.11860</td><td>0.23960</td><td>0.22730</td><td>0.08543</td><td>...</td><td>40.68</td><td> 97.65</td><td> 711.4</td><td>0.1853</td><td>1.0580</td><td>1.1050</td><td>0.2210</td><td>0.4366</td><td>0.20750</td><td>NA</td></tr>\n",
       "</tbody>\n",
       "</table>\n"
      ],
      "text/latex": [
       "A tibble: 10 × 33\n",
       "\\begin{tabular}{lllllllllllllllllllll}\n",
       " id & diagnosis & radius\\_mean & texture\\_mean & perimeter\\_mean & area\\_mean & smoothness\\_mean & compactness\\_mean & concavity\\_mean & concave points\\_mean & ... & texture\\_worst & perimeter\\_worst & area\\_worst & smoothness\\_worst & compactness\\_worst & concavity\\_worst & concave points\\_worst & symmetry\\_worst & fractal\\_dimension\\_worst & X33\\\\\n",
       " <dbl> & <chr> & <dbl> & <dbl> & <dbl> & <dbl> & <dbl> & <dbl> & <dbl> & <dbl> & ... & <dbl> & <dbl> & <dbl> & <dbl> & <dbl> & <dbl> & <dbl> & <dbl> & <dbl> & <chr>\\\\\n",
       "\\hline\n",
       "\t   842302 & M & 17.99 & 10.38 & 122.80 & 1001.0 & 0.11840 & 0.27760 & 0.30010 & 0.14710 & ... & 17.33 & 184.60 & 2019.0 & 0.1622 & 0.6656 & 0.7119 & 0.2654 & 0.4601 & 0.11890 & NA\\\\\n",
       "\t   842517 & M & 20.57 & 17.77 & 132.90 & 1326.0 & 0.08474 & 0.07864 & 0.08690 & 0.07017 & ... & 23.41 & 158.80 & 1956.0 & 0.1238 & 0.1866 & 0.2416 & 0.1860 & 0.2750 & 0.08902 & NA\\\\\n",
       "\t 84300903 & M & 19.69 & 21.25 & 130.00 & 1203.0 & 0.10960 & 0.15990 & 0.19740 & 0.12790 & ... & 25.53 & 152.50 & 1709.0 & 0.1444 & 0.4245 & 0.4504 & 0.2430 & 0.3613 & 0.08758 & NA\\\\\n",
       "\t 84348301 & M & 11.42 & 20.38 &  77.58 &  386.1 & 0.14250 & 0.28390 & 0.24140 & 0.10520 & ... & 26.50 &  98.87 &  567.7 & 0.2098 & 0.8663 & 0.6869 & 0.2575 & 0.6638 & 0.17300 & NA\\\\\n",
       "\t 84358402 & M & 20.29 & 14.34 & 135.10 & 1297.0 & 0.10030 & 0.13280 & 0.19800 & 0.10430 & ... & 16.67 & 152.20 & 1575.0 & 0.1374 & 0.2050 & 0.4000 & 0.1625 & 0.2364 & 0.07678 & NA\\\\\n",
       "\t   843786 & M & 12.45 & 15.70 &  82.57 &  477.1 & 0.12780 & 0.17000 & 0.15780 & 0.08089 & ... & 23.75 & 103.40 &  741.6 & 0.1791 & 0.5249 & 0.5355 & 0.1741 & 0.3985 & 0.12440 & NA\\\\\n",
       "\t   844359 & M & 18.25 & 19.98 & 119.60 & 1040.0 & 0.09463 & 0.10900 & 0.11270 & 0.07400 & ... & 27.66 & 153.20 & 1606.0 & 0.1442 & 0.2576 & 0.3784 & 0.1932 & 0.3063 & 0.08368 & NA\\\\\n",
       "\t 84458202 & M & 13.71 & 20.83 &  90.20 &  577.9 & 0.11890 & 0.16450 & 0.09366 & 0.05985 & ... & 28.14 & 110.60 &  897.0 & 0.1654 & 0.3682 & 0.2678 & 0.1556 & 0.3196 & 0.11510 & NA\\\\\n",
       "\t   844981 & M & 13.00 & 21.82 &  87.50 &  519.8 & 0.12730 & 0.19320 & 0.18590 & 0.09353 & ... & 30.73 & 106.20 &  739.3 & 0.1703 & 0.5401 & 0.5390 & 0.2060 & 0.4378 & 0.10720 & NA\\\\\n",
       "\t 84501001 & M & 12.46 & 24.04 &  83.97 &  475.9 & 0.11860 & 0.23960 & 0.22730 & 0.08543 & ... & 40.68 &  97.65 &  711.4 & 0.1853 & 1.0580 & 1.1050 & 0.2210 & 0.4366 & 0.20750 & NA\\\\\n",
       "\\end{tabular}\n"
      ],
      "text/markdown": [
       "\n",
       "A tibble: 10 × 33\n",
       "\n",
       "| id &lt;dbl&gt; | diagnosis &lt;chr&gt; | radius_mean &lt;dbl&gt; | texture_mean &lt;dbl&gt; | perimeter_mean &lt;dbl&gt; | area_mean &lt;dbl&gt; | smoothness_mean &lt;dbl&gt; | compactness_mean &lt;dbl&gt; | concavity_mean &lt;dbl&gt; | concave points_mean &lt;dbl&gt; | ... ... | texture_worst &lt;dbl&gt; | perimeter_worst &lt;dbl&gt; | area_worst &lt;dbl&gt; | smoothness_worst &lt;dbl&gt; | compactness_worst &lt;dbl&gt; | concavity_worst &lt;dbl&gt; | concave points_worst &lt;dbl&gt; | symmetry_worst &lt;dbl&gt; | fractal_dimension_worst &lt;dbl&gt; | X33 &lt;chr&gt; |\n",
       "|---|---|---|---|---|---|---|---|---|---|---|---|---|---|---|---|---|---|---|---|---|\n",
       "|   842302 | M | 17.99 | 10.38 | 122.80 | 1001.0 | 0.11840 | 0.27760 | 0.30010 | 0.14710 | ... | 17.33 | 184.60 | 2019.0 | 0.1622 | 0.6656 | 0.7119 | 0.2654 | 0.4601 | 0.11890 | NA |\n",
       "|   842517 | M | 20.57 | 17.77 | 132.90 | 1326.0 | 0.08474 | 0.07864 | 0.08690 | 0.07017 | ... | 23.41 | 158.80 | 1956.0 | 0.1238 | 0.1866 | 0.2416 | 0.1860 | 0.2750 | 0.08902 | NA |\n",
       "| 84300903 | M | 19.69 | 21.25 | 130.00 | 1203.0 | 0.10960 | 0.15990 | 0.19740 | 0.12790 | ... | 25.53 | 152.50 | 1709.0 | 0.1444 | 0.4245 | 0.4504 | 0.2430 | 0.3613 | 0.08758 | NA |\n",
       "| 84348301 | M | 11.42 | 20.38 |  77.58 |  386.1 | 0.14250 | 0.28390 | 0.24140 | 0.10520 | ... | 26.50 |  98.87 |  567.7 | 0.2098 | 0.8663 | 0.6869 | 0.2575 | 0.6638 | 0.17300 | NA |\n",
       "| 84358402 | M | 20.29 | 14.34 | 135.10 | 1297.0 | 0.10030 | 0.13280 | 0.19800 | 0.10430 | ... | 16.67 | 152.20 | 1575.0 | 0.1374 | 0.2050 | 0.4000 | 0.1625 | 0.2364 | 0.07678 | NA |\n",
       "|   843786 | M | 12.45 | 15.70 |  82.57 |  477.1 | 0.12780 | 0.17000 | 0.15780 | 0.08089 | ... | 23.75 | 103.40 |  741.6 | 0.1791 | 0.5249 | 0.5355 | 0.1741 | 0.3985 | 0.12440 | NA |\n",
       "|   844359 | M | 18.25 | 19.98 | 119.60 | 1040.0 | 0.09463 | 0.10900 | 0.11270 | 0.07400 | ... | 27.66 | 153.20 | 1606.0 | 0.1442 | 0.2576 | 0.3784 | 0.1932 | 0.3063 | 0.08368 | NA |\n",
       "| 84458202 | M | 13.71 | 20.83 |  90.20 |  577.9 | 0.11890 | 0.16450 | 0.09366 | 0.05985 | ... | 28.14 | 110.60 |  897.0 | 0.1654 | 0.3682 | 0.2678 | 0.1556 | 0.3196 | 0.11510 | NA |\n",
       "|   844981 | M | 13.00 | 21.82 |  87.50 |  519.8 | 0.12730 | 0.19320 | 0.18590 | 0.09353 | ... | 30.73 | 106.20 |  739.3 | 0.1703 | 0.5401 | 0.5390 | 0.2060 | 0.4378 | 0.10720 | NA |\n",
       "| 84501001 | M | 12.46 | 24.04 |  83.97 |  475.9 | 0.11860 | 0.23960 | 0.22730 | 0.08543 | ... | 40.68 |  97.65 |  711.4 | 0.1853 | 1.0580 | 1.1050 | 0.2210 | 0.4366 | 0.20750 | NA |\n",
       "\n"
      ],
      "text/plain": [
       "   id       diagnosis radius_mean texture_mean perimeter_mean area_mean\n",
       "1    842302 M         17.99       10.38        122.80         1001.0   \n",
       "2    842517 M         20.57       17.77        132.90         1326.0   \n",
       "3  84300903 M         19.69       21.25        130.00         1203.0   \n",
       "4  84348301 M         11.42       20.38         77.58          386.1   \n",
       "5  84358402 M         20.29       14.34        135.10         1297.0   \n",
       "6    843786 M         12.45       15.70         82.57          477.1   \n",
       "7    844359 M         18.25       19.98        119.60         1040.0   \n",
       "8  84458202 M         13.71       20.83         90.20          577.9   \n",
       "9    844981 M         13.00       21.82         87.50          519.8   \n",
       "10 84501001 M         12.46       24.04         83.97          475.9   \n",
       "   smoothness_mean compactness_mean concavity_mean concave points_mean ...\n",
       "1  0.11840         0.27760          0.30010        0.14710             ...\n",
       "2  0.08474         0.07864          0.08690        0.07017             ...\n",
       "3  0.10960         0.15990          0.19740        0.12790             ...\n",
       "4  0.14250         0.28390          0.24140        0.10520             ...\n",
       "5  0.10030         0.13280          0.19800        0.10430             ...\n",
       "6  0.12780         0.17000          0.15780        0.08089             ...\n",
       "7  0.09463         0.10900          0.11270        0.07400             ...\n",
       "8  0.11890         0.16450          0.09366        0.05985             ...\n",
       "9  0.12730         0.19320          0.18590        0.09353             ...\n",
       "10 0.11860         0.23960          0.22730        0.08543             ...\n",
       "   texture_worst perimeter_worst area_worst smoothness_worst compactness_worst\n",
       "1  17.33         184.60          2019.0     0.1622           0.6656           \n",
       "2  23.41         158.80          1956.0     0.1238           0.1866           \n",
       "3  25.53         152.50          1709.0     0.1444           0.4245           \n",
       "4  26.50          98.87           567.7     0.2098           0.8663           \n",
       "5  16.67         152.20          1575.0     0.1374           0.2050           \n",
       "6  23.75         103.40           741.6     0.1791           0.5249           \n",
       "7  27.66         153.20          1606.0     0.1442           0.2576           \n",
       "8  28.14         110.60           897.0     0.1654           0.3682           \n",
       "9  30.73         106.20           739.3     0.1703           0.5401           \n",
       "10 40.68          97.65           711.4     0.1853           1.0580           \n",
       "   concavity_worst concave points_worst symmetry_worst fractal_dimension_worst\n",
       "1  0.7119          0.2654               0.4601         0.11890                \n",
       "2  0.2416          0.1860               0.2750         0.08902                \n",
       "3  0.4504          0.2430               0.3613         0.08758                \n",
       "4  0.6869          0.2575               0.6638         0.17300                \n",
       "5  0.4000          0.1625               0.2364         0.07678                \n",
       "6  0.5355          0.1741               0.3985         0.12440                \n",
       "7  0.3784          0.1932               0.3063         0.08368                \n",
       "8  0.2678          0.1556               0.3196         0.11510                \n",
       "9  0.5390          0.2060               0.4378         0.10720                \n",
       "10 1.1050          0.2210               0.4366         0.20750                \n",
       "   X33\n",
       "1  NA \n",
       "2  NA \n",
       "3  NA \n",
       "4  NA \n",
       "5  NA \n",
       "6  NA \n",
       "7  NA \n",
       "8  NA \n",
       "9  NA \n",
       "10 NA "
      ]
     },
     "metadata": {},
     "output_type": "display_data"
    }
   ],
   "source": [
    "## Your turn: call the head function with two arguments. First, the data like before. \n",
    "## Second, try adding a number (1, 2, 5, 10). What effect does this have?\n",
    "\n",
    "### BEGIN SOLUTION ###\n",
    "\n",
    "head(cancer_data, 10)\n",
    "\n",
    "### END SOLUTION ###"
   ]
  },
  {
   "cell_type": "markdown",
   "metadata": {},
   "source": [
    "#### 2.3—Filtering data\n",
    "\n",
    "Great, now we understand what our data looks like! To produce the result we want, we might want to reduce the scope of our analysis, or filter out bad rows. What if we want to count and see the total number of benign tumors? Or get only tumors where the `smoothness_mean` is over a certain value?\n",
    "\n",
    "To solve problems like this, we need to use filter."
   ]
  },
  {
   "cell_type": "code",
   "execution_count": 24,
   "metadata": {},
   "outputs": [
    {
     "data": {
      "text/html": [
       "FALSE"
      ],
      "text/latex": [
       "FALSE"
      ],
      "text/markdown": [
       "FALSE"
      ],
      "text/plain": [
       "[1] FALSE"
      ]
     },
     "metadata": {},
     "output_type": "display_data"
    },
    {
     "data": {
      "text/html": [
       "TRUE"
      ],
      "text/latex": [
       "TRUE"
      ],
      "text/markdown": [
       "TRUE"
      ],
      "text/plain": [
       "[1] TRUE"
      ]
     },
     "metadata": {},
     "output_type": "display_data"
    }
   ],
   "source": [
    "## Filter accepts two arguments. The first is your data, and the second is the condition. Conditions can be:\n",
    "### exactly equal ==\n",
    "### greater than > (or, greater than or equal to >=)\n",
    "### less than < (or, less than or equal to <=)\n",
    "\n",
    "## Conditions must produce a true or false value. Let's try working with true and false before we use filter.\n",
    "\n",
    "## Your turn: print the result of 5 == 4. Print the result of 5 == 5. Ntice anything interesting about true and false\n",
    "## (think: in terms of spelling, capitalization, or punctuation)\n",
    "\n",
    "5 == 4\n",
    "5 == 5"
   ]
  },
  {
   "cell_type": "code",
   "execution_count": 25,
   "metadata": {},
   "outputs": [
    {
     "data": {
      "text/html": [
       "FALSE"
      ],
      "text/latex": [
       "FALSE"
      ],
      "text/markdown": [
       "FALSE"
      ],
      "text/plain": [
       "[1] FALSE"
      ]
     },
     "metadata": {},
     "output_type": "display_data"
    }
   ],
   "source": [
    "## Your turn: print the result of whether or not negative one hundred is greater than zero. Save that to a variable called\n",
    "## is_colder\n",
    "\n",
    "is_colder <- -100 > 0\n",
    "is_colder"
   ]
  },
  {
   "cell_type": "code",
   "execution_count": 28,
   "metadata": {},
   "outputs": [
    {
     "data": {
      "text/html": [
       "<table>\n",
       "<caption>A tibble: 6 × 33</caption>\n",
       "<thead>\n",
       "\t<tr><th scope=col>id</th><th scope=col>diagnosis</th><th scope=col>radius_mean</th><th scope=col>texture_mean</th><th scope=col>perimeter_mean</th><th scope=col>area_mean</th><th scope=col>smoothness_mean</th><th scope=col>compactness_mean</th><th scope=col>concavity_mean</th><th scope=col>concave points_mean</th><th scope=col>...</th><th scope=col>texture_worst</th><th scope=col>perimeter_worst</th><th scope=col>area_worst</th><th scope=col>smoothness_worst</th><th scope=col>compactness_worst</th><th scope=col>concavity_worst</th><th scope=col>concave points_worst</th><th scope=col>symmetry_worst</th><th scope=col>fractal_dimension_worst</th><th scope=col>X33</th></tr>\n",
       "\t<tr><th scope=col>&lt;dbl&gt;</th><th scope=col>&lt;chr&gt;</th><th scope=col>&lt;dbl&gt;</th><th scope=col>&lt;dbl&gt;</th><th scope=col>&lt;dbl&gt;</th><th scope=col>&lt;dbl&gt;</th><th scope=col>&lt;dbl&gt;</th><th scope=col>&lt;dbl&gt;</th><th scope=col>&lt;dbl&gt;</th><th scope=col>&lt;dbl&gt;</th><th scope=col>...</th><th scope=col>&lt;dbl&gt;</th><th scope=col>&lt;dbl&gt;</th><th scope=col>&lt;dbl&gt;</th><th scope=col>&lt;dbl&gt;</th><th scope=col>&lt;dbl&gt;</th><th scope=col>&lt;dbl&gt;</th><th scope=col>&lt;dbl&gt;</th><th scope=col>&lt;dbl&gt;</th><th scope=col>&lt;dbl&gt;</th><th scope=col>&lt;chr&gt;</th></tr>\n",
       "</thead>\n",
       "<tbody>\n",
       "\t<tr><td> 8510426</td><td>B</td><td>13.540</td><td>14.36</td><td>87.46</td><td>566.3</td><td>0.09779</td><td>0.08129</td><td>0.06664</td><td>0.047810</td><td>...</td><td>19.26</td><td>99.70</td><td>711.2</td><td>0.14400</td><td>0.17730</td><td>0.23900</td><td>0.12880</td><td>0.2977</td><td>0.07259</td><td>NA</td></tr>\n",
       "\t<tr><td> 8510653</td><td>B</td><td>13.080</td><td>15.71</td><td>85.63</td><td>520.0</td><td>0.10750</td><td>0.12700</td><td>0.04568</td><td>0.031100</td><td>...</td><td>20.49</td><td>96.09</td><td>630.5</td><td>0.13120</td><td>0.27760</td><td>0.18900</td><td>0.07283</td><td>0.3184</td><td>0.08183</td><td>NA</td></tr>\n",
       "\t<tr><td> 8510824</td><td>B</td><td> 9.504</td><td>12.44</td><td>60.34</td><td>273.9</td><td>0.10240</td><td>0.06492</td><td>0.02956</td><td>0.020760</td><td>...</td><td>15.66</td><td>65.13</td><td>314.9</td><td>0.13240</td><td>0.11480</td><td>0.08867</td><td>0.06227</td><td>0.2450</td><td>0.07773</td><td>NA</td></tr>\n",
       "\t<tr><td>  854941</td><td>B</td><td>13.030</td><td>18.42</td><td>82.61</td><td>523.8</td><td>0.08983</td><td>0.03766</td><td>0.02562</td><td>0.029230</td><td>...</td><td>22.81</td><td>84.46</td><td>545.9</td><td>0.09701</td><td>0.04619</td><td>0.04833</td><td>0.05013</td><td>0.1987</td><td>0.06169</td><td>NA</td></tr>\n",
       "\t<tr><td>85713702</td><td>B</td><td> 8.196</td><td>16.84</td><td>51.71</td><td>201.9</td><td>0.08600</td><td>0.05943</td><td>0.01588</td><td>0.005917</td><td>...</td><td>21.96</td><td>57.26</td><td>242.2</td><td>0.12970</td><td>0.13570</td><td>0.06880</td><td>0.02564</td><td>0.3105</td><td>0.07409</td><td>NA</td></tr>\n",
       "\t<tr><td>  857155</td><td>B</td><td>12.050</td><td>14.63</td><td>78.04</td><td>449.3</td><td>0.10310</td><td>0.09092</td><td>0.06592</td><td>0.027490</td><td>...</td><td>20.70</td><td>89.88</td><td>582.6</td><td>0.14940</td><td>0.21560</td><td>0.30500</td><td>0.06548</td><td>0.2747</td><td>0.08301</td><td>NA</td></tr>\n",
       "</tbody>\n",
       "</table>\n"
      ],
      "text/latex": [
       "A tibble: 6 × 33\n",
       "\\begin{tabular}{lllllllllllllllllllll}\n",
       " id & diagnosis & radius\\_mean & texture\\_mean & perimeter\\_mean & area\\_mean & smoothness\\_mean & compactness\\_mean & concavity\\_mean & concave points\\_mean & ... & texture\\_worst & perimeter\\_worst & area\\_worst & smoothness\\_worst & compactness\\_worst & concavity\\_worst & concave points\\_worst & symmetry\\_worst & fractal\\_dimension\\_worst & X33\\\\\n",
       " <dbl> & <chr> & <dbl> & <dbl> & <dbl> & <dbl> & <dbl> & <dbl> & <dbl> & <dbl> & ... & <dbl> & <dbl> & <dbl> & <dbl> & <dbl> & <dbl> & <dbl> & <dbl> & <dbl> & <chr>\\\\\n",
       "\\hline\n",
       "\t  8510426 & B & 13.540 & 14.36 & 87.46 & 566.3 & 0.09779 & 0.08129 & 0.06664 & 0.047810 & ... & 19.26 & 99.70 & 711.2 & 0.14400 & 0.17730 & 0.23900 & 0.12880 & 0.2977 & 0.07259 & NA\\\\\n",
       "\t  8510653 & B & 13.080 & 15.71 & 85.63 & 520.0 & 0.10750 & 0.12700 & 0.04568 & 0.031100 & ... & 20.49 & 96.09 & 630.5 & 0.13120 & 0.27760 & 0.18900 & 0.07283 & 0.3184 & 0.08183 & NA\\\\\n",
       "\t  8510824 & B &  9.504 & 12.44 & 60.34 & 273.9 & 0.10240 & 0.06492 & 0.02956 & 0.020760 & ... & 15.66 & 65.13 & 314.9 & 0.13240 & 0.11480 & 0.08867 & 0.06227 & 0.2450 & 0.07773 & NA\\\\\n",
       "\t   854941 & B & 13.030 & 18.42 & 82.61 & 523.8 & 0.08983 & 0.03766 & 0.02562 & 0.029230 & ... & 22.81 & 84.46 & 545.9 & 0.09701 & 0.04619 & 0.04833 & 0.05013 & 0.1987 & 0.06169 & NA\\\\\n",
       "\t 85713702 & B &  8.196 & 16.84 & 51.71 & 201.9 & 0.08600 & 0.05943 & 0.01588 & 0.005917 & ... & 21.96 & 57.26 & 242.2 & 0.12970 & 0.13570 & 0.06880 & 0.02564 & 0.3105 & 0.07409 & NA\\\\\n",
       "\t   857155 & B & 12.050 & 14.63 & 78.04 & 449.3 & 0.10310 & 0.09092 & 0.06592 & 0.027490 & ... & 20.70 & 89.88 & 582.6 & 0.14940 & 0.21560 & 0.30500 & 0.06548 & 0.2747 & 0.08301 & NA\\\\\n",
       "\\end{tabular}\n"
      ],
      "text/markdown": [
       "\n",
       "A tibble: 6 × 33\n",
       "\n",
       "| id &lt;dbl&gt; | diagnosis &lt;chr&gt; | radius_mean &lt;dbl&gt; | texture_mean &lt;dbl&gt; | perimeter_mean &lt;dbl&gt; | area_mean &lt;dbl&gt; | smoothness_mean &lt;dbl&gt; | compactness_mean &lt;dbl&gt; | concavity_mean &lt;dbl&gt; | concave points_mean &lt;dbl&gt; | ... ... | texture_worst &lt;dbl&gt; | perimeter_worst &lt;dbl&gt; | area_worst &lt;dbl&gt; | smoothness_worst &lt;dbl&gt; | compactness_worst &lt;dbl&gt; | concavity_worst &lt;dbl&gt; | concave points_worst &lt;dbl&gt; | symmetry_worst &lt;dbl&gt; | fractal_dimension_worst &lt;dbl&gt; | X33 &lt;chr&gt; |\n",
       "|---|---|---|---|---|---|---|---|---|---|---|---|---|---|---|---|---|---|---|---|---|\n",
       "|  8510426 | B | 13.540 | 14.36 | 87.46 | 566.3 | 0.09779 | 0.08129 | 0.06664 | 0.047810 | ... | 19.26 | 99.70 | 711.2 | 0.14400 | 0.17730 | 0.23900 | 0.12880 | 0.2977 | 0.07259 | NA |\n",
       "|  8510653 | B | 13.080 | 15.71 | 85.63 | 520.0 | 0.10750 | 0.12700 | 0.04568 | 0.031100 | ... | 20.49 | 96.09 | 630.5 | 0.13120 | 0.27760 | 0.18900 | 0.07283 | 0.3184 | 0.08183 | NA |\n",
       "|  8510824 | B |  9.504 | 12.44 | 60.34 | 273.9 | 0.10240 | 0.06492 | 0.02956 | 0.020760 | ... | 15.66 | 65.13 | 314.9 | 0.13240 | 0.11480 | 0.08867 | 0.06227 | 0.2450 | 0.07773 | NA |\n",
       "|   854941 | B | 13.030 | 18.42 | 82.61 | 523.8 | 0.08983 | 0.03766 | 0.02562 | 0.029230 | ... | 22.81 | 84.46 | 545.9 | 0.09701 | 0.04619 | 0.04833 | 0.05013 | 0.1987 | 0.06169 | NA |\n",
       "| 85713702 | B |  8.196 | 16.84 | 51.71 | 201.9 | 0.08600 | 0.05943 | 0.01588 | 0.005917 | ... | 21.96 | 57.26 | 242.2 | 0.12970 | 0.13570 | 0.06880 | 0.02564 | 0.3105 | 0.07409 | NA |\n",
       "|   857155 | B | 12.050 | 14.63 | 78.04 | 449.3 | 0.10310 | 0.09092 | 0.06592 | 0.027490 | ... | 20.70 | 89.88 | 582.6 | 0.14940 | 0.21560 | 0.30500 | 0.06548 | 0.2747 | 0.08301 | NA |\n",
       "\n"
      ],
      "text/plain": [
       "  id       diagnosis radius_mean texture_mean perimeter_mean area_mean\n",
       "1  8510426 B         13.540      14.36        87.46          566.3    \n",
       "2  8510653 B         13.080      15.71        85.63          520.0    \n",
       "3  8510824 B          9.504      12.44        60.34          273.9    \n",
       "4   854941 B         13.030      18.42        82.61          523.8    \n",
       "5 85713702 B          8.196      16.84        51.71          201.9    \n",
       "6   857155 B         12.050      14.63        78.04          449.3    \n",
       "  smoothness_mean compactness_mean concavity_mean concave points_mean ...\n",
       "1 0.09779         0.08129          0.06664        0.047810            ...\n",
       "2 0.10750         0.12700          0.04568        0.031100            ...\n",
       "3 0.10240         0.06492          0.02956        0.020760            ...\n",
       "4 0.08983         0.03766          0.02562        0.029230            ...\n",
       "5 0.08600         0.05943          0.01588        0.005917            ...\n",
       "6 0.10310         0.09092          0.06592        0.027490            ...\n",
       "  texture_worst perimeter_worst area_worst smoothness_worst compactness_worst\n",
       "1 19.26         99.70           711.2      0.14400          0.17730          \n",
       "2 20.49         96.09           630.5      0.13120          0.27760          \n",
       "3 15.66         65.13           314.9      0.13240          0.11480          \n",
       "4 22.81         84.46           545.9      0.09701          0.04619          \n",
       "5 21.96         57.26           242.2      0.12970          0.13570          \n",
       "6 20.70         89.88           582.6      0.14940          0.21560          \n",
       "  concavity_worst concave points_worst symmetry_worst fractal_dimension_worst\n",
       "1 0.23900         0.12880              0.2977         0.07259                \n",
       "2 0.18900         0.07283              0.3184         0.08183                \n",
       "3 0.08867         0.06227              0.2450         0.07773                \n",
       "4 0.04833         0.05013              0.1987         0.06169                \n",
       "5 0.06880         0.02564              0.3105         0.07409                \n",
       "6 0.30500         0.06548              0.2747         0.08301                \n",
       "  X33\n",
       "1 NA \n",
       "2 NA \n",
       "3 NA \n",
       "4 NA \n",
       "5 NA \n",
       "6 NA "
      ]
     },
     "metadata": {},
     "output_type": "display_data"
    }
   ],
   "source": [
    "## Now, let's try filtering.\n",
    "\n",
    "## Your turn: filter all the rows where diagnosis == \"B\" (B stands for benign). Save this result to a value called \n",
    "## benign_rows.\n",
    "\n",
    "benign_rows <- filter(cancer_data, diagnosis == \"B\")\n",
    "head(benign_rows)"
   ]
  },
  {
   "cell_type": "code",
   "execution_count": 29,
   "metadata": {},
   "outputs": [
    {
     "data": {
      "text/html": [
       "<table>\n",
       "<caption>A tibble: 6 × 33</caption>\n",
       "<thead>\n",
       "\t<tr><th scope=col>id</th><th scope=col>diagnosis</th><th scope=col>radius_mean</th><th scope=col>texture_mean</th><th scope=col>perimeter_mean</th><th scope=col>area_mean</th><th scope=col>smoothness_mean</th><th scope=col>compactness_mean</th><th scope=col>concavity_mean</th><th scope=col>concave points_mean</th><th scope=col>...</th><th scope=col>texture_worst</th><th scope=col>perimeter_worst</th><th scope=col>area_worst</th><th scope=col>smoothness_worst</th><th scope=col>compactness_worst</th><th scope=col>concavity_worst</th><th scope=col>concave points_worst</th><th scope=col>symmetry_worst</th><th scope=col>fractal_dimension_worst</th><th scope=col>X33</th></tr>\n",
       "\t<tr><th scope=col>&lt;dbl&gt;</th><th scope=col>&lt;chr&gt;</th><th scope=col>&lt;dbl&gt;</th><th scope=col>&lt;dbl&gt;</th><th scope=col>&lt;dbl&gt;</th><th scope=col>&lt;dbl&gt;</th><th scope=col>&lt;dbl&gt;</th><th scope=col>&lt;dbl&gt;</th><th scope=col>&lt;dbl&gt;</th><th scope=col>&lt;dbl&gt;</th><th scope=col>...</th><th scope=col>&lt;dbl&gt;</th><th scope=col>&lt;dbl&gt;</th><th scope=col>&lt;dbl&gt;</th><th scope=col>&lt;dbl&gt;</th><th scope=col>&lt;dbl&gt;</th><th scope=col>&lt;dbl&gt;</th><th scope=col>&lt;dbl&gt;</th><th scope=col>&lt;dbl&gt;</th><th scope=col>&lt;dbl&gt;</th><th scope=col>&lt;chr&gt;</th></tr>\n",
       "</thead>\n",
       "<tbody>\n",
       "\t<tr><td>925622</td><td>M</td><td>15.22</td><td>30.62</td><td>103.4</td><td> 716.9</td><td>0.10480</td><td>0.2087</td><td>0.25500</td><td>0.09429</td><td>...</td><td>42.79</td><td>128.7</td><td> 915</td><td>0.1417</td><td>0.7917</td><td>1.1700</td><td>0.2356</td><td>0.4089</td><td>0.14090</td><td>NA</td></tr>\n",
       "\t<tr><td>926125</td><td>M</td><td>20.92</td><td>25.09</td><td>143.0</td><td>1347.0</td><td>0.10990</td><td>0.2236</td><td>0.31740</td><td>0.14740</td><td>...</td><td>29.41</td><td>179.1</td><td>1819</td><td>0.1407</td><td>0.4186</td><td>0.6599</td><td>0.2542</td><td>0.2929</td><td>0.09873</td><td>NA</td></tr>\n",
       "\t<tr><td>926424</td><td>M</td><td>21.56</td><td>22.39</td><td>142.0</td><td>1479.0</td><td>0.11100</td><td>0.1159</td><td>0.24390</td><td>0.13890</td><td>...</td><td>26.40</td><td>166.1</td><td>2027</td><td>0.1410</td><td>0.2113</td><td>0.4107</td><td>0.2216</td><td>0.2060</td><td>0.07115</td><td>NA</td></tr>\n",
       "\t<tr><td>926682</td><td>M</td><td>20.13</td><td>28.25</td><td>131.2</td><td>1261.0</td><td>0.09780</td><td>0.1034</td><td>0.14400</td><td>0.09791</td><td>...</td><td>38.25</td><td>155.0</td><td>1731</td><td>0.1166</td><td>0.1922</td><td>0.3215</td><td>0.1628</td><td>0.2572</td><td>0.06637</td><td>NA</td></tr>\n",
       "\t<tr><td>926954</td><td>M</td><td>16.60</td><td>28.08</td><td>108.3</td><td> 858.1</td><td>0.08455</td><td>0.1023</td><td>0.09251</td><td>0.05302</td><td>...</td><td>34.12</td><td>126.7</td><td>1124</td><td>0.1139</td><td>0.3094</td><td>0.3403</td><td>0.1418</td><td>0.2218</td><td>0.07820</td><td>NA</td></tr>\n",
       "\t<tr><td>927241</td><td>M</td><td>20.60</td><td>29.33</td><td>140.1</td><td>1265.0</td><td>0.11780</td><td>0.2770</td><td>0.35140</td><td>0.15200</td><td>...</td><td>39.42</td><td>184.6</td><td>1821</td><td>0.1650</td><td>0.8681</td><td>0.9387</td><td>0.2650</td><td>0.4087</td><td>0.12400</td><td>NA</td></tr>\n",
       "</tbody>\n",
       "</table>\n"
      ],
      "text/latex": [
       "A tibble: 6 × 33\n",
       "\\begin{tabular}{lllllllllllllllllllll}\n",
       " id & diagnosis & radius\\_mean & texture\\_mean & perimeter\\_mean & area\\_mean & smoothness\\_mean & compactness\\_mean & concavity\\_mean & concave points\\_mean & ... & texture\\_worst & perimeter\\_worst & area\\_worst & smoothness\\_worst & compactness\\_worst & concavity\\_worst & concave points\\_worst & symmetry\\_worst & fractal\\_dimension\\_worst & X33\\\\\n",
       " <dbl> & <chr> & <dbl> & <dbl> & <dbl> & <dbl> & <dbl> & <dbl> & <dbl> & <dbl> & ... & <dbl> & <dbl> & <dbl> & <dbl> & <dbl> & <dbl> & <dbl> & <dbl> & <dbl> & <chr>\\\\\n",
       "\\hline\n",
       "\t 925622 & M & 15.22 & 30.62 & 103.4 &  716.9 & 0.10480 & 0.2087 & 0.25500 & 0.09429 & ... & 42.79 & 128.7 &  915 & 0.1417 & 0.7917 & 1.1700 & 0.2356 & 0.4089 & 0.14090 & NA\\\\\n",
       "\t 926125 & M & 20.92 & 25.09 & 143.0 & 1347.0 & 0.10990 & 0.2236 & 0.31740 & 0.14740 & ... & 29.41 & 179.1 & 1819 & 0.1407 & 0.4186 & 0.6599 & 0.2542 & 0.2929 & 0.09873 & NA\\\\\n",
       "\t 926424 & M & 21.56 & 22.39 & 142.0 & 1479.0 & 0.11100 & 0.1159 & 0.24390 & 0.13890 & ... & 26.40 & 166.1 & 2027 & 0.1410 & 0.2113 & 0.4107 & 0.2216 & 0.2060 & 0.07115 & NA\\\\\n",
       "\t 926682 & M & 20.13 & 28.25 & 131.2 & 1261.0 & 0.09780 & 0.1034 & 0.14400 & 0.09791 & ... & 38.25 & 155.0 & 1731 & 0.1166 & 0.1922 & 0.3215 & 0.1628 & 0.2572 & 0.06637 & NA\\\\\n",
       "\t 926954 & M & 16.60 & 28.08 & 108.3 &  858.1 & 0.08455 & 0.1023 & 0.09251 & 0.05302 & ... & 34.12 & 126.7 & 1124 & 0.1139 & 0.3094 & 0.3403 & 0.1418 & 0.2218 & 0.07820 & NA\\\\\n",
       "\t 927241 & M & 20.60 & 29.33 & 140.1 & 1265.0 & 0.11780 & 0.2770 & 0.35140 & 0.15200 & ... & 39.42 & 184.6 & 1821 & 0.1650 & 0.8681 & 0.9387 & 0.2650 & 0.4087 & 0.12400 & NA\\\\\n",
       "\\end{tabular}\n"
      ],
      "text/markdown": [
       "\n",
       "A tibble: 6 × 33\n",
       "\n",
       "| id &lt;dbl&gt; | diagnosis &lt;chr&gt; | radius_mean &lt;dbl&gt; | texture_mean &lt;dbl&gt; | perimeter_mean &lt;dbl&gt; | area_mean &lt;dbl&gt; | smoothness_mean &lt;dbl&gt; | compactness_mean &lt;dbl&gt; | concavity_mean &lt;dbl&gt; | concave points_mean &lt;dbl&gt; | ... ... | texture_worst &lt;dbl&gt; | perimeter_worst &lt;dbl&gt; | area_worst &lt;dbl&gt; | smoothness_worst &lt;dbl&gt; | compactness_worst &lt;dbl&gt; | concavity_worst &lt;dbl&gt; | concave points_worst &lt;dbl&gt; | symmetry_worst &lt;dbl&gt; | fractal_dimension_worst &lt;dbl&gt; | X33 &lt;chr&gt; |\n",
       "|---|---|---|---|---|---|---|---|---|---|---|---|---|---|---|---|---|---|---|---|---|\n",
       "| 925622 | M | 15.22 | 30.62 | 103.4 |  716.9 | 0.10480 | 0.2087 | 0.25500 | 0.09429 | ... | 42.79 | 128.7 |  915 | 0.1417 | 0.7917 | 1.1700 | 0.2356 | 0.4089 | 0.14090 | NA |\n",
       "| 926125 | M | 20.92 | 25.09 | 143.0 | 1347.0 | 0.10990 | 0.2236 | 0.31740 | 0.14740 | ... | 29.41 | 179.1 | 1819 | 0.1407 | 0.4186 | 0.6599 | 0.2542 | 0.2929 | 0.09873 | NA |\n",
       "| 926424 | M | 21.56 | 22.39 | 142.0 | 1479.0 | 0.11100 | 0.1159 | 0.24390 | 0.13890 | ... | 26.40 | 166.1 | 2027 | 0.1410 | 0.2113 | 0.4107 | 0.2216 | 0.2060 | 0.07115 | NA |\n",
       "| 926682 | M | 20.13 | 28.25 | 131.2 | 1261.0 | 0.09780 | 0.1034 | 0.14400 | 0.09791 | ... | 38.25 | 155.0 | 1731 | 0.1166 | 0.1922 | 0.3215 | 0.1628 | 0.2572 | 0.06637 | NA |\n",
       "| 926954 | M | 16.60 | 28.08 | 108.3 |  858.1 | 0.08455 | 0.1023 | 0.09251 | 0.05302 | ... | 34.12 | 126.7 | 1124 | 0.1139 | 0.3094 | 0.3403 | 0.1418 | 0.2218 | 0.07820 | NA |\n",
       "| 927241 | M | 20.60 | 29.33 | 140.1 | 1265.0 | 0.11780 | 0.2770 | 0.35140 | 0.15200 | ... | 39.42 | 184.6 | 1821 | 0.1650 | 0.8681 | 0.9387 | 0.2650 | 0.4087 | 0.12400 | NA |\n",
       "\n"
      ],
      "text/plain": [
       "  id     diagnosis radius_mean texture_mean perimeter_mean area_mean\n",
       "1 925622 M         15.22       30.62        103.4           716.9   \n",
       "2 926125 M         20.92       25.09        143.0          1347.0   \n",
       "3 926424 M         21.56       22.39        142.0          1479.0   \n",
       "4 926682 M         20.13       28.25        131.2          1261.0   \n",
       "5 926954 M         16.60       28.08        108.3           858.1   \n",
       "6 927241 M         20.60       29.33        140.1          1265.0   \n",
       "  smoothness_mean compactness_mean concavity_mean concave points_mean ...\n",
       "1 0.10480         0.2087           0.25500        0.09429             ...\n",
       "2 0.10990         0.2236           0.31740        0.14740             ...\n",
       "3 0.11100         0.1159           0.24390        0.13890             ...\n",
       "4 0.09780         0.1034           0.14400        0.09791             ...\n",
       "5 0.08455         0.1023           0.09251        0.05302             ...\n",
       "6 0.11780         0.2770           0.35140        0.15200             ...\n",
       "  texture_worst perimeter_worst area_worst smoothness_worst compactness_worst\n",
       "1 42.79         128.7            915       0.1417           0.7917           \n",
       "2 29.41         179.1           1819       0.1407           0.4186           \n",
       "3 26.40         166.1           2027       0.1410           0.2113           \n",
       "4 38.25         155.0           1731       0.1166           0.1922           \n",
       "5 34.12         126.7           1124       0.1139           0.3094           \n",
       "6 39.42         184.6           1821       0.1650           0.8681           \n",
       "  concavity_worst concave points_worst symmetry_worst fractal_dimension_worst\n",
       "1 1.1700          0.2356               0.4089         0.14090                \n",
       "2 0.6599          0.2542               0.2929         0.09873                \n",
       "3 0.4107          0.2216               0.2060         0.07115                \n",
       "4 0.3215          0.1628               0.2572         0.06637                \n",
       "5 0.3403          0.1418               0.2218         0.07820                \n",
       "6 0.9387          0.2650               0.4087         0.12400                \n",
       "  X33\n",
       "1 NA \n",
       "2 NA \n",
       "3 NA \n",
       "4 NA \n",
       "5 NA \n",
       "6 NA "
      ]
     },
     "metadata": {},
     "output_type": "display_data"
    }
   ],
   "source": [
    "## Your turn: do the same for malignant rows. (What's the filtering condition?)\n",
    "## Save it to a variable called malignant_rows. Print the tail of that variable.\n",
    "\n",
    "malignant_rows <- filter(cancer_data, diagnosis == \"M\")\n",
    "tail(malignant_rows)"
   ]
  },
  {
   "cell_type": "code",
   "execution_count": 30,
   "metadata": {},
   "outputs": [
    {
     "data": {
      "text/html": [
       "212"
      ],
      "text/latex": [
       "212"
      ],
      "text/markdown": [
       "212"
      ],
      "text/plain": [
       "[1] 212"
      ]
     },
     "metadata": {},
     "output_type": "display_data"
    },
    {
     "data": {
      "text/html": [
       "357"
      ],
      "text/latex": [
       "357"
      ],
      "text/markdown": [
       "357"
      ],
      "text/plain": [
       "[1] 357"
      ]
     },
     "metadata": {},
     "output_type": "display_data"
    }
   ],
   "source": [
    "## R gives us a very fast way to check the \"size\" of a table (that is, the number of rows).\n",
    "## Fittingly, the function is called nrow.\n",
    "\n",
    "## Your turn: get the number of malignant tumors in the data set and save it to a variable called num_malignant. Do \n",
    "## the same for benign.\n",
    "\n",
    "num_malignant <- nrow(malignant_rows)\n",
    "num_benign <- nrow(benign_rows)\n",
    "num_malignant\n",
    "num_benign"
   ]
  },
  {
   "cell_type": "code",
   "execution_count": 31,
   "metadata": {},
   "outputs": [
    {
     "data": {
      "text/html": [
       "569"
      ],
      "text/latex": [
       "569"
      ],
      "text/markdown": [
       "569"
      ],
      "text/plain": [
       "[1] 569"
      ]
     },
     "metadata": {},
     "output_type": "display_data"
    },
    {
     "data": {
      "text/html": [
       "569"
      ],
      "text/latex": [
       "569"
      ],
      "text/markdown": [
       "569"
      ],
      "text/plain": [
       "[1] 569"
      ]
     },
     "metadata": {},
     "output_type": "display_data"
    }
   ],
   "source": [
    "## Your turn: compute the total number of rows in the data set. Save it to a variable called total.\n",
    "\n",
    "total <- num_malignant + num_benign\n",
    "total\n",
    "\n",
    "## OR\n",
    "\n",
    "total <- nrow(cancer_data)\n",
    "total"
   ]
  },
  {
   "cell_type": "code",
   "execution_count": 32,
   "metadata": {},
   "outputs": [
    {
     "data": {
      "text/html": [
       "37.2583479789104"
      ],
      "text/latex": [
       "37.2583479789104"
      ],
      "text/markdown": [
       "37.2583479789104"
      ],
      "text/plain": [
       "[1] 37.25835"
      ]
     },
     "metadata": {},
     "output_type": "display_data"
    },
    {
     "data": {
      "text/html": [
       "62.7416520210896"
      ],
      "text/latex": [
       "62.7416520210896"
      ],
      "text/markdown": [
       "62.7416520210896"
      ],
      "text/plain": [
       "[1] 62.74165"
      ]
     },
     "metadata": {},
     "output_type": "display_data"
    }
   ],
   "source": [
    "## Your turn: print the percentage benign, and percentage malignant in the data set.\n",
    "## Hint: this is just a math problem.\n",
    "\n",
    "num_malignant / total * 100\n",
    "num_benign / total * 100"
   ]
  },
  {
   "cell_type": "markdown",
   "metadata": {},
   "source": [
    "#### 2.4—Selecting data\n",
    "\n",
    "There are a ton of columns associated with the cancer data. These are sometimes called factors, or aspects. We often want to do our analysis on just a few of those columns. R has an easy way of doing this!"
   ]
  },
  {
   "cell_type": "code",
   "execution_count": 33,
   "metadata": {},
   "outputs": [
    {
     "data": {
      "text/html": [
       "<table>\n",
       "<caption>A tibble: 6 × 3</caption>\n",
       "<thead>\n",
       "\t<tr><th scope=col>diagnosis</th><th scope=col>radius_mean</th><th scope=col>smoothness_mean</th></tr>\n",
       "\t<tr><th scope=col>&lt;chr&gt;</th><th scope=col>&lt;dbl&gt;</th><th scope=col>&lt;dbl&gt;</th></tr>\n",
       "</thead>\n",
       "<tbody>\n",
       "\t<tr><td>M</td><td>17.99</td><td>0.11840</td></tr>\n",
       "\t<tr><td>M</td><td>20.57</td><td>0.08474</td></tr>\n",
       "\t<tr><td>M</td><td>19.69</td><td>0.10960</td></tr>\n",
       "\t<tr><td>M</td><td>11.42</td><td>0.14250</td></tr>\n",
       "\t<tr><td>M</td><td>20.29</td><td>0.10030</td></tr>\n",
       "\t<tr><td>M</td><td>12.45</td><td>0.12780</td></tr>\n",
       "</tbody>\n",
       "</table>\n"
      ],
      "text/latex": [
       "A tibble: 6 × 3\n",
       "\\begin{tabular}{lll}\n",
       " diagnosis & radius\\_mean & smoothness\\_mean\\\\\n",
       " <chr> & <dbl> & <dbl>\\\\\n",
       "\\hline\n",
       "\t M & 17.99 & 0.11840\\\\\n",
       "\t M & 20.57 & 0.08474\\\\\n",
       "\t M & 19.69 & 0.10960\\\\\n",
       "\t M & 11.42 & 0.14250\\\\\n",
       "\t M & 20.29 & 0.10030\\\\\n",
       "\t M & 12.45 & 0.12780\\\\\n",
       "\\end{tabular}\n"
      ],
      "text/markdown": [
       "\n",
       "A tibble: 6 × 3\n",
       "\n",
       "| diagnosis &lt;chr&gt; | radius_mean &lt;dbl&gt; | smoothness_mean &lt;dbl&gt; |\n",
       "|---|---|---|\n",
       "| M | 17.99 | 0.11840 |\n",
       "| M | 20.57 | 0.08474 |\n",
       "| M | 19.69 | 0.10960 |\n",
       "| M | 11.42 | 0.14250 |\n",
       "| M | 20.29 | 0.10030 |\n",
       "| M | 12.45 | 0.12780 |\n",
       "\n"
      ],
      "text/plain": [
       "  diagnosis radius_mean smoothness_mean\n",
       "1 M         17.99       0.11840        \n",
       "2 M         20.57       0.08474        \n",
       "3 M         19.69       0.10960        \n",
       "4 M         11.42       0.14250        \n",
       "5 M         20.29       0.10030        \n",
       "6 M         12.45       0.12780        "
      ]
     },
     "metadata": {},
     "output_type": "display_data"
    }
   ],
   "source": [
    "## The function we use is called \"select\". Select's first parameter must be the data set.\n",
    "## Then, every parameter after must be a column we want to keep.\n",
    "\n",
    "## for example, selected_columns <- select(original_data, column1, column2, ..., columnN)\n",
    "## You can select as many, or as few, columns as you want\n",
    "\n",
    "## Your turn: select only the diagnosis, radius_mean, and smoothness_mean columns from the (original) cancer data. Save\n",
    "## it to a variable called cancer_select.\n",
    "\n",
    "cancer_select <- select(cancer_data, diagnosis, radius_mean, smoothness_mean)\n",
    "head(cancer_select)"
   ]
  },
  {
   "cell_type": "code",
   "execution_count": null,
   "metadata": {},
   "outputs": [],
   "source": [
    "## We can also choose to select all columns *except* one (or two, or three, etc.) We do this through the minus symbol.\n",
    "\n",
    "## for example, selected_columns <- select(original_data, -column1, -column2, ..., -columnN)\n",
    "## This removes column1, column2, ..., columnN\n",
    "\n",
    "## Your turn: select every column except the diagnosis column and id column. Save it to a variable called anonymous_data.\n",
    "\n",
    "anonymous_data. <- select(cancer_data, -diagnosis, -id)\n",
    "head(anonymous_data.)"
   ]
  },
  {
   "cell_type": "markdown",
   "metadata": {},
   "source": [
    "#### tl;dr\n",
    "\n",
    "This entire process of selecting, filtering, and modifying data is generally referred to as \"wrangling.\" This process is extremely important, because working with good, clean data is vital to producing a good visualization.\n",
    "\n",
    "Want to learn more about what \"clean\" data means? Come to part 2 of this workshop!"
   ]
  },
  {
   "cell_type": "markdown",
   "metadata": {},
   "source": [
    "#### 2.X—Challenge\n",
    "\n",
    "Sometimes data comes with imperfections. Here we learned the tools to \"fix\" those imperfections, but the data we're using doesn't have very many.\n",
    "\n",
    "There is one thing though--the column X33 contains a lot of NA values. What if we wanted to filter those out?"
   ]
  },
  {
   "cell_type": "code",
   "execution_count": 36,
   "metadata": {},
   "outputs": [],
   "source": [
    "## Your turn: produce a table that has all of the NAs removed, and contains all of the _worst columns, \n",
    "## including the diagnosis"
   ]
  },
  {
   "cell_type": "markdown",
   "metadata": {},
   "source": [
    "### 3—Your first visualization 📊\n",
    "⏱ **30 mins**\n",
    "\n",
    "#### 3.1—ggplot\n",
    "\n",
    "ggplot is a really fancy R function used to create lots of different kinds of visualizations, or \"plots.\"\n",
    "\n",
    "TODO: walk through ggplot\n",
    "- The concept of layers\n",
    "- Break down the syntax (a nice graphic would help here)"
   ]
  },
  {
   "cell_type": "code",
   "execution_count": 13,
   "metadata": {},
   "outputs": [
    {
     "data": {
      "image/png": "[encoded data removed]",
      "text/plain": [
       "plot without title"
      ]
     },
     "metadata": {
      "image/png": {
       "height": 500,
       "width": 500
      }
     },
     "output_type": "display_data"
    }
   ],
   "source": [
    "# Change plot size\n",
    "options(repr.plot.width = 10, repr.plot.height = 10, repr.plot.res = 100)\n",
    "\n",
    "ggplot(cancer_select, aes(x = radius_mean, \n",
    "                          y = smoothness_mean, \n",
    "                          color = diagnosis)) +\n",
    "    geom_point() + \n",
    "    xlab(\"Radius mean\") +\n",
    "    ylab(\"Smoothness mean\") + \n",
    "    theme(text = element_text(size = 30))"
   ]
  },
  {
   "cell_type": "markdown",
   "metadata": {},
   "source": [
    "#### 3.2—Adding layers\n",
    "\n",
    "We can add layers to our plot to supply additional graphics; this is also useful for adding additional data, such as a single point, to our graph.\n",
    "\n",
    "TODO: add layers to the plot\n",
    "- Demo a line of best fit\n",
    "- Give list of what's possible; let participants experiment"
   ]
  },
  {
   "cell_type": "markdown",
   "metadata": {},
   "source": [
    "#### 3.3—Getting fancy\n",
    "\n",
    "Scatterplots are cool and all, but what else can we do?\n",
    "\n",
    "TODO: show fancy tings you can do\n",
    "- Create different kinds of plots\n",
    "- Color the plot"
   ]
  },
  {
   "cell_type": "markdown",
   "metadata": {},
   "source": [
    "#### 3.X—Challenge\n",
    "\n",
    "TODO: come up with a challenge!"
   ]
  },
  {
   "cell_type": "markdown",
   "metadata": {},
   "source": [
    "##### PART II — 1 hour"
   ]
  },
  {
   "cell_type": "markdown",
   "metadata": {},
   "source": [
    "Attend part 2 of this workshop series to see how you can extend what we've just done to predict whether or not a tumor is benign or malignant!\n",
    "\n",
    "Thank you so much for attending part 1 ✨ I hope you enjoyed!"
   ]
  }
 ],
 "metadata": {
  "kernelspec": {
   "display_name": "R",
   "language": "R",
   "name": "ir"
  },
  "language_info": {
   "codemirror_mode": "r",
   "file_extension": ".r",
   "mimetype": "text/x-r-source",
   "name": "R",
   "pygments_lexer": "r",
   "version": "4.0.2"
  }
 },
 "nbformat": 4,
 "nbformat_minor": 4
}
