{
 "cells": [
  {
   "cell_type": "code",
   "execution_count": null,
   "metadata": {},
   "outputs": [],
   "source": [
    "# If you encounter any issues with the installation (the red block below will show an angry message) then let your TA know!\n",
    "\n",
    "# Uncomment these lines if necessary!\n",
    "# install.packages(\"testthat\")\n",
    "# install.packages(\"IRdisplay\")\n",
    "# install.packages(\"tidyverse\")\n",
    "# install.packages(\"tidymodels\")\n",
    "# install.packages(\"naniar\")\n",
    "# install.packages(\"plotly\")"
   ]
  },
  {
   "cell_type": "code",
   "execution_count": null,
   "metadata": {},
   "outputs": [],
   "source": [
    "library(testthat)\n",
    "library(IRdisplay)\n",
    "library(tidyverse)\n",
    "library(tidymodels)\n",
    "library(naniar)\n",
    "library(plotly)"
   ]
  },
  {
   "cell_type": "markdown",
   "metadata": {
    "tags": []
   },
   "source": [
    "<h1 style=\"text-align: center;\">Data Visualization for People in a Hurry</h1>\n",
    "<p style=\"text-align: center;\"><i>an nwPlus workshop ✨</i></p>\n",
    "\n",
    "Workshop slides available [here](https://docs.google.com/presentation/d/e/2PACX-1vSPf9e7YfHleOqbkfxuiwXBQNh59jhZoULyXrwL1X1TO8I9IGdlG5lFN4zAlvFEtH0CNnOM_WhpyasR/pub?start=true&loop=true&delayms=30000).\n",
    "\n",
    "### Goals 🎯\n",
    "- Produce your first visualization of data using the R programming language\n",
    "- Learn about how data science can enhance your workflow in non-programming courses\n",
    "- Explore data science at UBC, in the context of hackathons, and in the working world\n",
    "\n",
    "\n",
    "### Links 🔗\n",
    "\n",
    "- **GitHub repository:** Source code [here](https://github.com/michaelfromyeg/data-viz-for-people-in-a-hurry) (currently private).\n",
    "- **Data set:** Available [here](https://www.kaggle.com/uciml/breast-cancer-wisconsin-data), from Kaggle, or [here](https://archive.ics.uci.edu/ml/datasets/Breast+Cancer+Wisconsin+(Diagnostic)), directly from UCI. It's also included in the repo!\n",
    "\n",
    "**Credits**\n",
    "\n",
    "I was inspired by a few other sources for this workshop that I recommend you check out!\n",
    "\n",
    "- [R Workshop Notes](http://tutorials.iq.harvard.edu/R/Rintro/Rintro.html), *Harvard University* — good background to R\n",
    "- [Learn X in Y Minutes: R](https://learnxinyminutes.com/docs/r/), *Learn X in Y Mintues* — good refresher for syntax\n",
    "- [Introduction to Data Science](https://ubc-dsci.github.io/introduction-to-datascience/index.html), *Tiffany-Anne Timbers, Trevor Campbell, Melissa Lee* — UBC's DSCI 100 course textbook"
   ]
  },
  {
   "cell_type": "markdown",
   "metadata": {},
   "source": [
    "##### PART I — 1 hour"
   ]
  },
  {
   "cell_type": "markdown",
   "metadata": {},
   "source": [
    "### 1—What is data science? 🤔\n",
    "⏱ **10 mins**\n",
    "\n",
    "See the [workshop slides](https://docs.google.com/presentation/d/e/2PACX-1vSPf9e7YfHleOqbkfxuiwXBQNh59jhZoULyXrwL1X1TO8I9IGdlG5lFN4zAlvFEtH0CNnOM_WhpyasR/pub?start=true&loop=true&delayms=30000) for more information.\n",
    "\n",
    "#### 1.1—An introduction to data science\n",
    "\n",
    "#### 1.2—A four part process\n",
    "\n",
    "#### 1.3—The big picture\n"
   ]
  },
  {
   "cell_type": "markdown",
   "metadata": {},
   "source": [
    "### 2—Wranglin' data 🤠\n",
    "⏱ **20 mins**\n",
    "\n",
    "#### 2.0—R\n",
    "\n",
    "R can be sometimes a bit tricky to read. Here's the basic syntax you need to know for today.\n",
    "\n",
    "- Assigning a variable\n",
    "- Method calls\n",
    "- Parameters\n",
    "- Printing to your notebook cell's output\n",
    "\n",
    "We'll learn each of these as we go, but up front, let's get comfortable with variables.\n",
    "\n",
    "#### Variables"
   ]
  },
  {
   "cell_type": "code",
   "execution_count": null,
   "metadata": {},
   "outputs": [],
   "source": [
    "# Variables\n",
    "\n",
    "## Hold on to data (allow you to save a result or calculation)\n",
    "## Can \"change\" (i.e., vary, hence variable)\n",
    "## Once created, available anywhere in your program \n",
    "## (including later blocks of code)\n",
    "\n",
    "## To assign a variable in R, we use a fancy arrow, \"<-\"\n",
    "## The arrow means, take the thing on the right hand side and save it\n",
    "## to the variable on the left\n",
    "\n",
    "5 + 4        # Here, we're not saving the result of \"5 + 4\" anywhere\n",
    "x <- 5 + 4   # Here, we save it to x"
   ]
  },
  {
   "cell_type": "code",
   "execution_count": null,
   "metadata": {},
   "outputs": [],
   "source": [
    "# Printing data\n",
    "\n",
    "## To print any data in R, we can simply \"put\" the variable on its own line\n",
    "## If you want to be more explicit about it you can also write `print(my_variable)`\n",
    "## Note the syntax here and lack of spaces. We write print(...), where ... is the variable we want to print. \n",
    "## It's often said that the ... is \"wrapped\" by parentheses.\n",
    "\n",
    "# All three of these lines will print the value of x\n",
    "\n",
    "x # Remember: we can access x down here!\n",
    "print(x)\n",
    "print(x + 2)"
   ]
  },
  {
   "cell_type": "code",
   "execution_count": null,
   "metadata": {},
   "outputs": [],
   "source": [
    "# Your turn: in this cell, create a variable y that is equal to 7. \n",
    "# Then, created a variable z that is equal to the sum of x and y.\n",
    "# Finally, print z\n",
    "\n",
    "### BEGIN SOLUTION ###\n",
    "### END SOLUTION ###"
   ]
  },
  {
   "cell_type": "code",
   "execution_count": null,
   "metadata": {},
   "outputs": [],
   "source": [
    "# There'll be tests throughout this notebook to help make sure you're on the right track! If the tests work\n",
    "# (i.e., you solved the problem right), you should just see: \"Test passed\"\n",
    "\n",
    "test_that(\"y is correct\", {\n",
    "  expect_equal(y, 7)\n",
    "})\n",
    "test_that(\"z is correct\", {\n",
    "  expect_equal(z, 16)\n",
    "})"
   ]
  },
  {
   "cell_type": "code",
   "execution_count": null,
   "metadata": {},
   "outputs": [],
   "source": [
    "# Your turn: change the value of x. Does the value of z change? Why or why not?\n",
    "\n",
    "### BEGIN SOLUTION ###\n",
    "### END SOLUTION ###"
   ]
  },
  {
   "cell_type": "code",
   "execution_count": null,
   "metadata": {},
   "outputs": [],
   "source": [
    "test_that(\"x has been changed\", {\n",
    "  expect_true(x != 9)\n",
    "})"
   ]
  },
  {
   "cell_type": "code",
   "execution_count": null,
   "metadata": {},
   "outputs": [],
   "source": [
    "# Your turn: try getting R to compute the square root of 4. Save it to a variable called root.\n",
    "# Hint: square root shortens to sqrt\n",
    "\n",
    "### BEGIN SOLUTION ###\n",
    "### END SOLUTION ###"
   ]
  },
  {
   "cell_type": "code",
   "execution_count": null,
   "metadata": {},
   "outputs": [],
   "source": [
    "test_that(\"the sqrt of 4 has been saved to root\", {\n",
    "  expect_true(root == 2)\n",
    "})"
   ]
  },
  {
   "cell_type": "code",
   "execution_count": null,
   "metadata": {},
   "outputs": [],
   "source": [
    "# We can work with much more than just numbers. We also have \"strings\", which are basically text. \n",
    "# Note: We wrap strings in quotes \"\" to signify its a value, not a variable name.\n",
    "\n",
    "# Your turn: create a variable x, and assign it the value \"hello\". Create a value y and assign it world. \n",
    "\n",
    "### BEGIN SOLUTION ###\n",
    "### END SOLUTION ###"
   ]
  },
  {
   "cell_type": "code",
   "execution_count": null,
   "metadata": {},
   "outputs": [],
   "source": [
    "paste(x, y) # Should be 'hello world'"
   ]
  },
  {
   "cell_type": "code",
   "execution_count": null,
   "metadata": {},
   "outputs": [],
   "source": [
    "test_that(\"hello world prints\", {\n",
    "  expect_equal(paste(x, y), \"hello world\")\n",
    "})"
   ]
  },
  {
   "cell_type": "markdown",
   "metadata": {},
   "source": [
    "#### 2.1—Importing data\n",
    "\n",
    "The first step is to import our data set, but we have to learn a bit more about R to do that."
   ]
  },
  {
   "cell_type": "code",
   "execution_count": null,
   "metadata": {},
   "outputs": [],
   "source": [
    "# Functions\n",
    "\n",
    "## This concept is very similar to math. Your classic y = f(x) is verymuchso the same concept in programming, \n",
    "## under the same name. We use functions to map 0-to-many inputs (called parameters, or arguments) to an \n",
    "## output, often called the result or return value. \n",
    "\n",
    "## The general form of a function *call* (this means we're using the function, that is, producing our y value) is,\n",
    "## result <- my_function(argument1, argument2, ..., argumentN) [see how this mirrors y = f(x)?]\n",
    "\n",
    "## When working with R, we very rarely create our own function (such as, saying h(x) = (x + 3) / 2), but we do use other\n",
    "## people's functions. Let's practice that!\n",
    "\n",
    "# This function converts a given argument temp_F, a temperature in Farenheit, to degrees Celcius\n",
    "# If this looks scary, don't worry! We'll almost never have to write our own functions in R\n",
    "fahrenheit_to_celsius <- function(temp_F) {\n",
    "  temp_C <- (temp_F - 32) * 5 / 9\n",
    "  return(temp_C)\n",
    "}\n",
    "\n",
    "how_hot <- fahrenheit_to_celsius(32)\n",
    "how_hot"
   ]
  },
  {
   "cell_type": "code",
   "execution_count": null,
   "metadata": {},
   "outputs": [],
   "source": [
    "## Your turn: call the print function twice. First, with the number 5, and second, with the string nwPlus.\n",
    "\n",
    "### BEGIN SOLUTION ###\n",
    "### END SOLUTION ###"
   ]
  },
  {
   "cell_type": "code",
   "execution_count": null,
   "metadata": {},
   "outputs": [],
   "source": [
    "## Your turn: call the help function with a single argument, also just the text help (not the string \"help\"!)\n",
    "\n",
    "### BEGIN SOLUTION ###\n",
    "### END SOLUTION ###\n",
    "\n",
    "## Psst... this is how you can access help in R. Try typing in help(print) or help(paste)"
   ]
  },
  {
   "cell_type": "code",
   "execution_count": null,
   "metadata": {},
   "outputs": [],
   "source": [
    "## Your turn: call the function select with two parameters: mtcars and mpg. Save it to a variable called mtmpg.\n",
    "\n",
    "### BEGIN SOLUTION ###\n",
    "### END SOLUTION ###"
   ]
  },
  {
   "cell_type": "code",
   "execution_count": null,
   "metadata": {},
   "outputs": [],
   "source": [
    "test_that(\"Select is called correctly\", {\n",
    "  expect_equal(as.numeric(unlist(mtcars$mpg)), as.numeric(unlist(mtmpg)))\n",
    "})"
   ]
  },
  {
   "cell_type": "code",
   "execution_count": null,
   "metadata": {},
   "outputs": [],
   "source": [
    "# Libraries\n",
    "\n",
    "## To get access to more functions that are already \"built in\" to R, we need to access things called libraries.\n",
    "## You can think of libraries as collections of functions that make R much more powerful. \n",
    "## For today's workshop, we just need one library, called tidyverse. To import a library, we use the library(...) function;\n",
    "## it accepts a library's name as the parameter (not as a string, just the actual text name).\n",
    "\n",
    "## P.S. Sometimes, we need to install a library first before we use it. To do this, just run install.packages(\"...\") where\n",
    "## ... is the name of the desired library.\n",
    "\n",
    "# Here's an example\n",
    "\n",
    "install.packages(\"dplyr\")\n",
    "library(dplyr)"
   ]
  },
  {
   "cell_type": "code",
   "execution_count": null,
   "metadata": {},
   "outputs": [],
   "source": [
    "## Your turn: install the caret package and import it \n",
    "\n",
    "### BEGIN SOLUTION ###\n",
    "### END SOLUTION ###"
   ]
  },
  {
   "cell_type": "code",
   "execution_count": null,
   "metadata": {},
   "outputs": [],
   "source": [
    "dp <- createDataPartition(iris$Species)\n",
    "test_that(\"caret is imported\", {\n",
    "  expect_equal(exists(\"dp\"), TRUE)\n",
    "})"
   ]
  },
  {
   "cell_type": "code",
   "execution_count": null,
   "metadata": {},
   "outputs": [],
   "source": [
    "## Now, finally, let's install and import the needed \n",
    "## libraries for this workshop.\n",
    "\n",
    "install.packages(\"tidyverse\")\n",
    "library(tidyverse)"
   ]
  },
  {
   "cell_type": "code",
   "execution_count": null,
   "metadata": {},
   "outputs": [],
   "source": [
    "## With the tidyverse package, we get access to a function called `read_csv` that allows us to import data from a URL\n",
    "## (https://www...) or a local file. The \"csv\" part means we're reading a csv file; you can think of that like an Excel\n",
    "## spreadsheet. It's just comma-separated values organized in rows and columns.\n",
    "\n",
    "# Here, we read in our desired data set from a URL\n",
    "\n",
    "cancer_data <- read_csv(\"https://archive.ics.uci.edu/ml/machine-learning-databases/breast-cancer-wisconsin/wdbc.data\")\n",
    "\n",
    "# We add column names and then \"select\" the columns we care about--more on this later\n",
    "colnames(cancer_data) <- c(\"id\", \"diagnosis\", \"radius\", \"texture\", \"perimeter\", \"area\", \"smoothness\", \"compactness\", \"concavity\", \"concave_points\", \"symmetry\", \"fractal_dimension\")\n",
    "cancer_data <- select(cancer_data, \"id\", \"diagnosis\", \"radius\", \"texture\", \"perimeter\", \"area\", \"smoothness\", \"compactness\", \"concavity\", \"concave_points\", \"symmetry\", \"fractal_dimension\" )\n"
   ]
  },
  {
   "cell_type": "code",
   "execution_count": null,
   "metadata": {},
   "outputs": [],
   "source": [
    "# Your turn: print out the data we just imported\n",
    "\n",
    "### BEGIN SOLUTION ###\n",
    "### END SOLUTION ###"
   ]
  },
  {
   "cell_type": "code",
   "execution_count": null,
   "metadata": {},
   "outputs": [],
   "source": [
    "test_that(\"cancer data is read in correctly\", {\n",
    "  expect_equal(nrow(cancer_data), 568)\n",
    "})"
   ]
  },
  {
   "cell_type": "code",
   "execution_count": null,
   "metadata": {},
   "outputs": [],
   "source": [
    "# Your turn: read in the data from the URL stored in \"url\" and assign it to variable called old_faithful. Print it out.\n",
    "# Notice that we don't need to assign column names!\n",
    "\n",
    "url <- \"https://raw.githubusercontent.com/barneygovan/from-data-with-love/master/data/faithful.csv\"\n",
    "\n",
    "### BEGIN SOLUTION ###\n",
    "### END SOLUTION ###"
   ]
  },
  {
   "cell_type": "code",
   "execution_count": null,
   "metadata": {},
   "outputs": [],
   "source": [
    "test_that(\"old faithful data is read in correctly\", {\n",
    "  expect_equal(nrow(old_faithful), 272)\n",
    "})"
   ]
  },
  {
   "cell_type": "markdown",
   "metadata": {},
   "source": [
    "#### 2.2—Exploring the data\n",
    "\n",
    "Woah, that's a lot of data!\n",
    "\n",
    "Before we know how to clean up the data or visualize it, we need to understand what form the data is in. But, it's really hard to do that when it R spews out that much.\n",
    "\n",
    "Thankfully, there's a few functions we can use to help manage this."
   ]
  },
  {
   "cell_type": "code",
   "execution_count": null,
   "metadata": {},
   "outputs": [],
   "source": [
    "## Here's an example preview with glimpse—don't worry, \n",
    "## the other functions yield much prettier results!\n",
    "\n",
    "glimpse(cancer_data)"
   ]
  },
  {
   "cell_type": "code",
   "execution_count": null,
   "metadata": {},
   "outputs": [],
   "source": [
    "## R provides two functions to visualize a nice \"slice\" of your data. They're called head and tail.\n",
    "## Let's experiment with them.\n",
    "\n",
    "## Your turn: call the function head with your data as the only argument.\n",
    "\n",
    "### BEGIN SOLUTION ###\n",
    "### END SOLUTION ###"
   ]
  },
  {
   "cell_type": "code",
   "execution_count": null,
   "metadata": {},
   "outputs": [],
   "source": [
    "## Your turn: do the same with tail. \n",
    "\n",
    "### BEGIN SOLUTION ###\n",
    "### END SOLUTION ###"
   ]
  },
  {
   "cell_type": "code",
   "execution_count": null,
   "metadata": {},
   "outputs": [],
   "source": [
    "## Your turn: call the head function with two arguments. First, the data like before. \n",
    "## Second, try adding a number (1, 2, 5, 10). What effect does this have?\n",
    "\n",
    "### BEGIN SOLUTION ###\n",
    "### END SOLUTION ###"
   ]
  },
  {
   "cell_type": "markdown",
   "metadata": {},
   "source": [
    "#### 2.3—Filtering data\n",
    "\n",
    "Great, now we understand what our data looks like! To produce the result we want, we might want to reduce the scope of our analysis, or filter out bad rows. What if we want to count and see the total number of benign tumors? Or get only tumors where the `smoothness_mean` is over a certain value?\n",
    "\n",
    "To solve problems like this, we need to use filter."
   ]
  },
  {
   "cell_type": "code",
   "execution_count": null,
   "metadata": {},
   "outputs": [],
   "source": [
    "## Filter accepts two arguments. The first is your data, and the second is the condition. Conditions can be:\n",
    "## exactly equal ==\n",
    "## greater than > (or, greater than or equal to >=)\n",
    "## less than < (or, less than or equal to <=)\n",
    "\n",
    "## Conditions must produce a true or false value. Let's try working with true and false before we use filter.\n",
    "\n",
    "## Here are some example boolean values in R\n",
    "\n",
    "FALSE\n",
    "TRUE\n",
    "3 + 3 == 6\n",
    "3 + 3 != 6 # This is \"does not equal\"\n",
    "100 > 0\n",
    "0 < 100"
   ]
  },
  {
   "cell_type": "code",
   "execution_count": null,
   "metadata": {},
   "outputs": [],
   "source": [
    "## Your turn: print the result of 5 == 4. Print the result of 5 == 5. Notice anything interesting about true and false\n",
    "## (think: in terms of spelling, capitalization, or punctuation)\n",
    "\n",
    "### BEGIN SOLUTION ###\n",
    "### END SOLUTION ###"
   ]
  },
  {
   "cell_type": "code",
   "execution_count": null,
   "metadata": {},
   "outputs": [],
   "source": [
    "## Your turn: print the result of whether or not negative one hundred is greater than zero. Save that to a variable called\n",
    "## is_colder\n",
    "\n",
    "### BEGIN SOLUTION ###\n",
    "### END SOLUTION ###"
   ]
  },
  {
   "cell_type": "code",
   "execution_count": null,
   "metadata": {},
   "outputs": [],
   "source": [
    "test_that(\"is_colder is correct\", {\n",
    "  expect_false(is_colder)\n",
    "})"
   ]
  },
  {
   "cell_type": "code",
   "execution_count": null,
   "metadata": {},
   "outputs": [],
   "source": [
    "## Your turn: the variable weekday is true if it is a weekday, and the variable vacation is true if we are on vacation. \n",
    "## We sleep in if it is not a weekday or we're on vacation. Set sleep_in to its correct value.\n",
    "\n",
    "## Hint: For this problem, you could use R's logical operators to combine boolean values. \n",
    "## They work how you want them to work, generally speaking. (You can also solve this problem by directly assigning\n",
    "## the correct value.)\n",
    "\n",
    "## \"and\" == x && y\n",
    "## Returns TRUE only if x and y are both true; else it's false\n",
    "\n",
    "TRUE && FALSE\n",
    "TRUE && TRUE\n",
    "\n",
    "## \"or\" == x || y\n",
    "## Returns TRUE if either of x or y are true (or both are true); else it's false\n",
    "\n",
    "TRUE || FALSE\n",
    "FALSE || FALSE\n",
    "\n",
    "## \"not\" == !x\n",
    "## \"Flips\" the value of x\n",
    "\n",
    "!FALSE # TRUE\n",
    "!TRUE # FALSE\n",
    "\n",
    "# Now... back to the problem at hand\n",
    "\n",
    "weekday <- TRUE\n",
    "vacation <- FALSE\n",
    "\n",
    "### BEGIN SOLUTION ###\n",
    "### END SOLUTION ###"
   ]
  },
  {
   "cell_type": "code",
   "execution_count": null,
   "metadata": {},
   "outputs": [],
   "source": [
    "test_that(\"sleep_in is correct\", {\n",
    "  expect_equal(sleep_in, \"bbb\" < \"AAA\")\n",
    "})"
   ]
  },
  {
   "cell_type": "code",
   "execution_count": null,
   "metadata": {},
   "outputs": [],
   "source": [
    "## Here's an example filter call, looking for all the rows where\n",
    "## the radius is > 20\n",
    "\n",
    "## Note that filter takes two arguments: the data frame, and then an expression that returns either true or false based\n",
    "## on a column name. Be careful with how you type the column name, casing matters!\n",
    "\n",
    "cancer_data_filtered <- filter(cancer_data, radius > 20)\n",
    "head(cancer_data_filtered)"
   ]
  },
  {
   "cell_type": "code",
   "execution_count": null,
   "metadata": {},
   "outputs": [],
   "source": [
    "## Now, it's your turn to try filtering!\n",
    "\n",
    "## Your turn: filter all the rows where diagnosis == \"B\" (B stands for benign). Save this result to a value called \n",
    "## benign_rows.\n",
    "\n",
    "### BEGIN SOLUTION ###\n",
    "### END SOLUTION ###"
   ]
  },
  {
   "cell_type": "code",
   "execution_count": null,
   "metadata": {},
   "outputs": [],
   "source": [
    "test_that(\"cancer data is filtered correctly\", {\n",
    "  expect_equal(nrow(benign_rows), 357)\n",
    "})"
   ]
  },
  {
   "cell_type": "code",
   "execution_count": null,
   "metadata": {},
   "outputs": [],
   "source": [
    "## Your turn: do the same for malignant rows. (What's the filtering condition?)\n",
    "## Save it to a variable called malignant_rows. Print the tail of that variable.\n",
    "\n",
    "### BEGIN SOLUTION ###\n",
    "### END SOLUTION ###"
   ]
  },
  {
   "cell_type": "code",
   "execution_count": null,
   "metadata": {},
   "outputs": [],
   "source": [
    "test_that(\"cancer data is filtered correctly (2)\", {\n",
    "  expect_equal(nrow(malignant_rows), 211)\n",
    "})"
   ]
  },
  {
   "cell_type": "code",
   "execution_count": null,
   "metadata": {},
   "outputs": [],
   "source": [
    "## R gives us a very fast way to check the \"size\" of a table (that is, the number of rows).\n",
    "## Fittingly, the function is called nrow.\n",
    "\n",
    "## Your turn: get the number of malignant tumors in the data set and save it to a variable called num_malignant. Do \n",
    "## the same for benign.\n",
    "\n",
    "### BEGIN SOLUTION ###\n",
    "### END SOLUTION ###"
   ]
  },
  {
   "cell_type": "code",
   "execution_count": null,
   "metadata": {},
   "outputs": [],
   "source": [
    "## Your turn: compute the total number of rows in the data set. Save it to a variable called total.\n",
    "\n",
    "### BEGIN SOLUTION ###\n",
    "### END SOLUTION ###"
   ]
  },
  {
   "cell_type": "code",
   "execution_count": null,
   "metadata": {},
   "outputs": [],
   "source": [
    "test_that(\"cancer data is filtered correctly (2)\", {\n",
    "  expect_equal(total, 568)\n",
    "})"
   ]
  },
  {
   "cell_type": "code",
   "execution_count": null,
   "metadata": {},
   "outputs": [],
   "source": [
    "## Your turn: print the percentage benign, and percentage malignant in the data set.\n",
    "## Hint: this is just a math problem.\n",
    "\n",
    "# Challenge: Try printing it \"well formatted\". That is, only to two decimal places and with a '%' symbol at the end.\n",
    "\n",
    "### BEGIN SOLUTION ###\n",
    "### END SOLUTION ###"
   ]
  },
  {
   "cell_type": "code",
   "execution_count": null,
   "metadata": {},
   "outputs": [],
   "source": [
    "## No test here, but you should see roughly 40% of your data as malignant and 60% benign. If we wanted to use\n",
    "## this data to make a prediction on new tumor data, what implications would this imbalance have?\n",
    "\n",
    "## (Psst... this is a tough question! I'm foreshadowing quite a bit. If you can't think of anything, don't sweat it.)\n",
    "\n",
    "### BEGIN SOLUTION ###\n",
    "### END SOLUTION ###"
   ]
  },
  {
   "cell_type": "markdown",
   "metadata": {},
   "source": [
    "#### 2.4—Selecting data\n",
    "\n",
    "There are a ton of columns associated with the cancer data. These are sometimes called factors, or aspects. We often want to do our analysis on just a few of those columns. R has an easy way of doing this!"
   ]
  },
  {
   "cell_type": "code",
   "execution_count": null,
   "metadata": {},
   "outputs": [],
   "source": [
    "## The function we use is called \"select\". Select's first parameter must be the data set.\n",
    "## Then, every parameter after must be a column we want to keep.\n",
    "\n",
    "## for example, selected_columns <- select(original_data, column1, column2, ..., columnN)\n",
    "## You can select as many, or as few, columns as you want\n",
    "\n",
    "cancer_only_ids <- select(cancer_data, id)\n",
    "head(cancer_only_ids)"
   ]
  },
  {
   "cell_type": "code",
   "execution_count": null,
   "metadata": {},
   "outputs": [],
   "source": [
    "## Your turn: select only the diagnosis, radius_mean, and smoothness_mean columns from the (original) cancer data. Save\n",
    "## it to a variable called cancer_select.\n",
    "\n",
    "### BEGIN SOLUTION ###\n",
    "### END SOLUTION ###"
   ]
  },
  {
   "cell_type": "code",
   "execution_count": null,
   "metadata": {},
   "outputs": [],
   "source": [
    "test_that(\"cancer is selected correctly\", {\n",
    "  expect_equal(ncol(cancer_select), 3)\n",
    "})"
   ]
  },
  {
   "cell_type": "code",
   "execution_count": null,
   "metadata": {},
   "outputs": [],
   "source": [
    "## We can also choose to select all columns *except* one (or two, or three, etc.) We do this through the minus symbol.\n",
    "\n",
    "## for example, selected_columns <- select(original_data, -column1, -column2, ..., -columnN)\n",
    "## This removes column1, column2, ..., columnN\n",
    "\n",
    "## Your turn: select every column except the diagnosis column and id column. Save it to a variable called anonymous_data.\n",
    "\n",
    "### BEGIN SOLUTION ###\n",
    "### END SOLUTION ###"
   ]
  },
  {
   "cell_type": "code",
   "execution_count": null,
   "metadata": {},
   "outputs": [],
   "source": [
    "test_that(\"anonymous data is selected correctly\", {\n",
    "  expect_equal(ncol(anonymous_data), 10)\n",
    "})"
   ]
  },
  {
   "cell_type": "markdown",
   "metadata": {},
   "source": [
    "#### tl;dr\n",
    "\n",
    "This entire process of selecting, filtering, and modifying data is generally referred to as \"wrangling.\" This process is extremely important, because working with good, clean data is vital to producing a good visualization.\n",
    "\n",
    "Want to learn more about what \"clean\" data means? Come to part 2 of this workshop!"
   ]
  },
  {
   "cell_type": "markdown",
   "metadata": {},
   "source": [
    "#### 2.X—Challenge\n",
    "\n",
    "Sometimes data comes with imperfections. Here we learned the tools to \"fix\" those imperfections, but the data we're using doesn't have very many.\n",
    "\n",
    "Firstly, let me add some imperfections into our data frame."
   ]
  },
  {
   "cell_type": "code",
   "execution_count": null,
   "metadata": {},
   "outputs": [],
   "source": [
    "cancer_select <- replace_with_na(cancer_select, replace = list(radius = c(20.57, 19.69, 11.42, 20.29, 12.45, 18.25)))\n",
    "head(cancer_select, n=10)"
   ]
  },
  {
   "cell_type": "markdown",
   "metadata": {},
   "source": [
    "Oh no! Now our radius has some NA (\"not available\") values. This is trouble, because now some of our calculations won't work. For example, imagine we wanted to compute the mean radius in our data frame. We would do:"
   ]
  },
  {
   "cell_type": "code",
   "execution_count": null,
   "metadata": {},
   "outputs": [],
   "source": [
    "cancer_radius_mean <- mean(cancer_select$radius)\n",
    "cancer_radius_mean"
   ]
  },
  {
   "cell_type": "markdown",
   "metadata": {},
   "source": [
    "But instead, we get `<NA>`. This is obviously not correct; we want to find some way of removing all of the rows with NA values. How should we do that? (Google is your friend here!)"
   ]
  },
  {
   "cell_type": "code",
   "execution_count": null,
   "metadata": {},
   "outputs": [],
   "source": [
    "## Your turn: produce a table that has all of the NAs removed.\n",
    "\n",
    "## Hint: the function is.na returns whether or not a value is equal to NA. How could we use this is within a function we've\n",
    "## already used today?\n",
    "\n",
    "### BEGIN SOLUTION ###\n",
    "### END SOLUTION ###"
   ]
  },
  {
   "cell_type": "code",
   "execution_count": null,
   "metadata": {},
   "outputs": [],
   "source": [
    "test_that(\"the nas are removed\", {\n",
    "  expect_equal(nrow(cancer_select), 561)\n",
    "})"
   ]
  },
  {
   "cell_type": "markdown",
   "metadata": {},
   "source": [
    "Sometimes we want to add a new column by transforming the data in some way. For example, what if wanted to convert the units of the radius column to metres? Or maybe even kilometers?\n",
    "\n",
    "Thankfully, there's a way to do this in R. We can use the mutate function. Mutate takes two arguments. First, the data frame to be transformed. Second, the actual transformation. The transformation goes like this:\n",
    "\n",
    "$$ new\\_column\\_name = A \\times old\\_column\\_name + B $$\n",
    "\n",
    "Note that \"A * old + B\" was arbitrarily chosen. You could do any math you like. Here's an example:"
   ]
  },
  {
   "cell_type": "code",
   "execution_count": null,
   "metadata": {},
   "outputs": [],
   "source": [
    "cancer_mutate <- mutate(cancer_data, new_column = radius * smoothness + concavity) # The new_column gets placed on the end!\n",
    "head(cancer_mutate)"
   ]
  },
  {
   "cell_type": "code",
   "execution_count": null,
   "metadata": {},
   "outputs": [],
   "source": [
    "## Your turn: mutate the cancer_data data frame so that it also includes a colummn \n",
    "## that has the radius squared and multiplied by pi. What does this value represent?\n",
    "\n",
    "### BEGIN SOLUTION ###\n",
    "### END SOLUTION ###"
   ]
  },
  {
   "cell_type": "markdown",
   "metadata": {},
   "source": [
    "### 3—Your first visualization 📊\n",
    "⏱ **30 mins**"
   ]
  },
  {
   "cell_type": "markdown",
   "metadata": {},
   "source": [
    "#### 3.0—How the turns have tabled\n",
    "\n",
    "Before we created a visualization, it's often helpful to create a \"summary\" table of our data, including each columns mean, median, mode, and potentially even sum."
   ]
  },
  {
   "cell_type": "markdown",
   "metadata": {},
   "source": [
    "We'll start by looking at some of the more \"basic\" numerical summaries you might want to produce. R is a programming language primarily used by statasticians and data scientists. As such, it has a lot of really powerful functions built-in that allow you to do statistics!"
   ]
  },
  {
   "cell_type": "code",
   "execution_count": null,
   "metadata": {},
   "outputs": [],
   "source": [
    "## One common metric in statistics is the mean, or the average. To find the mean in our data set, we first select the column\n",
    "## we'd like to compute the mean for. Then, we run the mean function on that column.\n",
    "\n",
    "## To select your column (since we're only select one column), you can either use pull(dataframe, columnname) \n",
    "## or you can use the \"$\" operator. \n",
    "\n",
    "## Pull takes out a column and gives use just the values, getting rid of the extra information which would confused\n",
    "## the mean calculation.\n",
    "\n",
    "## To select a column with \"$\", we can write dataframe$column_name.\n",
    "\n",
    "## Here's an example mean computation two different ways.\n",
    "\n",
    "cancer_radius_mean <- mean(cancer_data$radius)\n",
    "\n",
    "cancer_radius_pull <- pull(cancer_data, radius)\n",
    "cancer_radius_mean2 <- mean(cancer_radius_pull)\n",
    "\n",
    "cancer_radius_mean == cancer_radius_mean2\n",
    "cancer_radius_mean\n",
    "cancer_radius_mean2"
   ]
  },
  {
   "cell_type": "code",
   "execution_count": null,
   "metadata": {},
   "outputs": [],
   "source": [
    "## Your turn: try finding the median concavity in cancer_data. Save it to a variable called median_concavity.\n",
    "\n",
    "### BEGIN SOLUTION ### \n",
    "### END SOLUTION ###"
   ]
  },
  {
   "cell_type": "code",
   "execution_count": null,
   "metadata": {},
   "outputs": [],
   "source": [
    "test_that(\"median concavity is correct\", {\n",
    "  expect_equal(median_concavity, 0.0884273075704225)\n",
    "})"
   ]
  },
  {
   "cell_type": "code",
   "execution_count": null,
   "metadata": {},
   "outputs": [],
   "source": [
    "## There's one more cool function that's super useful for any stats work you're doing. It's called summary. It gives\n",
    "## a breakdown of some keys stats of all of your columns. The summary function takes one argument, your data frame.\n",
    "\n",
    "## Your turn: print a summary of cancer_data.\n",
    "\n",
    "### BEGIN SOLUTION ###\n",
    "### END SOLUTION ###"
   ]
  },
  {
   "cell_type": "code",
   "execution_count": null,
   "metadata": {},
   "outputs": [],
   "source": [
    "## Okay--one more function. nrow gives you the number of rows in a dataframe. You've seen this one before,\n",
    "## I just want to make double-sure you remember how to use it!\n",
    "\n",
    "## Your turn: find the number of rows in cancer_data. Save it to a variable called total_cancer_rows.\n",
    "\n",
    "### BEGIN SOLUTION ###\n",
    "### END SOLUTION ###"
   ]
  },
  {
   "cell_type": "markdown",
   "metadata": {},
   "source": [
    "Sometimes, especially when working with data that has two or more distinct categories (in our case, malignant tumors and benign ones), we might want to calculate the mean for each group separately. Thankfully, R has a really handy way of doing this.\n",
    "\n",
    "First, we want to make our groups. We do this with the group_by function. It takes two arguments: a dataframe, and which column we'd like to use to make our groupings. In our case, that'll be `diagnosis`.\n",
    "\n",
    "Second, we need to produce a summary of our data and compute some statistic. We can do this with the summarize function. It takes two arguments: first, a grouped dataframe, and second, an expression which computes a new column based on an old column. Something like:\n",
    "\n",
    "$$ new\\_column = mean(old\\_column) $$\n",
    "\n",
    "This would create a new column for each group that is equal to the mean of the old column for each group, and then smush it all back together in one big dataframe."
   ]
  },
  {
   "cell_type": "code",
   "execution_count": null,
   "metadata": {},
   "outputs": [],
   "source": [
    "## There's a lot going on with group_by and summarize. Here's an example of its usage.\n",
    "\n",
    "cancer_data_groups <- group_by(cancer_data, diagnosis)\n",
    "cancer_data_summarize <- summarize(cancer_data_groups, mean_radius = mean(radius))\n",
    "cancer_data_summarize\n",
    "\n",
    "## Is the final data frame what you expected? This pattern is super common in R, and can be great for producing statistical\n",
    "## summaries that are grouped by some shared feature."
   ]
  },
  {
   "cell_type": "markdown",
   "metadata": {},
   "source": [
    "#### 3.1—ggplot\n",
    "\n",
    "ggplot is a really fancy R function used to create lots of different kinds of visualizations, or \"plots.\"\n",
    "\n",
    "It is super powerful, and you can create *tons* of different charts with it. The only way to master ggplot is to experiment and try many different things. Better than try to \"explain\" ggplot, I'm going to show you some example code, and we'll pick it apart as we go along.\n",
    "\n",
    "Here, I'll try to give you a taste of what's possible!"
   ]
  },
  {
   "cell_type": "code",
   "execution_count": null,
   "metadata": {},
   "outputs": [],
   "source": [
    "## Here's a basic scatterplot of the data we've gathered\n",
    "\n",
    "basic_plot <- ggplot(cancer_select, aes(x = radius, y = smoothness)) +\n",
    "    geom_point()\n",
    "basic_plot"
   ]
  },
  {
   "cell_type": "markdown",
   "metadata": {},
   "source": [
    "ggplot looks scary, so let's try to break it down. Firstly, you should recognize ggplot is a function, and takes a series of arguments. The first argument is your data set. The second is the \"aes\", short of the \"aesthetic specifications\". For our purposes, this is just a function that accepts the x and y columns we'd like to use.\n",
    "\n",
    "What is the \"+\" symbol at the end doing? We'll get to that in the next section."
   ]
  },
  {
   "cell_type": "code",
   "execution_count": null,
   "metadata": {},
   "outputs": [],
   "source": [
    "## Your turn: create a scatterplot with perimeter_mean along the x axis and area_mean along the y axis.\n",
    "\n",
    "## Hint: copy and paste is your friend.\n",
    "\n",
    "### BEGIN SOLUTION ### \n",
    "### END SOLUTION ###"
   ]
  },
  {
   "cell_type": "code",
   "execution_count": null,
   "metadata": {},
   "outputs": [],
   "source": [
    "## Your turn: using your solution from the last cell, change \"geom_point()\" to \"geom_violin()\". What happens?\n",
    "\n",
    "### BEGIN SOLUTION ###\n",
    "### END SOLUTION ###\n",
    "\n",
    "## Psst... see a complete list of different geom_...()s you can put here: https://ggplot2.tidyverse.org/reference/"
   ]
  },
  {
   "cell_type": "markdown",
   "metadata": {},
   "source": [
    "Woo hoo! You've made your first few plots ever. With practice, you'll find using ggplot to create effective visualizations is tremendously easier than trying to do the same thing in Excel. "
   ]
  },
  {
   "cell_type": "markdown",
   "metadata": {},
   "source": [
    "#### 3.2—Adding layers\n",
    "\n",
    "We can add layers to our plot to supply additional graphics; this is also useful for adding additional data, such as a single point, to our graph. Again, let's look at some sample code and I'll help break it down for you.\n",
    "\n",
    "Here's a rather involved example."
   ]
  },
  {
   "cell_type": "code",
   "execution_count": null,
   "metadata": {},
   "outputs": [],
   "source": [
    "ggplot(cancer_select, aes(x = radius, \n",
    "                          y = smoothness)) +\n",
    "    geom_point() + \n",
    "    xlab(\"Radius\") +\n",
    "    ylab(\"Smoothness\") + \n",
    "    geom_smooth(method=lm,   # Add linear regression line\n",
    "                se=FALSE) +  # Don't add shaded confidence region\n",
    "    theme(text = element_text(size = 30))"
   ]
  },
  {
   "cell_type": "markdown",
   "metadata": {},
   "source": [
    "Notice the \"+\" symbol at the end of every line? This is something special we do with ggplot, usually referred to as \"adding layers\". We can make our visualization more complex by adding one \"layer\" at a time. A layer typically refers to something like geom_point()—which adds a point layer to our graph—or geom_smooth() or the countless other layers we can add, but you can also use \"+\" to add things like a theme to your plot, a legend, labels for your x- and y- axes, and more. The possibilities are endless!"
   ]
  },
  {
   "cell_type": "code",
   "execution_count": null,
   "metadata": {},
   "outputs": [],
   "source": [
    "## Your turn: make the font size of basic_plot 60 by adding a layer. Save it to a variable called big_text_plot.\n",
    "\n",
    "### BEGIN SOLUTION ###\n",
    "### END SOLUTION ###"
   ]
  },
  {
   "cell_type": "code",
   "execution_count": null,
   "metadata": {},
   "outputs": [],
   "source": [
    "## Your turn: add a new point to the plot you just created. It can be anywhere on the graph; note that you'll need\n",
    "## need to specify it's x and y values.\n",
    "\n",
    "## Hint: you'll need to add another geom_point() layer. Here's the documentation for geom_point: \n",
    "## https://ggplot2.tidyverse.org/reference/geom_point.html\n",
    "\n",
    "## Set the new point's color to something distinct, like red. Also, make's it's size huge by setting its size and\n",
    "## stroke value to 5.\n",
    "\n",
    "### BEGIN SOLUTION ###\n",
    "### END SOLUTION ###"
   ]
  },
  {
   "cell_type": "markdown",
   "metadata": {},
   "source": [
    "#### 3.3—Getting fancy\n",
    "\n",
    "Scatterplots are cool and all, but what else can we do? What if we wanted to group the points? How can we create a more effective visualization?\n",
    "\n",
    "One thing that might be natural with data like this, where we have a binary grouping (benign or malignant tumors) is to color the data. How do we do that?\n",
    "\n",
    "With aes! Here's an example."
   ]
  },
  {
   "cell_type": "code",
   "execution_count": null,
   "metadata": {},
   "outputs": [],
   "source": [
    "# This code just changes the plot size to make it easier to read\n",
    "options(repr.plot.width = 10, repr.plot.height = 10, repr.plot.res = 100)\n",
    "\n",
    "ggplot(cancer_select, aes(x = radius, \n",
    "                          y = smoothness, \n",
    "                          color = diagnosis)) +\n",
    "    geom_point(size=2) + \n",
    "    xlab(\"Radius\") +\n",
    "    ylab(\"Smoothness\") + \n",
    "    theme(text = element_text(size = 30))"
   ]
  },
  {
   "cell_type": "code",
   "execution_count": null,
   "metadata": {},
   "outputs": [],
   "source": [
    "## Your turn: create a scatterplot with perimeter along the x axis and area along the y axis. The plot should\n",
    "## have benign and malignant tumors as different colors. The x- and y- axes should be labelled.\n",
    "\n",
    "## Bonus: add a title to the plot (don't be afraid to use Google!)\n",
    "\n",
    "### BEGIN SOLUTION ###\n",
    "### END SOLUTION ###"
   ]
  },
  {
   "cell_type": "code",
   "execution_count": null,
   "metadata": {},
   "outputs": [],
   "source": [
    "## Your turn: produce a bar chart that represents the number of rows of malignant data and the number of rows of benign\n",
    "## data. You'll have to do some data wrangling to get the data that we want.\n",
    "\n",
    "### BEGIN SOLUTION ###\n",
    "### END SOLUTION ###"
   ]
  },
  {
   "cell_type": "code",
   "execution_count": null,
   "metadata": {},
   "outputs": [],
   "source": [
    "## Your turn: create some kind of other plot that is not a violin, and not a scatterplot, \n",
    "## using the skills you learned today. Show it off to the group!\n",
    "\n",
    "### BEGIN SOLUTION ###\n",
    "### END SOLUTION ###"
   ]
  },
  {
   "cell_type": "code",
   "execution_count": null,
   "metadata": {},
   "outputs": [],
   "source": [
    "## Your turn: create a visualization of the old_faithful data from earlier, but only include observations where the\n",
    "## geyser has been waiting for 80 or more years!\n",
    "\n",
    "## Here's the data frame again, so you can see it printed out.\n",
    "\n",
    "head(old_faithful)\n",
    "\n",
    "### BEGIN SOLUTION ###\n",
    "### END SOLUTION ###"
   ]
  },
  {
   "cell_type": "markdown",
   "metadata": {},
   "source": [
    "Now we now how to wrangle data from the internet and visualize it using the ggplot library in R. What else is left to do? Well, inference! \n",
    "\n",
    "Our next goal is to predict whether or not a new tumor is benign or malignant. Given the plots you made above, how do you think we could make this kind of prediction?"
   ]
  },
  {
   "cell_type": "code",
   "execution_count": null,
   "metadata": {},
   "outputs": [],
   "source": [
    "## Your turn: write down an idea you have for how we could predict whether or not a new tumor is malignant or benign\n",
    "\n",
    "### BEGIN SOLUTION ###\n",
    "### END SOLUTION ###"
   ]
  },
  {
   "cell_type": "markdown",
   "metadata": {},
   "source": [
    "#### 3.X—Challenge"
   ]
  },
  {
   "cell_type": "code",
   "execution_count": null,
   "metadata": {},
   "outputs": [],
   "source": [
    "## Your turn: Create a 3D scatterplot. That is, use three predictors \n",
    "## (the third one is your choice, two should be radius and smoothness). The plot should still be colored.\n",
    "\n",
    "## Hint: this is a really tough question. You'll have to use another library, plotly, to achieve this. \n",
    "## Learning how will require all the skills you learned today! \n",
    "## Check out a good starter article here: \n",
    "## https://www.datanovia.com/en/blog/how-to-create-a-ggplot-like-3d-scatter-plot-using-plotly/\n",
    "\n",
    "## Remember: copy and paste if your friend! Don't reinvent the wheel. Also, don't be afraid to ask your TA for help.\n",
    "\n",
    "### BEGIN SOLUTION ###\n",
    "### END SOLUTION ###"
   ]
  },
  {
   "cell_type": "markdown",
   "metadata": {},
   "source": [
    "##### PART II — 1 hour"
   ]
  },
  {
   "cell_type": "markdown",
   "metadata": {},
   "source": [
    "Attend part 2 of this workshop series to see how you can extend what we've just done to predict whether or not a tumor is benign or malignant!\n",
    "\n",
    "Thank you so much for attending part 1 ✨ I hope you enjoyed!"
   ]
  }
 ],
 "metadata": {
  "kernelspec": {
   "display_name": "R",
   "language": "R",
   "name": "ir"
  },
  "language_info": {
   "codemirror_mode": "r",
   "file_extension": ".r",
   "mimetype": "text/x-r-source",
   "name": "R",
   "pygments_lexer": "r",
   "version": "4.0.2"
  }
 },
 "nbformat": 4,
 "nbformat_minor": 4
}
