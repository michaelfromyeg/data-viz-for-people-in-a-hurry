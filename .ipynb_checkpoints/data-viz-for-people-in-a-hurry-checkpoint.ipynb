{
 "cells": [
  {
   "cell_type": "code",
   "execution_count": 1,
   "metadata": {},
   "outputs": [],
   "source": [
    "# Uncomment these lines if necessary!\n",
    "# install.packages(\"testthat\")\n",
    "# install.packages(\"IRdisplay\")\n",
    "# install.packages(\"tidyverse\")\n",
    "# install.packages(\"tidymodels\")"
   ]
  },
  {
   "cell_type": "code",
   "execution_count": 2,
   "metadata": {},
   "outputs": [
    {
     "name": "stderr",
     "output_type": "stream",
     "text": [
      "Warning message:\n",
      "\"package 'testthat' was built under R version 4.0.3\"\n",
      "Warning message:\n",
      "\"package 'IRdisplay' was built under R version 4.0.3\"\n",
      "Warning message:\n",
      "\"package 'tidyverse' was built under R version 4.0.3\"\n",
      "-- \u001b[1mAttaching packages\u001b[22m --------------------------------------- tidyverse 1.3.0 --\n",
      "\n",
      "\u001b[32mv\u001b[39m \u001b[34mggplot2\u001b[39m 3.3.2     \u001b[32mv\u001b[39m \u001b[34mpurrr  \u001b[39m 0.3.4\n",
      "\u001b[32mv\u001b[39m \u001b[34mtibble \u001b[39m 3.0.3     \u001b[32mv\u001b[39m \u001b[34mdplyr  \u001b[39m 1.0.2\n",
      "\u001b[32mv\u001b[39m \u001b[34mtidyr  \u001b[39m 1.1.2     \u001b[32mv\u001b[39m \u001b[34mstringr\u001b[39m 1.4.0\n",
      "\u001b[32mv\u001b[39m \u001b[34mreadr  \u001b[39m 1.3.1     \u001b[32mv\u001b[39m \u001b[34mforcats\u001b[39m 0.5.0\n",
      "\n",
      "-- \u001b[1mConflicts\u001b[22m ------------------------------------------ tidyverse_conflicts() --\n",
      "\u001b[31mx\u001b[39m \u001b[34mdplyr\u001b[39m::\u001b[32mfilter()\u001b[39m  masks \u001b[34mstats\u001b[39m::filter()\n",
      "\u001b[31mx\u001b[39m \u001b[34mpurrr\u001b[39m::\u001b[32mis_null()\u001b[39m masks \u001b[34mtestthat\u001b[39m::is_null()\n",
      "\u001b[31mx\u001b[39m \u001b[34mdplyr\u001b[39m::\u001b[32mlag()\u001b[39m     masks \u001b[34mstats\u001b[39m::lag()\n",
      "\u001b[31mx\u001b[39m \u001b[34mdplyr\u001b[39m::\u001b[32mmatches()\u001b[39m masks \u001b[34mtidyr\u001b[39m::matches(), \u001b[34mtestthat\u001b[39m::matches()\n",
      "\n",
      "Warning message:\n",
      "\"package 'tidymodels' was built under R version 4.0.3\"\n",
      "-- \u001b[1mAttaching packages\u001b[22m -------------------------------------- tidymodels 0.1.1 --\n",
      "\n",
      "\u001b[32mv\u001b[39m \u001b[34mbroom    \u001b[39m 0.7.0      \u001b[32mv\u001b[39m \u001b[34mrecipes  \u001b[39m 0.1.13\n",
      "\u001b[32mv\u001b[39m \u001b[34mdials    \u001b[39m 0.0.9      \u001b[32mv\u001b[39m \u001b[34mrsample  \u001b[39m 0.0.8 \n",
      "\u001b[32mv\u001b[39m \u001b[34minfer    \u001b[39m 0.5.3      \u001b[32mv\u001b[39m \u001b[34mtune     \u001b[39m 0.1.1 \n",
      "\u001b[32mv\u001b[39m \u001b[34mmodeldata\u001b[39m 0.1.0      \u001b[32mv\u001b[39m \u001b[34mworkflows\u001b[39m 0.2.1 \n",
      "\u001b[32mv\u001b[39m \u001b[34mparsnip  \u001b[39m 0.1.4      \u001b[32mv\u001b[39m \u001b[34myardstick\u001b[39m 0.0.7 \n",
      "\n",
      "Warning message:\n",
      "\"package 'dials' was built under R version 4.0.3\"\n",
      "Warning message:\n",
      "\"package 'infer' was built under R version 4.0.3\"\n",
      "Warning message:\n",
      "\"package 'modeldata' was built under R version 4.0.3\"\n",
      "Warning message:\n",
      "\"package 'parsnip' was built under R version 4.0.3\"\n",
      "Warning message:\n",
      "\"package 'rsample' was built under R version 4.0.3\"\n",
      "Warning message:\n",
      "\"package 'tune' was built under R version 4.0.3\"\n",
      "Warning message:\n",
      "\"package 'workflows' was built under R version 4.0.3\"\n",
      "Warning message:\n",
      "\"package 'yardstick' was built under R version 4.0.3\"\n",
      "-- \u001b[1mConflicts\u001b[22m ----------------------------------------- tidymodels_conflicts() --\n",
      "\u001b[31mx\u001b[39m \u001b[34mscales\u001b[39m::\u001b[32mdiscard()\u001b[39m masks \u001b[34mpurrr\u001b[39m::discard()\n",
      "\u001b[31mx\u001b[39m \u001b[34mdplyr\u001b[39m::\u001b[32mfilter()\u001b[39m   masks \u001b[34mstats\u001b[39m::filter()\n",
      "\u001b[31mx\u001b[39m \u001b[34mrecipes\u001b[39m::\u001b[32mfixed()\u001b[39m  masks \u001b[34mstringr\u001b[39m::fixed()\n",
      "\u001b[31mx\u001b[39m \u001b[34mpurrr\u001b[39m::\u001b[32mis_null()\u001b[39m  masks \u001b[34mtestthat\u001b[39m::is_null()\n",
      "\u001b[31mx\u001b[39m \u001b[34mdplyr\u001b[39m::\u001b[32mlag()\u001b[39m      masks \u001b[34mstats\u001b[39m::lag()\n",
      "\u001b[31mx\u001b[39m \u001b[34mdplyr\u001b[39m::\u001b[32mmatches()\u001b[39m  masks \u001b[34mtidyr\u001b[39m::matches(), \u001b[34mtestthat\u001b[39m::matches()\n",
      "\u001b[31mx\u001b[39m \u001b[34myardstick\u001b[39m::\u001b[32mspec()\u001b[39m masks \u001b[34mreadr\u001b[39m::spec()\n",
      "\u001b[31mx\u001b[39m \u001b[34mrecipes\u001b[39m::\u001b[32mstep()\u001b[39m   masks \u001b[34mstats\u001b[39m::step()\n",
      "\n"
     ]
    }
   ],
   "source": [
    "library(testthat)\n",
    "library(IRdisplay)\n",
    "library(tidyverse)\n",
    "library(tidymodels)"
   ]
  },
  {
   "cell_type": "markdown",
   "metadata": {
    "tags": []
   },
   "source": [
    "<h1 style=\"text-align: center;\">Data Visualization for People in a Hurry</h1>\n",
    "<p style=\"text-align: center;\"><i>an nwPlus workshop ✨</i></p>\n",
    "\n",
    "Workshop slides available [here](https://docs.google.com/presentation/d/e/2PACX-1vSPf9e7YfHleOqbkfxuiwXBQNh59jhZoULyXrwL1X1TO8I9IGdlG5lFN4zAlvFEtH0CNnOM_WhpyasR/pub?start=true&loop=true&delayms=30000).\n",
    "\n",
    "### Goals 🎯\n",
    "- Produce your first visualization of data using the R programming language\n",
    "- Learn about how data science can enhance your workflow in non-programming courses\n",
    "- Explore data science at UBC, in the context of hackathons, and in the working world\n",
    "\n",
    "\n",
    "### Links 🔗\n",
    "\n",
    "- **GitHub repository:** Source code [here](https://github.com/michaelfromyeg/data-viz-for-people-in-a-hurry) (currently private).\n",
    "- **Data set:** Available [here](https://www.kaggle.com/uciml/breast-cancer-wisconsin-data), from Kaggle, or [here](https://archive.ics.uci.edu/ml/datasets/Breast+Cancer+Wisconsin+(Diagnostic)), directly from UCI. It's also included in the repo!\n",
    "\n",
    "**Credits**\n",
    "\n",
    "I was inspired by a few other sources for this workshop that I recommend you check out!\n",
    "\n",
    "- [R Workshop Notes](http://tutorials.iq.harvard.edu/R/Rintro/Rintro.html), *Harvard University* — good background to R\n",
    "- [Learn X in Y Minutes: R](https://learnxinyminutes.com/docs/r/), *Learn X in Y Mintues* — good refresher for syntax\n",
    "- [Introduction to Data Science](https://ubc-dsci.github.io/introduction-to-datascience/index.html), *Tiffany-Anne Timbers, Trevor Campbell, Melissa Lee* — UBC's DSCI 100 course textbook"
   ]
  },
  {
   "cell_type": "markdown",
   "metadata": {},
   "source": [
    "##### PART I — 1 hour"
   ]
  },
  {
   "cell_type": "markdown",
   "metadata": {},
   "source": [
    "### 1—What is data science? 🤔\n",
    "⏱ **10 mins**\n",
    "\n",
    "See the [workshop slides](https://docs.google.com/presentation/d/e/2PACX-1vSPf9e7YfHleOqbkfxuiwXBQNh59jhZoULyXrwL1X1TO8I9IGdlG5lFN4zAlvFEtH0CNnOM_WhpyasR/pub?start=true&loop=true&delayms=30000) for more information.\n",
    "\n",
    "#### 1.1—An introduction to data science\n",
    "\n",
    "#### 1.2—A four part process\n",
    "\n",
    "#### 1.3—The big picture\n"
   ]
  },
  {
   "cell_type": "markdown",
   "metadata": {},
   "source": [
    "### 2—Wranglin' data 🤠\n",
    "⏱ **20 mins**\n",
    "\n",
    "#### 2.0—R\n",
    "\n",
    "R can be sometimes a bit tricky to read. Here's the basic syntax you need to know for today.\n",
    "\n",
    "- Assigning a variable\n",
    "- Method calls\n",
    "- Parameters\n",
    "- Printing to your notebook cell's output\n",
    "\n",
    "We'll learn each of these as we go, but up front, let's get comfortable with variables.\n",
    "\n",
    "#### Variables"
   ]
  },
  {
   "cell_type": "code",
   "execution_count": 3,
   "metadata": {},
   "outputs": [
    {
     "data": {
      "text/html": [
       "9"
      ],
      "text/latex": [
       "9"
      ],
      "text/markdown": [
       "9"
      ],
      "text/plain": [
       "[1] 9"
      ]
     },
     "metadata": {},
     "output_type": "display_data"
    }
   ],
   "source": [
    "# Variables\n",
    "\n",
    "## Hold on to data (allow you to save a result or calculation)\n",
    "## Can \"change\" (i.e., vary, hence variable)\n",
    "## One created, available anywhere in your program \n",
    "##   (including later blocks of code)\n",
    "\n",
    "## To assign a variable in R, we use a fancy arrow, \"<-\"\n",
    "## The arrow means, take the thing on the right hand side and save it\n",
    "## to the variable on the left\n",
    "\n",
    "5 + 4 # This does not save our result anywhere!\n",
    "x <- 5 + 4"
   ]
  },
  {
   "cell_type": "code",
   "execution_count": 4,
   "metadata": {},
   "outputs": [
    {
     "data": {
      "text/html": [
       "9"
      ],
      "text/latex": [
       "9"
      ],
      "text/markdown": [
       "9"
      ],
      "text/plain": [
       "[1] 9"
      ]
     },
     "metadata": {},
     "output_type": "display_data"
    },
    {
     "name": "stdout",
     "output_type": "stream",
     "text": [
      "[1] 9\n",
      "[1] 11\n"
     ]
    }
   ],
   "source": [
    "# Printing data\n",
    "\n",
    "## To print any data in R, we can simply \"put\" the variable on its own line\n",
    "## If you want to be more explicit about it you can also write `print(my_variable)`\n",
    "## Note the syntax here and lack of spaces. We write print(...), where ... is the variable we want to print. \n",
    "## It's often said that the ... is \"wrapped\" by parentheses.\n",
    "\n",
    "x # We can access x down here!\n",
    "print(x) # Wrapping \"x\" by ()\n",
    "print(x + 2)"
   ]
  },
  {
   "cell_type": "code",
   "execution_count": 5,
   "metadata": {},
   "outputs": [],
   "source": [
    "# Your turn: in this cell, create a variable y that is equal to 7. \n",
    "# Then, created a variable z that is equal to the sum of x and y.\n",
    "# Finally, print z\n",
    "\n",
    "### BEGIN SOLUTION ###\n",
    "y <- 7\n",
    "z <- x + y\n",
    "### END SOLUTION ###"
   ]
  },
  {
   "cell_type": "code",
   "execution_count": 7,
   "metadata": {},
   "outputs": [
    {
     "name": "stdout",
     "output_type": "stream",
     "text": [
      "\u001b[32mTest passed\u001b[39m \n",
      "\u001b[32mTest passed\u001b[39m \n"
     ]
    }
   ],
   "source": [
    "# These tests will tell you if you're on the right track. Once you run this cell, it should simply say \"Test passed\"\n",
    "\n",
    "test_that(\"y is correct\", {\n",
    "  expect_equal(y, 7)\n",
    "})\n",
    "test_that(\"z is correct\", {\n",
    "  expect_equal(z, 16)\n",
    "})"
   ]
  },
  {
   "cell_type": "code",
   "execution_count": null,
   "metadata": {},
   "outputs": [],
   "source": [
    "paste(x, y) # Should be 'hello world'"
   ]
  },
  {
   "cell_type": "code",
   "execution_count": null,
   "metadata": {},
   "outputs": [],
   "source": [
    "test_that(\"hello world prints\", {\n",
    "  expect_equal(paste(x, y), \"hello world\")\n",
    "})"
   ]
  },
  {
   "cell_type": "markdown",
   "metadata": {},
   "source": [
    "#### 2.1—Importing data\n",
    "\n",
    "The first step is to import our data set, but we have to learn a bit more about R to do that."
   ]
  },
  {
   "cell_type": "code",
   "execution_count": null,
   "metadata": {},
   "outputs": [],
   "source": [
    "# Functions\n",
    "## This concept is very similar to math. Your classic y = f(x) is verymuchso the same concept in programming, \n",
    "## under the same name. We use functions to map 0-to-many inputs (called parameters, or arguments) to an \n",
    "## output, often called the result or return value. \n",
    "\n",
    "## The general form of a function *call* (this means we're using the function, that is, producing our y value) is,\n",
    "## result <- my_function(argument1, argument2, ..., argumentN) [see how this mirrors y = f(x)?]\n",
    "\n",
    "## When working with R, we very rarely create our own function (such as, saying h(x) = (x + 3) / 2), but we do use other\n",
    "## people's functions. Let's practice that!\n",
    "\n",
    "## Your turn: call the help function with a single argument, also just the text help (not the string \"help\"!)\n",
    "\n",
    "### BEGIN SOLUTION\n",
    "### END SOLUTION\n",
    "\n",
    "## Psst... this is how you can access help in R. Try typing in help(print) or help(paste)"
   ]
  },
  {
   "cell_type": "code",
   "execution_count": null,
   "metadata": {},
   "outputs": [],
   "source": [
    "## Your turn: call the print function twice. First, with the number 5, and second, with the string nwPlus.\n",
    "\n",
    "### BEGIN SOLUTION ###\n",
    "### END SOLUTION ###"
   ]
  },
  {
   "cell_type": "code",
   "execution_count": null,
   "metadata": {},
   "outputs": [],
   "source": [
    "# Libraries\n",
    "\n",
    "## To get access to more functions that are already \"built in\" to R, we need to access things called libraries.\n",
    "## You can think of libraries as collections of functions that make R much more powerful. \n",
    "## For today's workshop, we just need one library, called tidyverse. To import a library, we use the library(...) function;\n",
    "## it accepts a library's name as the parameter (not as a string, just the actual text name).\n",
    "\n",
    "## P.S. Sometimes, we need to install a library first before we use it. To do this, just run install.packages(\"...\") where\n",
    "## ... is the name of the desired library.\n",
    "\n",
    "## Your turn: install the caret package and import it \n",
    "\n",
    "### BEGIN SOLUTION ###\n",
    "### END SOLUTION ###"
   ]
  },
  {
   "cell_type": "code",
   "execution_count": null,
   "metadata": {},
   "outputs": [],
   "source": [
    "## Now, finally, let's import the needed libraries for this workshop.\n",
    "library(tidyverse)"
   ]
  },
  {
   "cell_type": "code",
   "execution_count": null,
   "metadata": {},
   "outputs": [],
   "source": [
    "## With the tidyverse package, we get access to a function called `read_csv` that allows us to import data from a URL\n",
    "## (https://www...) or a local file.\n",
    "\n",
    "## Your turn: call the read_csv function with the argument data.csv (this is a local file). Save it to the variable\n",
    "## `cancer_data`\n",
    "\n",
    "### BEGIN SOLUTION ###\n",
    "### END SOLUTION ###"
   ]
  },
  {
   "cell_type": "code",
   "execution_count": null,
   "metadata": {},
   "outputs": [],
   "source": [
    "# Your turn: print out the data you just imported\n",
    "\n",
    "### BEGIN SOLUTION ###\n",
    "### END SOLUTION ###"
   ]
  },
  {
   "cell_type": "code",
   "execution_count": null,
   "metadata": {},
   "outputs": [],
   "source": [
    "display_html(HTML_STRING)\n",
    "test_that(\"cancer data is read in correctly\", {\n",
    "  expect_equal(cancer_data, read_csv(\"data.csv\"))\n",
    "})"
   ]
  },
  {
   "cell_type": "markdown",
   "metadata": {},
   "source": [
    "#### 2.2—Exploring the data\n",
    "\n",
    "Woah, that's a lot of data!\n",
    "\n",
    "Before we know how to clean up the data or visualize it, we need to understand what form the data is in. But, it's really hard to do that when it R spews out that much.\n",
    "\n",
    "Thankfully, there's a few functions we can use to help manage this."
   ]
  },
  {
   "cell_type": "code",
   "execution_count": null,
   "metadata": {},
   "outputs": [],
   "source": [
    "## R provides two functions to visualize a \"slice\" of your data. They're called head and tail.\n",
    "## Let's experiment with them.\n",
    "\n",
    "## Your turn: call the function head with your data as the only argument.\n",
    "\n",
    "### BEGIN SOLUTION ###\n",
    "### END SOLUTION ###"
   ]
  },
  {
   "cell_type": "code",
   "execution_count": null,
   "metadata": {},
   "outputs": [],
   "source": [
    "## Your turn: call the head function with two arguments. First, the data like before. \n",
    "## Second, try adding a number (1, 2, 5, 10). What effect does this have?\n",
    "\n",
    "### BEGIN SOLUTION ###\n",
    "### END SOLUTION ###"
   ]
  },
  {
   "cell_type": "markdown",
   "metadata": {},
   "source": [
    "#### 2.3—Filtering data\n",
    "\n",
    "Great, now we understand what our data looks like! To produce the result we want, we might want to reduce the scope of our analysis, or filter out bad rows. What if we want to count and see the total number of benign tumors? Or get only tumors where the `smoothness_mean` is over a certain value?\n",
    "\n",
    "To solve problems like this, we need to use filter."
   ]
  },
  {
   "cell_type": "code",
   "execution_count": null,
   "metadata": {},
   "outputs": [],
   "source": [
    "## Filter accepts two arguments. The first is your data, and the second is the condition. Conditions can be:\n",
    "### exactly equal ==\n",
    "### greater than > (or, greater than or equal to >=)\n",
    "### less than < (or, less than or equal to <=)\n",
    "\n",
    "## Conditions must produce a true or false value. Let's try working with true and false before we use filter.\n",
    "\n",
    "## Your turn: print the result of 5 == 4. Print the result of 5 == 5. Ntice anything interesting about true and false\n",
    "## (think: in terms of spelling, capitalization, or punctuation)\n",
    "\n",
    "### BEGIN SOLUTION ###\n",
    "### END SOLUTION ###"
   ]
  },
  {
   "cell_type": "code",
   "execution_count": null,
   "metadata": {},
   "outputs": [],
   "source": [
    "## Your turn: print the result of whether or not negative one hundred is greater than zero. Save that to a variable called\n",
    "## is_colder\n",
    "\n",
    "### BEGIN SOLUTION ###\n",
    "### END SOLUTION ###"
   ]
  },
  {
   "cell_type": "code",
   "execution_count": null,
   "metadata": {},
   "outputs": [],
   "source": [
    "display_html(HTML_STRING)\n",
    "test_that(\"is_colder is true\", {\n",
    "  expect_false(is_colder)\n",
    "})"
   ]
  },
  {
   "cell_type": "code",
   "execution_count": null,
   "metadata": {},
   "outputs": [],
   "source": [
    "## Your turn: do the same for malignant rows. (What's the filtering condition?)\n",
    "## Save it to a variable called malignant_rows. Print the tail of that variable.\n",
    "\n",
    "### BEGIN SOLUTION ###\n",
    "### END SOLUTION ###"
   ]
  },
  {
   "cell_type": "code",
   "execution_count": null,
   "metadata": {},
   "outputs": [],
   "source": [
    "## R gives us a very fast way to check the \"size\" of a table (that is, the number of rows).\n",
    "## Fittingly, the function is called nrow.\n",
    "\n",
    "## Your turn: get the number of malignant tumors in the data set and save it to a variable called num_malignant. Do \n",
    "## the same for benign.\n",
    "\n",
    "### BEGIN SOLUTION ###\n",
    "### END SOLUTION ###"
   ]
  },
  {
   "cell_type": "code",
   "execution_count": null,
   "metadata": {},
   "outputs": [],
   "source": [
    "## Your turn: compute the total number of rows in the data set. Save it to a variable called total.\n",
    "\n",
    "### BEGIN SOLUTION ###\n",
    "### END SOLUTION ###"
   ]
  },
  {
   "cell_type": "code",
   "execution_count": null,
   "metadata": {},
   "outputs": [],
   "source": [
    "## Your turn: print the percentage benign, and percentage malignant in the data set.\n",
    "## Hint: this is just a math problem.\n",
    "\n",
    "# Challenge: Try printing it \"well formatted\". That is, only to two decimal places and with a '%' symbol at the end.\n",
    "\n",
    "### BEGIN SOLUTION ###\n",
    "### END SOLUTION ###"
   ]
  },
  {
   "cell_type": "markdown",
   "metadata": {},
   "source": [
    "#### 2.4—Selecting data\n",
    "\n",
    "There are a ton of columns associated with the cancer data. These are sometimes called factors, or aspects. We often want to do our analysis on just a few of those columns. R has an easy way of doing this!"
   ]
  },
  {
   "cell_type": "code",
   "execution_count": null,
   "metadata": {},
   "outputs": [],
   "source": [
    "## The function we use is called \"select\". Select's first parameter must be the data set.\n",
    "## Then, every parameter after must be a column we want to keep.\n",
    "\n",
    "## for example, selected_columns <- select(original_data, column1, column2, ..., columnN)\n",
    "## You can select as many, or as few, columns as you want\n",
    "\n",
    "## Your turn: select only the diagnosis, radius_mean, and smoothness_mean columns from the (original) cancer data. Save\n",
    "## it to a variable called cancer_select.\n",
    "\n",
    "### BEGIN SOLUTION ###\n",
    "### END SOLUTION ###"
   ]
  },
  {
   "cell_type": "code",
   "execution_count": null,
   "metadata": {},
   "outputs": [],
   "source": [
    "## We can also choose to select all columns *except* one (or two, or three, etc.) We do this through the minus symbol.\n",
    "\n",
    "## for example, selected_columns <- select(original_data, -column1, -column2, ..., -columnN)\n",
    "## This removes column1, column2, ..., columnN\n",
    "\n",
    "## Your turn: select every column except the diagnosis column and id column. Save it to a variable called anonymous_data.\n",
    "\n",
    "### BEGIN SOLUTION ###\n",
    "### END SOLUTION ###"
   ]
  },
  {
   "cell_type": "markdown",
   "metadata": {},
   "source": [
    "#### tl;dr\n",
    "\n",
    "This entire process of selecting, filtering, and modifying data is generally referred to as \"wrangling.\" This process is extremely important, because working with good, clean data is vital to producing a good visualization.\n",
    "\n",
    "Want to learn more about what \"clean\" data means? Come to part 2 of this workshop!"
   ]
  },
  {
   "cell_type": "markdown",
   "metadata": {},
   "source": [
    "#### 2.X—Challenge\n",
    "\n",
    "Sometimes data comes with imperfections. Here we learned the tools to \"fix\" those imperfections, but the data we're using doesn't have very many.\n",
    "\n",
    "There is one thing though--the column X33 contains a lot of NA values. What if we wanted to filter those out?"
   ]
  },
  {
   "cell_type": "code",
   "execution_count": null,
   "metadata": {},
   "outputs": [],
   "source": [
    "## Your turn: produce a table that has all of the NAs removed, and contains all of the _worst columns, \n",
    "## including the diagnosis"
   ]
  },
  {
   "cell_type": "markdown",
   "metadata": {},
   "source": [
    "### 3—Your first visualization 📊\n",
    "⏱ **30 mins**\n",
    "\n",
    "#### 3.1—ggplot\n",
    "\n",
    "ggplot is a really fancy R function used to create lots of different kinds of visualizations, or \"plots.\"\n",
    "\n",
    "It is super powerful, and you can create *tons* of different charts with it. The only way to master ggplot is to experiment and try many different things. Here, I'll try to give you a taste of what's possible!"
   ]
  },
  {
   "cell_type": "code",
   "execution_count": null,
   "metadata": {},
   "outputs": [],
   "source": [
    "## Here's a basic scatterplot of the data we've gathered\n",
    "\n",
    "basic_plot <- ggplot(cancer_select, aes(x = radius_mean, y = smoothness_mean)) +\n",
    "    geom_point()\n",
    "basic_plot"
   ]
  },
  {
   "cell_type": "markdown",
   "metadata": {},
   "source": [
    "ggplot looks scary, so let's try to break it down. Firstly, you should recognize ggplot is a function, and takes a series of arguments. The first argument is your data set. The second is the \"aes\", short of the \"aesthetic specifications\". For our purposes, this is just a function that accepts the x and y columns we'd like to use.\n",
    "\n",
    "What is the \"+\" symbol at the end doing? We'll get to that in the next section."
   ]
  },
  {
   "cell_type": "code",
   "execution_count": null,
   "metadata": {},
   "outputs": [],
   "source": [
    "## Your turn: create a scatterplot with perimeter_mean along the x axis and area_mean along the y axis.\n",
    "\n",
    "## Hint: copy and paste is your friend.\n",
    "\n",
    "### BEGIN SOLUTION\n",
    "### END SOLUTION"
   ]
  },
  {
   "cell_type": "code",
   "execution_count": null,
   "metadata": {},
   "outputs": [],
   "source": [
    "## Your turn: using your solution from the last cell, change \"geom_point()\" to \"geom_violin()\". What happens?\n",
    "\n",
    "### BEGIN SOLUTION\n",
    "### END SOLUTION\n",
    "\n",
    "## Psst... see a complete list of different geom_...()s you can put here: https://ggplot2.tidyverse.org/reference/"
   ]
  },
  {
   "cell_type": "markdown",
   "metadata": {},
   "source": [
    "#### 3.2—Adding layers\n",
    "\n",
    "We can add layers to our plot to supply additional graphics; this is also useful for adding additional data, such as a single point, to our graph. Here's a rather involved example."
   ]
  },
  {
   "cell_type": "code",
   "execution_count": null,
   "metadata": {},
   "outputs": [],
   "source": [
    "ggplot(cancer_select, aes(x = radius_mean, \n",
    "                          y = smoothness_mean)) +\n",
    "    geom_point() + \n",
    "    xlab(\"Radius mean\") +\n",
    "    ylab(\"Smoothness mean\") + \n",
    "    geom_smooth(method=lm,   # Add linear regression line\n",
    "                se=FALSE) +    # Don't add shaded confidence region\n",
    "    theme(text = element_text(size = 30))"
   ]
  },
  {
   "cell_type": "markdown",
   "metadata": {},
   "source": [
    "Notice the \"+\" symbol at the end of every line? This is something special we do with ggplot, usually referred to as \"adding layers\". We can make our visualization more complex by adding one \"layer\" at a time. A layer typically refers to something like geom_point()—which adds a point layer to our graph—or geom_smooth() or the countless other layers we can add, but you can also use \"+\" to add things like a theme to your plot, a legend, labels for your x- and y- axes, and more. The possibilities are endless!"
   ]
  },
  {
   "cell_type": "code",
   "execution_count": null,
   "metadata": {},
   "outputs": [],
   "source": [
    "## Your turn: make the font size of basic_plot 60 by adding a layer. Save it to a variable called big_text_plot.\n",
    "\n",
    "# Hint: use the example above.\n",
    "\n",
    "### BEGIN SOLUTION ###\n",
    "### END SOLUTION ###"
   ]
  },
  {
   "cell_type": "markdown",
   "metadata": {},
   "source": [
    "#### 3.3—Getting fancy\n",
    "\n",
    "Scatterplots are cool and all, but what else can we do? What if we wanted to group the points? How can we create a more effective visualization?\n",
    "\n",
    "One thing that might be natural with data like this, where we have a binary grouping (benign or malignant tumors) is to color the data. How do we do that?\n",
    "\n",
    "With aes! Here's an example."
   ]
  },
  {
   "cell_type": "code",
   "execution_count": null,
   "metadata": {},
   "outputs": [],
   "source": [
    "# Change plot size\n",
    "options(repr.plot.width = 10, repr.plot.height = 10, repr.plot.res = 100)\n",
    "\n",
    "ggplot(cancer_select, aes(x = radius_mean, \n",
    "                          y = smoothness_mean, \n",
    "                          color = diagnosis)) +\n",
    "    geom_point() + \n",
    "    xlab(\"Radius mean\") +\n",
    "    ylab(\"Smoothness mean\") + \n",
    "    theme(text = element_text(size = 30))"
   ]
  },
  {
   "cell_type": "code",
   "execution_count": null,
   "metadata": {},
   "outputs": [],
   "source": [
    "## Your turn: create a scatterplot with perimeter_mean along the x axis and area_mean along the y axis. The plot should\n",
    "## have benign tumors colored red, and malignant tumors color orange. The x- and y- axes should be labelled.\n",
    "\n",
    "## Bonus: add a title to the plot (don't be afraid to use Google!)\n",
    "\n",
    "### BEGIN SOLUTION ###\n",
    "### END SOLUTION ###"
   ]
  },
  {
   "cell_type": "code",
   "execution_count": null,
   "metadata": {},
   "outputs": [],
   "source": [
    "## Your turn: create some kind of other plot that is not a violin, and not a scatterplot, \n",
    "## using the skills you learned today.\n",
    "\n",
    "### BEGIN SOLUTION ###\n",
    "### END SOLUTION ###"
   ]
  },
  {
   "cell_type": "markdown",
   "metadata": {},
   "source": [
    "#### 3.X—Challenge"
   ]
  },
  {
   "cell_type": "code",
   "execution_count": null,
   "metadata": {},
   "outputs": [],
   "source": [
    "# Your turn: Create a 3D scatterplot with a line of best fit. That is, use three predictors \n",
    "# (the third one is your choice, two should be radius and smoothness). The plot should still be colored.\n",
    "\n",
    "### BEGIN SOLUTION ###\n",
    "### END SOLUTION ###"
   ]
  },
  {
   "cell_type": "markdown",
   "metadata": {},
   "source": [
    "##### PART II — 1 hour"
   ]
  },
  {
   "cell_type": "markdown",
   "metadata": {},
   "source": [
    "Attend part 2 of this workshop series to see how you can extend what we've just done to predict whether or not a tumor is benign or malignant!\n",
    "\n",
    "Thank you so much for attending part 1 ✨ I hope you enjoyed!"
   ]
  }
 ],
 "metadata": {
  "kernelspec": {
   "display_name": "R",
   "language": "R",
   "name": "ir"
  },
  "language_info": {
   "codemirror_mode": "r",
   "file_extension": ".r",
   "mimetype": "text/x-r-source",
   "name": "R",
   "pygments_lexer": "r",
   "version": "4.0.2"
  }
 },
 "nbformat": 4,
 "nbformat_minor": 4
}
